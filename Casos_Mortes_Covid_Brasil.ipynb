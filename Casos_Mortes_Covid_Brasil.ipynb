{
 "cells": [
  {
   "cell_type": "code",
   "execution_count": 3,
   "metadata": {},
   "outputs": [
    {
     "data": {
      "application/vnd.plotly.v1+json": {
       "config": {
        "plotlyServerURL": "https://plot.ly"
       },
       "data": [
        {
         "hovertemplate": "Dias=%{x}<br>Mortes=%{y}<extra></extra>",
         "legendgroup": "",
         "line": {
          "color": "#636efa",
          "dash": "solid"
         },
         "mode": "lines",
         "name": "",
         "orientation": "v",
         "showlegend": false,
         "type": "scatter",
         "x": [
          "1/22/20",
          "1/23/20",
          "1/24/20",
          "1/25/20",
          "1/26/20",
          "1/27/20",
          "1/28/20",
          "1/29/20",
          "1/30/20",
          "1/31/20",
          "2/1/20",
          "2/2/20",
          "2/3/20",
          "2/4/20",
          "2/5/20",
          "2/6/20",
          "2/7/20",
          "2/8/20",
          "2/9/20",
          "2/10/20",
          "2/11/20",
          "2/12/20",
          "2/13/20",
          "2/14/20",
          "2/15/20",
          "2/16/20",
          "2/17/20",
          "2/18/20",
          "2/19/20",
          "2/20/20",
          "2/21/20",
          "2/22/20",
          "2/23/20",
          "2/24/20",
          "2/25/20",
          "2/26/20",
          "2/27/20",
          "2/28/20",
          "2/29/20",
          "3/1/20",
          "3/2/20",
          "3/3/20",
          "3/4/20",
          "3/5/20",
          "3/6/20",
          "3/7/20",
          "3/8/20",
          "3/9/20",
          "3/10/20",
          "3/11/20",
          "3/12/20",
          "3/13/20",
          "3/14/20",
          "3/15/20",
          "3/16/20",
          "3/17/20",
          "3/18/20",
          "3/19/20",
          "3/20/20",
          "3/21/20",
          "3/22/20",
          "3/23/20",
          "3/24/20",
          "3/25/20",
          "3/26/20",
          "3/27/20",
          "3/28/20",
          "3/29/20",
          "3/30/20",
          "3/31/20",
          "4/1/20",
          "4/2/20",
          "4/3/20",
          "4/4/20",
          "4/5/20",
          "4/6/20",
          "4/7/20",
          "4/8/20",
          "4/9/20",
          "4/10/20",
          "4/11/20",
          "4/12/20",
          "4/13/20",
          "4/14/20",
          "4/15/20",
          "4/16/20",
          "4/17/20",
          "4/18/20",
          "4/19/20",
          "4/20/20",
          "4/21/20",
          "4/22/20",
          "4/23/20",
          "4/24/20",
          "4/25/20",
          "4/26/20",
          "4/27/20",
          "4/28/20",
          "4/29/20",
          "4/30/20",
          "5/1/20",
          "5/2/20",
          "5/3/20",
          "5/4/20",
          "5/5/20",
          "5/6/20",
          "5/7/20",
          "5/8/20",
          "5/9/20",
          "5/10/20",
          "5/11/20",
          "5/12/20",
          "5/13/20",
          "5/14/20",
          "5/15/20",
          "5/16/20",
          "5/17/20",
          "5/18/20",
          "5/19/20",
          "5/20/20",
          "5/21/20",
          "5/22/20",
          "5/23/20",
          "5/24/20",
          "5/25/20",
          "5/26/20",
          "5/27/20",
          "5/28/20",
          "5/29/20",
          "5/30/20",
          "5/31/20",
          "6/1/20",
          "6/2/20",
          "6/3/20",
          "6/4/20",
          "6/5/20",
          "6/6/20",
          "6/7/20",
          "6/8/20",
          "6/9/20",
          "6/10/20",
          "6/11/20",
          "6/12/20",
          "6/13/20",
          "6/14/20",
          "6/15/20",
          "6/16/20",
          "6/17/20",
          "6/18/20",
          "6/19/20",
          "6/20/20",
          "6/21/20",
          "6/22/20",
          "6/23/20",
          "6/24/20",
          "6/25/20",
          "6/26/20",
          "6/27/20",
          "6/28/20",
          "6/29/20",
          "6/30/20",
          "7/1/20",
          "7/2/20",
          "7/3/20",
          "7/4/20",
          "7/5/20",
          "7/6/20",
          "7/7/20",
          "7/8/20",
          "7/9/20",
          "7/10/20",
          "7/11/20",
          "7/12/20",
          "7/13/20",
          "7/14/20",
          "7/15/20",
          "7/16/20",
          "7/17/20",
          "7/18/20",
          "7/19/20",
          "7/20/20",
          "7/21/20",
          "7/22/20",
          "7/23/20",
          "7/24/20",
          "7/25/20",
          "7/26/20",
          "7/27/20",
          "7/28/20",
          "7/29/20",
          "7/30/20",
          "7/31/20",
          "8/1/20",
          "8/2/20",
          "8/3/20",
          "8/4/20",
          "8/5/20",
          "8/6/20",
          "8/7/20",
          "8/8/20",
          "8/9/20",
          "8/10/20",
          "8/11/20",
          "8/12/20",
          "8/13/20",
          "8/14/20",
          "8/15/20",
          "8/16/20",
          "8/17/20",
          "8/18/20",
          "8/19/20",
          "8/20/20",
          "8/21/20",
          "8/22/20",
          "8/23/20",
          "8/24/20",
          "8/25/20",
          "8/26/20",
          "8/27/20",
          "8/28/20",
          "8/29/20",
          "8/30/20",
          "8/31/20",
          "9/1/20",
          "9/2/20",
          "9/3/20",
          "9/4/20",
          "9/5/20",
          "9/6/20",
          "9/7/20",
          "9/8/20",
          "9/9/20",
          "9/10/20",
          "9/11/20",
          "9/12/20",
          "9/13/20",
          "9/14/20",
          "9/15/20",
          "9/16/20",
          "9/17/20",
          "9/18/20",
          "9/19/20",
          "9/20/20",
          "9/21/20",
          "9/22/20",
          "9/23/20",
          "9/24/20",
          "9/25/20",
          "9/26/20",
          "9/27/20",
          "9/28/20",
          "9/29/20",
          "9/30/20",
          "10/1/20",
          "10/2/20",
          "10/3/20",
          "10/4/20",
          "10/5/20",
          "10/6/20",
          "10/7/20",
          "10/8/20",
          "10/9/20",
          "10/10/20",
          "10/11/20",
          "10/12/20",
          "10/13/20",
          "10/14/20",
          "10/15/20",
          "10/16/20",
          "10/17/20",
          "10/18/20",
          "10/19/20",
          "10/20/20",
          "10/21/20",
          "10/22/20",
          "10/23/20",
          "10/24/20",
          "10/25/20",
          "10/26/20",
          "10/27/20",
          "10/28/20",
          "10/29/20",
          "10/30/20",
          "10/31/20",
          "11/1/20",
          "11/2/20",
          "11/3/20",
          "11/4/20",
          "11/5/20",
          "11/6/20",
          "11/7/20",
          "11/8/20",
          "11/9/20",
          "11/10/20",
          "11/11/20",
          "11/12/20",
          "11/13/20",
          "11/14/20",
          "11/15/20",
          "11/16/20",
          "11/17/20",
          "11/18/20",
          "11/19/20",
          "11/20/20",
          "11/21/20",
          "11/22/20",
          "11/23/20",
          "11/24/20",
          "11/25/20",
          "11/26/20",
          "11/27/20",
          "11/28/20",
          "11/29/20",
          "11/30/20",
          "12/1/20",
          "12/2/20",
          "12/3/20",
          "12/4/20",
          "12/5/20",
          "12/6/20",
          "12/7/20",
          "12/8/20",
          "12/9/20",
          "12/10/20",
          "12/11/20",
          "12/12/20",
          "12/13/20",
          "12/14/20",
          "12/15/20",
          "12/16/20",
          "12/17/20",
          "12/18/20",
          "12/19/20",
          "12/20/20",
          "12/21/20",
          "12/22/20",
          "12/23/20",
          "12/24/20",
          "12/25/20",
          "12/26/20",
          "12/27/20",
          "12/28/20",
          "12/29/20",
          "12/30/20",
          "12/31/20",
          "1/1/21",
          "1/2/21",
          "1/3/21",
          "1/4/21",
          "1/5/21",
          "1/6/21",
          "1/7/21",
          "1/8/21",
          "1/9/21",
          "1/10/21",
          "1/11/21",
          "1/12/21",
          "1/13/21",
          "1/14/21",
          "1/15/21",
          "1/16/21",
          "1/17/21",
          "1/18/21",
          "1/19/21",
          "1/20/21",
          "1/21/21",
          "1/22/21",
          "1/23/21",
          "1/24/21",
          "1/25/21",
          "1/26/21",
          "1/27/21",
          "1/28/21",
          "1/29/21",
          "1/30/21",
          "1/31/21",
          "2/1/21",
          "2/2/21",
          "2/3/21",
          "2/4/21",
          "2/5/21",
          "2/6/21",
          "2/7/21",
          "2/8/21",
          "2/9/21",
          "2/10/21",
          "2/11/21",
          "2/12/21",
          "2/13/21",
          "2/14/21",
          "2/15/21",
          "2/16/21",
          "2/17/21",
          "2/18/21",
          "2/19/21",
          "2/20/21",
          "2/21/21",
          "2/22/21",
          "2/23/21"
         ],
         "xaxis": "x",
         "y": [
          0,
          0,
          0,
          0,
          0,
          0,
          0,
          0,
          0,
          0,
          0,
          0,
          0,
          0,
          0,
          0,
          0,
          0,
          0,
          0,
          0,
          0,
          0,
          0,
          0,
          0,
          0,
          0,
          0,
          0,
          0,
          0,
          0,
          0,
          0,
          0,
          0,
          0,
          0,
          0,
          0,
          0,
          0,
          0,
          0,
          0,
          0,
          0,
          0,
          0,
          0,
          0,
          0,
          0,
          0,
          1,
          3,
          6,
          11,
          15,
          25,
          34,
          46,
          59,
          77,
          92,
          111,
          136,
          159,
          201,
          240,
          324,
          359,
          445,
          486,
          564,
          686,
          819,
          950,
          1057,
          1124,
          1223,
          1328,
          1532,
          1736,
          1924,
          2141,
          2354,
          2462,
          2587,
          2741,
          2906,
          3331,
          3704,
          4057,
          4286,
          4603,
          5083,
          5513,
          6006,
          6412,
          6761,
          7051,
          7367,
          7938,
          8588,
          9190,
          10017,
          10656,
          11123,
          11653,
          12461,
          13240,
          13999,
          14962,
          15662,
          16118,
          16853,
          17983,
          18859,
          20047,
          21048,
          22013,
          22666,
          23473,
          24512,
          25598,
          26754,
          27878,
          28834,
          29314,
          29937,
          31199,
          32548,
          34021,
          35026,
          35930,
          36455,
          37134,
          38406,
          39680,
          40919,
          41828,
          42720,
          43332,
          43959,
          45241,
          46510,
          47748,
          48954,
          49976,
          50591,
          51271,
          52645,
          53830,
          54971,
          55961,
          57070,
          57622,
          58314,
          59594,
          60632,
          61884,
          63174,
          64265,
          64867,
          65487,
          66741,
          67964,
          69184,
          70398,
          71469,
          72100,
          72833,
          74133,
          75366,
          76688,
          77851,
          78772,
          79488,
          80120,
          81487,
          82771,
          84082,
          85238,
          86449,
          87004,
          87618,
          88539,
          90134,
          91263,
          92475,
          93563,
          94104,
          94665,
          95819,
          97256,
          98493,
          99572,
          100477,
          101049,
          101752,
          103026,
          104201,
          105463,
          106523,
          107232,
          107852,
          108536,
          109888,
          111100,
          112304,
          113358,
          114250,
          114744,
          115309,
          116580,
          117665,
          118649,
          119504,
          120262,
          120828,
          121381,
          122596,
          123780,
          124614,
          125502,
          126203,
          126650,
          126960,
          127464,
          128539,
          129522,
          130396,
          131210,
          131625,
          132006,
          133119,
          134106,
          134935,
          135793,
          136532,
          136895,
          137272,
          138105,
          138105,
          139808,
          140537,
          141406,
          141741,
          142058,
          142921,
          143952,
          144680,
          144680,
          145987,
          146352,
          146675,
          147494,
          148228,
          148957,
          149639,
          150198,
          150488,
          150689,
          150998,
          151747,
          152460,
          153214,
          153675,
          153675,
          154176,
          154837,
          155403,
          155900,
          156471,
          156903,
          157134,
          157397,
          157946,
          158456,
          158969,
          159477,
          159884,
          160074,
          160253,
          160496,
          161106,
          161106,
          162015,
          162269,
          162397,
          162628,
          162802,
          163368,
          164281,
          164737,
          165658,
          165798,
          166014,
          166699,
          167455,
          168061,
          168613,
          168989,
          169183,
          169485,
          170115,
          170769,
          171460,
          171974,
          172561,
          172833,
          173120,
          173817,
          174515,
          175270,
          175964,
          176628,
          176941,
          177317,
          178159,
          178995,
          179765,
          180437,
          181123,
          181402,
          181835,
          182799,
          183735,
          184827,
          185650,
          186356,
          186764,
          187291,
          188259,
          189220,
          189982,
          190488,
          190795,
          191139,
          191570,
          192681,
          193875,
          194949,
          195411,
          195725,
          196018,
          196561,
          197732,
          198974,
          200498,
          201460,
          202631,
          203100,
          203580,
          204690,
          205964,
          207095,
          208246,
          209296,
          209847,
          210299,
          211491,
          212831,
          214147,
          215243,
          216445,
          217037,
          217664,
          218878,
          220161,
          221547,
          222666,
          223945,
          224504,
          225099,
          226309,
          227563,
          228795,
          230034,
          230034,
          231534,
          231534,
          233520,
          234850,
          236201,
          237489,
          238532,
          239245,
          239773,
          240940,
          242090,
          243457,
          244737,
          245977,
          246504,
          247143,
          248529
         ],
         "yaxis": "y"
        }
       ],
       "layout": {
        "autosize": true,
        "legend": {
         "tracegroupgap": 0
        },
        "template": {
         "data": {
          "bar": [
           {
            "error_x": {
             "color": "#2a3f5f"
            },
            "error_y": {
             "color": "#2a3f5f"
            },
            "marker": {
             "line": {
              "color": "#E5ECF6",
              "width": 0.5
             }
            },
            "type": "bar"
           }
          ],
          "barpolar": [
           {
            "marker": {
             "line": {
              "color": "#E5ECF6",
              "width": 0.5
             }
            },
            "type": "barpolar"
           }
          ],
          "carpet": [
           {
            "aaxis": {
             "endlinecolor": "#2a3f5f",
             "gridcolor": "white",
             "linecolor": "white",
             "minorgridcolor": "white",
             "startlinecolor": "#2a3f5f"
            },
            "baxis": {
             "endlinecolor": "#2a3f5f",
             "gridcolor": "white",
             "linecolor": "white",
             "minorgridcolor": "white",
             "startlinecolor": "#2a3f5f"
            },
            "type": "carpet"
           }
          ],
          "choropleth": [
           {
            "colorbar": {
             "outlinewidth": 0,
             "ticks": ""
            },
            "type": "choropleth"
           }
          ],
          "contour": [
           {
            "colorbar": {
             "outlinewidth": 0,
             "ticks": ""
            },
            "colorscale": [
             [
              0,
              "#0d0887"
             ],
             [
              0.1111111111111111,
              "#46039f"
             ],
             [
              0.2222222222222222,
              "#7201a8"
             ],
             [
              0.3333333333333333,
              "#9c179e"
             ],
             [
              0.4444444444444444,
              "#bd3786"
             ],
             [
              0.5555555555555556,
              "#d8576b"
             ],
             [
              0.6666666666666666,
              "#ed7953"
             ],
             [
              0.7777777777777778,
              "#fb9f3a"
             ],
             [
              0.8888888888888888,
              "#fdca26"
             ],
             [
              1,
              "#f0f921"
             ]
            ],
            "type": "contour"
           }
          ],
          "contourcarpet": [
           {
            "colorbar": {
             "outlinewidth": 0,
             "ticks": ""
            },
            "type": "contourcarpet"
           }
          ],
          "heatmap": [
           {
            "colorbar": {
             "outlinewidth": 0,
             "ticks": ""
            },
            "colorscale": [
             [
              0,
              "#0d0887"
             ],
             [
              0.1111111111111111,
              "#46039f"
             ],
             [
              0.2222222222222222,
              "#7201a8"
             ],
             [
              0.3333333333333333,
              "#9c179e"
             ],
             [
              0.4444444444444444,
              "#bd3786"
             ],
             [
              0.5555555555555556,
              "#d8576b"
             ],
             [
              0.6666666666666666,
              "#ed7953"
             ],
             [
              0.7777777777777778,
              "#fb9f3a"
             ],
             [
              0.8888888888888888,
              "#fdca26"
             ],
             [
              1,
              "#f0f921"
             ]
            ],
            "type": "heatmap"
           }
          ],
          "heatmapgl": [
           {
            "colorbar": {
             "outlinewidth": 0,
             "ticks": ""
            },
            "colorscale": [
             [
              0,
              "#0d0887"
             ],
             [
              0.1111111111111111,
              "#46039f"
             ],
             [
              0.2222222222222222,
              "#7201a8"
             ],
             [
              0.3333333333333333,
              "#9c179e"
             ],
             [
              0.4444444444444444,
              "#bd3786"
             ],
             [
              0.5555555555555556,
              "#d8576b"
             ],
             [
              0.6666666666666666,
              "#ed7953"
             ],
             [
              0.7777777777777778,
              "#fb9f3a"
             ],
             [
              0.8888888888888888,
              "#fdca26"
             ],
             [
              1,
              "#f0f921"
             ]
            ],
            "type": "heatmapgl"
           }
          ],
          "histogram": [
           {
            "marker": {
             "colorbar": {
              "outlinewidth": 0,
              "ticks": ""
             }
            },
            "type": "histogram"
           }
          ],
          "histogram2d": [
           {
            "colorbar": {
             "outlinewidth": 0,
             "ticks": ""
            },
            "colorscale": [
             [
              0,
              "#0d0887"
             ],
             [
              0.1111111111111111,
              "#46039f"
             ],
             [
              0.2222222222222222,
              "#7201a8"
             ],
             [
              0.3333333333333333,
              "#9c179e"
             ],
             [
              0.4444444444444444,
              "#bd3786"
             ],
             [
              0.5555555555555556,
              "#d8576b"
             ],
             [
              0.6666666666666666,
              "#ed7953"
             ],
             [
              0.7777777777777778,
              "#fb9f3a"
             ],
             [
              0.8888888888888888,
              "#fdca26"
             ],
             [
              1,
              "#f0f921"
             ]
            ],
            "type": "histogram2d"
           }
          ],
          "histogram2dcontour": [
           {
            "colorbar": {
             "outlinewidth": 0,
             "ticks": ""
            },
            "colorscale": [
             [
              0,
              "#0d0887"
             ],
             [
              0.1111111111111111,
              "#46039f"
             ],
             [
              0.2222222222222222,
              "#7201a8"
             ],
             [
              0.3333333333333333,
              "#9c179e"
             ],
             [
              0.4444444444444444,
              "#bd3786"
             ],
             [
              0.5555555555555556,
              "#d8576b"
             ],
             [
              0.6666666666666666,
              "#ed7953"
             ],
             [
              0.7777777777777778,
              "#fb9f3a"
             ],
             [
              0.8888888888888888,
              "#fdca26"
             ],
             [
              1,
              "#f0f921"
             ]
            ],
            "type": "histogram2dcontour"
           }
          ],
          "mesh3d": [
           {
            "colorbar": {
             "outlinewidth": 0,
             "ticks": ""
            },
            "type": "mesh3d"
           }
          ],
          "parcoords": [
           {
            "line": {
             "colorbar": {
              "outlinewidth": 0,
              "ticks": ""
             }
            },
            "type": "parcoords"
           }
          ],
          "pie": [
           {
            "automargin": true,
            "type": "pie"
           }
          ],
          "scatter": [
           {
            "marker": {
             "colorbar": {
              "outlinewidth": 0,
              "ticks": ""
             }
            },
            "type": "scatter"
           }
          ],
          "scatter3d": [
           {
            "line": {
             "colorbar": {
              "outlinewidth": 0,
              "ticks": ""
             }
            },
            "marker": {
             "colorbar": {
              "outlinewidth": 0,
              "ticks": ""
             }
            },
            "type": "scatter3d"
           }
          ],
          "scattercarpet": [
           {
            "marker": {
             "colorbar": {
              "outlinewidth": 0,
              "ticks": ""
             }
            },
            "type": "scattercarpet"
           }
          ],
          "scattergeo": [
           {
            "marker": {
             "colorbar": {
              "outlinewidth": 0,
              "ticks": ""
             }
            },
            "type": "scattergeo"
           }
          ],
          "scattergl": [
           {
            "marker": {
             "colorbar": {
              "outlinewidth": 0,
              "ticks": ""
             }
            },
            "type": "scattergl"
           }
          ],
          "scattermapbox": [
           {
            "marker": {
             "colorbar": {
              "outlinewidth": 0,
              "ticks": ""
             }
            },
            "type": "scattermapbox"
           }
          ],
          "scatterpolar": [
           {
            "marker": {
             "colorbar": {
              "outlinewidth": 0,
              "ticks": ""
             }
            },
            "type": "scatterpolar"
           }
          ],
          "scatterpolargl": [
           {
            "marker": {
             "colorbar": {
              "outlinewidth": 0,
              "ticks": ""
             }
            },
            "type": "scatterpolargl"
           }
          ],
          "scatterternary": [
           {
            "marker": {
             "colorbar": {
              "outlinewidth": 0,
              "ticks": ""
             }
            },
            "type": "scatterternary"
           }
          ],
          "surface": [
           {
            "colorbar": {
             "outlinewidth": 0,
             "ticks": ""
            },
            "colorscale": [
             [
              0,
              "#0d0887"
             ],
             [
              0.1111111111111111,
              "#46039f"
             ],
             [
              0.2222222222222222,
              "#7201a8"
             ],
             [
              0.3333333333333333,
              "#9c179e"
             ],
             [
              0.4444444444444444,
              "#bd3786"
             ],
             [
              0.5555555555555556,
              "#d8576b"
             ],
             [
              0.6666666666666666,
              "#ed7953"
             ],
             [
              0.7777777777777778,
              "#fb9f3a"
             ],
             [
              0.8888888888888888,
              "#fdca26"
             ],
             [
              1,
              "#f0f921"
             ]
            ],
            "type": "surface"
           }
          ],
          "table": [
           {
            "cells": {
             "fill": {
              "color": "#EBF0F8"
             },
             "line": {
              "color": "white"
             }
            },
            "header": {
             "fill": {
              "color": "#C8D4E3"
             },
             "line": {
              "color": "white"
             }
            },
            "type": "table"
           }
          ]
         },
         "layout": {
          "annotationdefaults": {
           "arrowcolor": "#2a3f5f",
           "arrowhead": 0,
           "arrowwidth": 1
          },
          "coloraxis": {
           "colorbar": {
            "outlinewidth": 0,
            "ticks": ""
           }
          },
          "colorscale": {
           "diverging": [
            [
             0,
             "#8e0152"
            ],
            [
             0.1,
             "#c51b7d"
            ],
            [
             0.2,
             "#de77ae"
            ],
            [
             0.3,
             "#f1b6da"
            ],
            [
             0.4,
             "#fde0ef"
            ],
            [
             0.5,
             "#f7f7f7"
            ],
            [
             0.6,
             "#e6f5d0"
            ],
            [
             0.7,
             "#b8e186"
            ],
            [
             0.8,
             "#7fbc41"
            ],
            [
             0.9,
             "#4d9221"
            ],
            [
             1,
             "#276419"
            ]
           ],
           "sequential": [
            [
             0,
             "#0d0887"
            ],
            [
             0.1111111111111111,
             "#46039f"
            ],
            [
             0.2222222222222222,
             "#7201a8"
            ],
            [
             0.3333333333333333,
             "#9c179e"
            ],
            [
             0.4444444444444444,
             "#bd3786"
            ],
            [
             0.5555555555555556,
             "#d8576b"
            ],
            [
             0.6666666666666666,
             "#ed7953"
            ],
            [
             0.7777777777777778,
             "#fb9f3a"
            ],
            [
             0.8888888888888888,
             "#fdca26"
            ],
            [
             1,
             "#f0f921"
            ]
           ],
           "sequentialminus": [
            [
             0,
             "#0d0887"
            ],
            [
             0.1111111111111111,
             "#46039f"
            ],
            [
             0.2222222222222222,
             "#7201a8"
            ],
            [
             0.3333333333333333,
             "#9c179e"
            ],
            [
             0.4444444444444444,
             "#bd3786"
            ],
            [
             0.5555555555555556,
             "#d8576b"
            ],
            [
             0.6666666666666666,
             "#ed7953"
            ],
            [
             0.7777777777777778,
             "#fb9f3a"
            ],
            [
             0.8888888888888888,
             "#fdca26"
            ],
            [
             1,
             "#f0f921"
            ]
           ]
          },
          "colorway": [
           "#636efa",
           "#EF553B",
           "#00cc96",
           "#ab63fa",
           "#FFA15A",
           "#19d3f3",
           "#FF6692",
           "#B6E880",
           "#FF97FF",
           "#FECB52"
          ],
          "font": {
           "color": "#2a3f5f"
          },
          "geo": {
           "bgcolor": "white",
           "lakecolor": "white",
           "landcolor": "#E5ECF6",
           "showlakes": true,
           "showland": true,
           "subunitcolor": "white"
          },
          "hoverlabel": {
           "align": "left"
          },
          "hovermode": "closest",
          "mapbox": {
           "style": "light"
          },
          "paper_bgcolor": "white",
          "plot_bgcolor": "#E5ECF6",
          "polar": {
           "angularaxis": {
            "gridcolor": "white",
            "linecolor": "white",
            "ticks": ""
           },
           "bgcolor": "#E5ECF6",
           "radialaxis": {
            "gridcolor": "white",
            "linecolor": "white",
            "ticks": ""
           }
          },
          "scene": {
           "xaxis": {
            "backgroundcolor": "#E5ECF6",
            "gridcolor": "white",
            "gridwidth": 2,
            "linecolor": "white",
            "showbackground": true,
            "ticks": "",
            "zerolinecolor": "white"
           },
           "yaxis": {
            "backgroundcolor": "#E5ECF6",
            "gridcolor": "white",
            "gridwidth": 2,
            "linecolor": "white",
            "showbackground": true,
            "ticks": "",
            "zerolinecolor": "white"
           },
           "zaxis": {
            "backgroundcolor": "#E5ECF6",
            "gridcolor": "white",
            "gridwidth": 2,
            "linecolor": "white",
            "showbackground": true,
            "ticks": "",
            "zerolinecolor": "white"
           }
          },
          "shapedefaults": {
           "line": {
            "color": "#2a3f5f"
           }
          },
          "ternary": {
           "aaxis": {
            "gridcolor": "white",
            "linecolor": "white",
            "ticks": ""
           },
           "baxis": {
            "gridcolor": "white",
            "linecolor": "white",
            "ticks": ""
           },
           "bgcolor": "#E5ECF6",
           "caxis": {
            "gridcolor": "white",
            "linecolor": "white",
            "ticks": ""
           }
          },
          "title": {
           "x": 0.05
          },
          "xaxis": {
           "automargin": true,
           "gridcolor": "white",
           "linecolor": "white",
           "ticks": "",
           "title": {
            "standoff": 15
           },
           "zerolinecolor": "white",
           "zerolinewidth": 2
          },
          "yaxis": {
           "automargin": true,
           "gridcolor": "white",
           "linecolor": "white",
           "ticks": "",
           "title": {
            "standoff": 15
           },
           "zerolinecolor": "white",
           "zerolinewidth": 2
          }
         }
        },
        "title": {
         "text": "Mortes por Covid no Brasil"
        },
        "xaxis": {
         "anchor": "y",
         "autorange": true,
         "domain": [
          0,
          1
         ],
         "range": [
          0,
          398
         ],
         "title": {
          "text": "Dias"
         },
         "type": "category"
        },
        "yaxis": {
         "anchor": "x",
         "autorange": true,
         "domain": [
          0,
          1
         ],
         "range": [
          -13807.166666666664,
          262336.1666666667
         ],
         "title": {
          "text": "Mortes"
         },
         "type": "linear"
        }
       }
      },
      "image/png": "[encoded data removed]",
      "text/html": [
       "<div>                            <div id=\"0742584e-e3b0-47bc-b690-2d4c4f585b06\" class=\"plotly-graph-div\" style=\"height:525px; width:100%;\"></div>            <script type=\"text/javascript\">                require([\"plotly\"], function(Plotly) {                    window.PLOTLYENV=window.PLOTLYENV || {};                                    if (document.getElementById(\"0742584e-e3b0-47bc-b690-2d4c4f585b06\")) {                    Plotly.newPlot(                        \"0742584e-e3b0-47bc-b690-2d4c4f585b06\",                        [{\"hovertemplate\": \"Dias=%{x}<br>Mortes=%{y}<extra></extra>\", \"legendgroup\": \"\", \"line\": {\"color\": \"#636efa\", \"dash\": \"solid\"}, \"mode\": \"lines\", \"name\": \"\", \"orientation\": \"v\", \"showlegend\": false, \"type\": \"scatter\", \"x\": [\"1/22/20\", \"1/23/20\", \"1/24/20\", \"1/25/20\", \"1/26/20\", \"1/27/20\", \"1/28/20\", \"1/29/20\", \"1/30/20\", \"1/31/20\", \"2/1/20\", \"2/2/20\", \"2/3/20\", \"2/4/20\", \"2/5/20\", \"2/6/20\", \"2/7/20\", \"2/8/20\", \"2/9/20\", \"2/10/20\", \"2/11/20\", \"2/12/20\", \"2/13/20\", \"2/14/20\", \"2/15/20\", \"2/16/20\", \"2/17/20\", \"2/18/20\", \"2/19/20\", \"2/20/20\", \"2/21/20\", \"2/22/20\", \"2/23/20\", \"2/24/20\", \"2/25/20\", \"2/26/20\", \"2/27/20\", \"2/28/20\", \"2/29/20\", \"3/1/20\", \"3/2/20\", \"3/3/20\", \"3/4/20\", \"3/5/20\", \"3/6/20\", \"3/7/20\", \"3/8/20\", \"3/9/20\", \"3/10/20\", \"3/11/20\", \"3/12/20\", \"3/13/20\", \"3/14/20\", \"3/15/20\", \"3/16/20\", \"3/17/20\", \"3/18/20\", \"3/19/20\", \"3/20/20\", \"3/21/20\", \"3/22/20\", \"3/23/20\", \"3/24/20\", \"3/25/20\", \"3/26/20\", \"3/27/20\", \"3/28/20\", \"3/29/20\", \"3/30/20\", \"3/31/20\", \"4/1/20\", \"4/2/20\", \"4/3/20\", \"4/4/20\", \"4/5/20\", \"4/6/20\", \"4/7/20\", \"4/8/20\", \"4/9/20\", \"4/10/20\", \"4/11/20\", \"4/12/20\", \"4/13/20\", \"4/14/20\", \"4/15/20\", \"4/16/20\", \"4/17/20\", \"4/18/20\", \"4/19/20\", \"4/20/20\", \"4/21/20\", \"4/22/20\", \"4/23/20\", \"4/24/20\", \"4/25/20\", \"4/26/20\", \"4/27/20\", \"4/28/20\", \"4/29/20\", \"4/30/20\", \"5/1/20\", \"5/2/20\", \"5/3/20\", \"5/4/20\", \"5/5/20\", \"5/6/20\", \"5/7/20\", \"5/8/20\", \"5/9/20\", \"5/10/20\", \"5/11/20\", \"5/12/20\", \"5/13/20\", \"5/14/20\", \"5/15/20\", \"5/16/20\", \"5/17/20\", \"5/18/20\", \"5/19/20\", \"5/20/20\", \"5/21/20\", \"5/22/20\", \"5/23/20\", \"5/24/20\", \"5/25/20\", \"5/26/20\", \"5/27/20\", \"5/28/20\", \"5/29/20\", \"5/30/20\", \"5/31/20\", \"6/1/20\", \"6/2/20\", \"6/3/20\", \"6/4/20\", \"6/5/20\", \"6/6/20\", \"6/7/20\", \"6/8/20\", \"6/9/20\", \"6/10/20\", \"6/11/20\", \"6/12/20\", \"6/13/20\", \"6/14/20\", \"6/15/20\", \"6/16/20\", \"6/17/20\", \"6/18/20\", \"6/19/20\", \"6/20/20\", \"6/21/20\", \"6/22/20\", \"6/23/20\", \"6/24/20\", \"6/25/20\", \"6/26/20\", \"6/27/20\", \"6/28/20\", \"6/29/20\", \"6/30/20\", \"7/1/20\", \"7/2/20\", \"7/3/20\", \"7/4/20\", \"7/5/20\", \"7/6/20\", \"7/7/20\", \"7/8/20\", \"7/9/20\", \"7/10/20\", \"7/11/20\", \"7/12/20\", \"7/13/20\", \"7/14/20\", \"7/15/20\", \"7/16/20\", \"7/17/20\", \"7/18/20\", \"7/19/20\", \"7/20/20\", \"7/21/20\", \"7/22/20\", \"7/23/20\", \"7/24/20\", \"7/25/20\", \"7/26/20\", \"7/27/20\", \"7/28/20\", \"7/29/20\", \"7/30/20\", \"7/31/20\", \"8/1/20\", \"8/2/20\", \"8/3/20\", \"8/4/20\", \"8/5/20\", \"8/6/20\", \"8/7/20\", \"8/8/20\", \"8/9/20\", \"8/10/20\", \"8/11/20\", \"8/12/20\", \"8/13/20\", \"8/14/20\", \"8/15/20\", \"8/16/20\", \"8/17/20\", \"8/18/20\", \"8/19/20\", \"8/20/20\", \"8/21/20\", \"8/22/20\", \"8/23/20\", \"8/24/20\", \"8/25/20\", \"8/26/20\", \"8/27/20\", \"8/28/20\", \"8/29/20\", \"8/30/20\", \"8/31/20\", \"9/1/20\", \"9/2/20\", \"9/3/20\", \"9/4/20\", \"9/5/20\", \"9/6/20\", \"9/7/20\", \"9/8/20\", \"9/9/20\", \"9/10/20\", \"9/11/20\", \"9/12/20\", \"9/13/20\", \"9/14/20\", \"9/15/20\", \"9/16/20\", \"9/17/20\", \"9/18/20\", \"9/19/20\", \"9/20/20\", \"9/21/20\", \"9/22/20\", \"9/23/20\", \"9/24/20\", \"9/25/20\", \"9/26/20\", \"9/27/20\", \"9/28/20\", \"9/29/20\", \"9/30/20\", \"10/1/20\", \"10/2/20\", \"10/3/20\", \"10/4/20\", \"10/5/20\", \"10/6/20\", \"10/7/20\", \"10/8/20\", \"10/9/20\", \"10/10/20\", \"10/11/20\", \"10/12/20\", \"10/13/20\", \"10/14/20\", \"10/15/20\", \"10/16/20\", \"10/17/20\", \"10/18/20\", \"10/19/20\", \"10/20/20\", \"10/21/20\", \"10/22/20\", \"10/23/20\", \"10/24/20\", \"10/25/20\", \"10/26/20\", \"10/27/20\", \"10/28/20\", \"10/29/20\", \"10/30/20\", \"10/31/20\", \"11/1/20\", \"11/2/20\", \"11/3/20\", \"11/4/20\", \"11/5/20\", \"11/6/20\", \"11/7/20\", \"11/8/20\", \"11/9/20\", \"11/10/20\", \"11/11/20\", \"11/12/20\", \"11/13/20\", \"11/14/20\", \"11/15/20\", \"11/16/20\", \"11/17/20\", \"11/18/20\", \"11/19/20\", \"11/20/20\", \"11/21/20\", \"11/22/20\", \"11/23/20\", \"11/24/20\", \"11/25/20\", \"11/26/20\", \"11/27/20\", \"11/28/20\", \"11/29/20\", \"11/30/20\", \"12/1/20\", \"12/2/20\", \"12/3/20\", \"12/4/20\", \"12/5/20\", \"12/6/20\", \"12/7/20\", \"12/8/20\", \"12/9/20\", \"12/10/20\", \"12/11/20\", \"12/12/20\", \"12/13/20\", \"12/14/20\", \"12/15/20\", \"12/16/20\", \"12/17/20\", \"12/18/20\", \"12/19/20\", \"12/20/20\", \"12/21/20\", \"12/22/20\", \"12/23/20\", \"12/24/20\", \"12/25/20\", \"12/26/20\", \"12/27/20\", \"12/28/20\", \"12/29/20\", \"12/30/20\", \"12/31/20\", \"1/1/21\", \"1/2/21\", \"1/3/21\", \"1/4/21\", \"1/5/21\", \"1/6/21\", \"1/7/21\", \"1/8/21\", \"1/9/21\", \"1/10/21\", \"1/11/21\", \"1/12/21\", \"1/13/21\", \"1/14/21\", \"1/15/21\", \"1/16/21\", \"1/17/21\", \"1/18/21\", \"1/19/21\", \"1/20/21\", \"1/21/21\", \"1/22/21\", \"1/23/21\", \"1/24/21\", \"1/25/21\", \"1/26/21\", \"1/27/21\", \"1/28/21\", \"1/29/21\", \"1/30/21\", \"1/31/21\", \"2/1/21\", \"2/2/21\", \"2/3/21\", \"2/4/21\", \"2/5/21\", \"2/6/21\", \"2/7/21\", \"2/8/21\", \"2/9/21\", \"2/10/21\", \"2/11/21\", \"2/12/21\", \"2/13/21\", \"2/14/21\", \"2/15/21\", \"2/16/21\", \"2/17/21\", \"2/18/21\", \"2/19/21\", \"2/20/21\", \"2/21/21\", \"2/22/21\", \"2/23/21\"], \"xaxis\": \"x\", \"y\": [0, 0, 0, 0, 0, 0, 0, 0, 0, 0, 0, 0, 0, 0, 0, 0, 0, 0, 0, 0, 0, 0, 0, 0, 0, 0, 0, 0, 0, 0, 0, 0, 0, 0, 0, 0, 0, 0, 0, 0, 0, 0, 0, 0, 0, 0, 0, 0, 0, 0, 0, 0, 0, 0, 0, 1, 3, 6, 11, 15, 25, 34, 46, 59, 77, 92, 111, 136, 159, 201, 240, 324, 359, 445, 486, 564, 686, 819, 950, 1057, 1124, 1223, 1328, 1532, 1736, 1924, 2141, 2354, 2462, 2587, 2741, 2906, 3331, 3704, 4057, 4286, 4603, 5083, 5513, 6006, 6412, 6761, 7051, 7367, 7938, 8588, 9190, 10017, 10656, 11123, 11653, 12461, 13240, 13999, 14962, 15662, 16118, 16853, 17983, 18859, 20047, 21048, 22013, 22666, 23473, 24512, 25598, 26754, 27878, 28834, 29314, 29937, 31199, 32548, 34021, 35026, 35930, 36455, 37134, 38406, 39680, 40919, 41828, 42720, 43332, 43959, 45241, 46510, 47748, 48954, 49976, 50591, 51271, 52645, 53830, 54971, 55961, 57070, 57622, 58314, 59594, 60632, 61884, 63174, 64265, 64867, 65487, 66741, 67964, 69184, 70398, 71469, 72100, 72833, 74133, 75366, 76688, 77851, 78772, 79488, 80120, 81487, 82771, 84082, 85238, 86449, 87004, 87618, 88539, 90134, 91263, 92475, 93563, 94104, 94665, 95819, 97256, 98493, 99572, 100477, 101049, 101752, 103026, 104201, 105463, 106523, 107232, 107852, 108536, 109888, 111100, 112304, 113358, 114250, 114744, 115309, 116580, 117665, 118649, 119504, 120262, 120828, 121381, 122596, 123780, 124614, 125502, 126203, 126650, 126960, 127464, 128539, 129522, 130396, 131210, 131625, 132006, 133119, 134106, 134935, 135793, 136532, 136895, 137272, 138105, 138105, 139808, 140537, 141406, 141741, 142058, 142921, 143952, 144680, 144680, 145987, 146352, 146675, 147494, 148228, 148957, 149639, 150198, 150488, 150689, 150998, 151747, 152460, 153214, 153675, 153675, 154176, 154837, 155403, 155900, 156471, 156903, 157134, 157397, 157946, 158456, 158969, 159477, 159884, 160074, 160253, 160496, 161106, 161106, 162015, 162269, 162397, 162628, 162802, 163368, 164281, 164737, 165658, 165798, 166014, 166699, 167455, 168061, 168613, 168989, 169183, 169485, 170115, 170769, 171460, 171974, 172561, 172833, 173120, 173817, 174515, 175270, 175964, 176628, 176941, 177317, 178159, 178995, 179765, 180437, 181123, 181402, 181835, 182799, 183735, 184827, 185650, 186356, 186764, 187291, 188259, 189220, 189982, 190488, 190795, 191139, 191570, 192681, 193875, 194949, 195411, 195725, 196018, 196561, 197732, 198974, 200498, 201460, 202631, 203100, 203580, 204690, 205964, 207095, 208246, 209296, 209847, 210299, 211491, 212831, 214147, 215243, 216445, 217037, 217664, 218878, 220161, 221547, 222666, 223945, 224504, 225099, 226309, 227563, 228795, 230034, 230034, 231534, 231534, 233520, 234850, 236201, 237489, 238532, 239245, 239773, 240940, 242090, 243457, 244737, 245977, 246504, 247143, 248529], \"yaxis\": \"y\"}],                        {\"legend\": {\"tracegroupgap\": 0}, \"template\": {\"data\": {\"bar\": [{\"error_x\": {\"color\": \"#2a3f5f\"}, \"error_y\": {\"color\": \"#2a3f5f\"}, \"marker\": {\"line\": {\"color\": \"#E5ECF6\", \"width\": 0.5}}, \"type\": \"bar\"}], \"barpolar\": [{\"marker\": {\"line\": {\"color\": \"#E5ECF6\", \"width\": 0.5}}, \"type\": \"barpolar\"}], \"carpet\": [{\"aaxis\": {\"endlinecolor\": \"#2a3f5f\", \"gridcolor\": \"white\", \"linecolor\": \"white\", \"minorgridcolor\": \"white\", \"startlinecolor\": \"#2a3f5f\"}, \"baxis\": {\"endlinecolor\": \"#2a3f5f\", \"gridcolor\": \"white\", \"linecolor\": \"white\", \"minorgridcolor\": \"white\", \"startlinecolor\": \"#2a3f5f\"}, \"type\": \"carpet\"}], \"choropleth\": [{\"colorbar\": {\"outlinewidth\": 0, \"ticks\": \"\"}, \"type\": \"choropleth\"}], \"contour\": [{\"colorbar\": {\"outlinewidth\": 0, \"ticks\": \"\"}, \"colorscale\": [[0.0, \"#0d0887\"], [0.1111111111111111, \"#46039f\"], [0.2222222222222222, \"#7201a8\"], [0.3333333333333333, \"#9c179e\"], [0.4444444444444444, \"#bd3786\"], [0.5555555555555556, \"#d8576b\"], [0.6666666666666666, \"#ed7953\"], [0.7777777777777778, \"#fb9f3a\"], [0.8888888888888888, \"#fdca26\"], [1.0, \"#f0f921\"]], \"type\": \"contour\"}], \"contourcarpet\": [{\"colorbar\": {\"outlinewidth\": 0, \"ticks\": \"\"}, \"type\": \"contourcarpet\"}], \"heatmap\": [{\"colorbar\": {\"outlinewidth\": 0, \"ticks\": \"\"}, \"colorscale\": [[0.0, \"#0d0887\"], [0.1111111111111111, \"#46039f\"], [0.2222222222222222, \"#7201a8\"], [0.3333333333333333, \"#9c179e\"], [0.4444444444444444, \"#bd3786\"], [0.5555555555555556, \"#d8576b\"], [0.6666666666666666, \"#ed7953\"], [0.7777777777777778, \"#fb9f3a\"], [0.8888888888888888, \"#fdca26\"], [1.0, \"#f0f921\"]], \"type\": \"heatmap\"}], \"heatmapgl\": [{\"colorbar\": {\"outlinewidth\": 0, \"ticks\": \"\"}, \"colorscale\": [[0.0, \"#0d0887\"], [0.1111111111111111, \"#46039f\"], [0.2222222222222222, \"#7201a8\"], [0.3333333333333333, \"#9c179e\"], [0.4444444444444444, \"#bd3786\"], [0.5555555555555556, \"#d8576b\"], [0.6666666666666666, \"#ed7953\"], [0.7777777777777778, \"#fb9f3a\"], [0.8888888888888888, \"#fdca26\"], [1.0, \"#f0f921\"]], \"type\": \"heatmapgl\"}], \"histogram\": [{\"marker\": {\"colorbar\": {\"outlinewidth\": 0, \"ticks\": \"\"}}, \"type\": \"histogram\"}], \"histogram2d\": [{\"colorbar\": {\"outlinewidth\": 0, \"ticks\": \"\"}, \"colorscale\": [[0.0, \"#0d0887\"], [0.1111111111111111, \"#46039f\"], [0.2222222222222222, \"#7201a8\"], [0.3333333333333333, \"#9c179e\"], [0.4444444444444444, \"#bd3786\"], [0.5555555555555556, \"#d8576b\"], [0.6666666666666666, \"#ed7953\"], [0.7777777777777778, \"#fb9f3a\"], [0.8888888888888888, \"#fdca26\"], [1.0, \"#f0f921\"]], \"type\": \"histogram2d\"}], \"histogram2dcontour\": [{\"colorbar\": {\"outlinewidth\": 0, \"ticks\": \"\"}, \"colorscale\": [[0.0, \"#0d0887\"], [0.1111111111111111, \"#46039f\"], [0.2222222222222222, \"#7201a8\"], [0.3333333333333333, \"#9c179e\"], [0.4444444444444444, \"#bd3786\"], [0.5555555555555556, \"#d8576b\"], [0.6666666666666666, \"#ed7953\"], [0.7777777777777778, \"#fb9f3a\"], [0.8888888888888888, \"#fdca26\"], [1.0, \"#f0f921\"]], \"type\": \"histogram2dcontour\"}], \"mesh3d\": [{\"colorbar\": {\"outlinewidth\": 0, \"ticks\": \"\"}, \"type\": \"mesh3d\"}], \"parcoords\": [{\"line\": {\"colorbar\": {\"outlinewidth\": 0, \"ticks\": \"\"}}, \"type\": \"parcoords\"}], \"pie\": [{\"automargin\": true, \"type\": \"pie\"}], \"scatter\": [{\"marker\": {\"colorbar\": {\"outlinewidth\": 0, \"ticks\": \"\"}}, \"type\": \"scatter\"}], \"scatter3d\": [{\"line\": {\"colorbar\": {\"outlinewidth\": 0, \"ticks\": \"\"}}, \"marker\": {\"colorbar\": {\"outlinewidth\": 0, \"ticks\": \"\"}}, \"type\": \"scatter3d\"}], \"scattercarpet\": [{\"marker\": {\"colorbar\": {\"outlinewidth\": 0, \"ticks\": \"\"}}, \"type\": \"scattercarpet\"}], \"scattergeo\": [{\"marker\": {\"colorbar\": {\"outlinewidth\": 0, \"ticks\": \"\"}}, \"type\": \"scattergeo\"}], \"scattergl\": [{\"marker\": {\"colorbar\": {\"outlinewidth\": 0, \"ticks\": \"\"}}, \"type\": \"scattergl\"}], \"scattermapbox\": [{\"marker\": {\"colorbar\": {\"outlinewidth\": 0, \"ticks\": \"\"}}, \"type\": \"scattermapbox\"}], \"scatterpolar\": [{\"marker\": {\"colorbar\": {\"outlinewidth\": 0, \"ticks\": \"\"}}, \"type\": \"scatterpolar\"}], \"scatterpolargl\": [{\"marker\": {\"colorbar\": {\"outlinewidth\": 0, \"ticks\": \"\"}}, \"type\": \"scatterpolargl\"}], \"scatterternary\": [{\"marker\": {\"colorbar\": {\"outlinewidth\": 0, \"ticks\": \"\"}}, \"type\": \"scatterternary\"}], \"surface\": [{\"colorbar\": {\"outlinewidth\": 0, \"ticks\": \"\"}, \"colorscale\": [[0.0, \"#0d0887\"], [0.1111111111111111, \"#46039f\"], [0.2222222222222222, \"#7201a8\"], [0.3333333333333333, \"#9c179e\"], [0.4444444444444444, \"#bd3786\"], [0.5555555555555556, \"#d8576b\"], [0.6666666666666666, \"#ed7953\"], [0.7777777777777778, \"#fb9f3a\"], [0.8888888888888888, \"#fdca26\"], [1.0, \"#f0f921\"]], \"type\": \"surface\"}], \"table\": [{\"cells\": {\"fill\": {\"color\": \"#EBF0F8\"}, \"line\": {\"color\": \"white\"}}, \"header\": {\"fill\": {\"color\": \"#C8D4E3\"}, \"line\": {\"color\": \"white\"}}, \"type\": \"table\"}]}, \"layout\": {\"annotationdefaults\": {\"arrowcolor\": \"#2a3f5f\", \"arrowhead\": 0, \"arrowwidth\": 1}, \"coloraxis\": {\"colorbar\": {\"outlinewidth\": 0, \"ticks\": \"\"}}, \"colorscale\": {\"diverging\": [[0, \"#8e0152\"], [0.1, \"#c51b7d\"], [0.2, \"#de77ae\"], [0.3, \"#f1b6da\"], [0.4, \"#fde0ef\"], [0.5, \"#f7f7f7\"], [0.6, \"#e6f5d0\"], [0.7, \"#b8e186\"], [0.8, \"#7fbc41\"], [0.9, \"#4d9221\"], [1, \"#276419\"]], \"sequential\": [[0.0, \"#0d0887\"], [0.1111111111111111, \"#46039f\"], [0.2222222222222222, \"#7201a8\"], [0.3333333333333333, \"#9c179e\"], [0.4444444444444444, \"#bd3786\"], [0.5555555555555556, \"#d8576b\"], [0.6666666666666666, \"#ed7953\"], [0.7777777777777778, \"#fb9f3a\"], [0.8888888888888888, \"#fdca26\"], [1.0, \"#f0f921\"]], \"sequentialminus\": [[0.0, \"#0d0887\"], [0.1111111111111111, \"#46039f\"], [0.2222222222222222, \"#7201a8\"], [0.3333333333333333, \"#9c179e\"], [0.4444444444444444, \"#bd3786\"], [0.5555555555555556, \"#d8576b\"], [0.6666666666666666, \"#ed7953\"], [0.7777777777777778, \"#fb9f3a\"], [0.8888888888888888, \"#fdca26\"], [1.0, \"#f0f921\"]]}, \"colorway\": [\"#636efa\", \"#EF553B\", \"#00cc96\", \"#ab63fa\", \"#FFA15A\", \"#19d3f3\", \"#FF6692\", \"#B6E880\", \"#FF97FF\", \"#FECB52\"], \"font\": {\"color\": \"#2a3f5f\"}, \"geo\": {\"bgcolor\": \"white\", \"lakecolor\": \"white\", \"landcolor\": \"#E5ECF6\", \"showlakes\": true, \"showland\": true, \"subunitcolor\": \"white\"}, \"hoverlabel\": {\"align\": \"left\"}, \"hovermode\": \"closest\", \"mapbox\": {\"style\": \"light\"}, \"paper_bgcolor\": \"white\", \"plot_bgcolor\": \"#E5ECF6\", \"polar\": {\"angularaxis\": {\"gridcolor\": \"white\", \"linecolor\": \"white\", \"ticks\": \"\"}, \"bgcolor\": \"#E5ECF6\", \"radialaxis\": {\"gridcolor\": \"white\", \"linecolor\": \"white\", \"ticks\": \"\"}}, \"scene\": {\"xaxis\": {\"backgroundcolor\": \"#E5ECF6\", \"gridcolor\": \"white\", \"gridwidth\": 2, \"linecolor\": \"white\", \"showbackground\": true, \"ticks\": \"\", \"zerolinecolor\": \"white\"}, \"yaxis\": {\"backgroundcolor\": \"#E5ECF6\", \"gridcolor\": \"white\", \"gridwidth\": 2, \"linecolor\": \"white\", \"showbackground\": true, \"ticks\": \"\", \"zerolinecolor\": \"white\"}, \"zaxis\": {\"backgroundcolor\": \"#E5ECF6\", \"gridcolor\": \"white\", \"gridwidth\": 2, \"linecolor\": \"white\", \"showbackground\": true, \"ticks\": \"\", \"zerolinecolor\": \"white\"}}, \"shapedefaults\": {\"line\": {\"color\": \"#2a3f5f\"}}, \"ternary\": {\"aaxis\": {\"gridcolor\": \"white\", \"linecolor\": \"white\", \"ticks\": \"\"}, \"baxis\": {\"gridcolor\": \"white\", \"linecolor\": \"white\", \"ticks\": \"\"}, \"bgcolor\": \"#E5ECF6\", \"caxis\": {\"gridcolor\": \"white\", \"linecolor\": \"white\", \"ticks\": \"\"}}, \"title\": {\"x\": 0.05}, \"xaxis\": {\"automargin\": true, \"gridcolor\": \"white\", \"linecolor\": \"white\", \"ticks\": \"\", \"title\": {\"standoff\": 15}, \"zerolinecolor\": \"white\", \"zerolinewidth\": 2}, \"yaxis\": {\"automargin\": true, \"gridcolor\": \"white\", \"linecolor\": \"white\", \"ticks\": \"\", \"title\": {\"standoff\": 15}, \"zerolinecolor\": \"white\", \"zerolinewidth\": 2}}}, \"title\": {\"text\": \"Mortes por Covid no Brasil\"}, \"xaxis\": {\"anchor\": \"y\", \"domain\": [0.0, 1.0], \"title\": {\"text\": \"Dias\"}}, \"yaxis\": {\"anchor\": \"x\", \"domain\": [0.0, 1.0], \"title\": {\"text\": \"Mortes\"}}},                        {\"responsive\": true}                    ).then(function(){\n",
       "                            \n",
       "var gd = document.getElementById('0742584e-e3b0-47bc-b690-2d4c4f585b06');\n",
       "var x = new MutationObserver(function (mutations, observer) {{\n",
       "        var display = window.getComputedStyle(gd).display;\n",
       "        if (!display || display === 'none') {{\n",
       "            console.log([gd, 'removed!']);\n",
       "            Plotly.purge(gd);\n",
       "            observer.disconnect();\n",
       "        }}\n",
       "}});\n",
       "\n",
       "// Listen for the removal of the full notebook cells\n",
       "var notebookContainer = gd.closest('#notebook-container');\n",
       "if (notebookContainer) {{\n",
       "    x.observe(notebookContainer, {childList: true});\n",
       "}}\n",
       "\n",
       "// Listen for the clearing of the current output cell\n",
       "var outputEl = gd.closest('.output');\n",
       "if (outputEl) {{\n",
       "    x.observe(outputEl, {childList: true});\n",
       "}}\n",
       "\n",
       "                        })                };                });            </script>        </div>"
      ]
     },
     "metadata": {},
     "output_type": "display_data"
    },
    {
     "data": {
      "application/vnd.plotly.v1+json": {
       "config": {
        "plotlyServerURL": "https://plot.ly"
       },
       "data": [
        {
         "hovertemplate": "Dias=%{x}<br>Mortes=%{y}<extra></extra>",
         "legendgroup": "",
         "line": {
          "color": "#636efa",
          "dash": "solid"
         },
         "mode": "lines",
         "name": "",
         "orientation": "v",
         "showlegend": false,
         "type": "scatter",
         "x": [
          "1/22/20",
          "1/23/20",
          "1/24/20",
          "1/25/20",
          "1/26/20",
          "1/27/20",
          "1/28/20",
          "1/29/20",
          "1/30/20",
          "1/31/20",
          "2/1/20",
          "2/2/20",
          "2/3/20",
          "2/4/20",
          "2/5/20",
          "2/6/20",
          "2/7/20",
          "2/8/20",
          "2/9/20",
          "2/10/20",
          "2/11/20",
          "2/12/20",
          "2/13/20",
          "2/14/20",
          "2/15/20",
          "2/16/20",
          "2/17/20",
          "2/18/20",
          "2/19/20",
          "2/20/20",
          "2/21/20",
          "2/22/20",
          "2/23/20",
          "2/24/20",
          "2/25/20",
          "2/26/20",
          "2/27/20",
          "2/28/20",
          "2/29/20",
          "3/1/20",
          "3/2/20",
          "3/3/20",
          "3/4/20",
          "3/5/20",
          "3/6/20",
          "3/7/20",
          "3/8/20",
          "3/9/20",
          "3/10/20",
          "3/11/20",
          "3/12/20",
          "3/13/20",
          "3/14/20",
          "3/15/20",
          "3/16/20",
          "3/17/20",
          "3/18/20",
          "3/19/20",
          "3/20/20",
          "3/21/20",
          "3/22/20",
          "3/23/20",
          "3/24/20",
          "3/25/20",
          "3/26/20",
          "3/27/20",
          "3/28/20",
          "3/29/20",
          "3/30/20",
          "3/31/20",
          "4/1/20",
          "4/2/20",
          "4/3/20",
          "4/4/20",
          "4/5/20",
          "4/6/20",
          "4/7/20",
          "4/8/20",
          "4/9/20",
          "4/10/20",
          "4/11/20",
          "4/12/20",
          "4/13/20",
          "4/14/20",
          "4/15/20",
          "4/16/20",
          "4/17/20",
          "4/18/20",
          "4/19/20",
          "4/20/20",
          "4/21/20",
          "4/22/20",
          "4/23/20",
          "4/24/20",
          "4/25/20",
          "4/26/20",
          "4/27/20",
          "4/28/20",
          "4/29/20",
          "4/30/20",
          "5/1/20",
          "5/2/20",
          "5/3/20",
          "5/4/20",
          "5/5/20",
          "5/6/20",
          "5/7/20",
          "5/8/20",
          "5/9/20",
          "5/10/20",
          "5/11/20",
          "5/12/20",
          "5/13/20",
          "5/14/20",
          "5/15/20",
          "5/16/20",
          "5/17/20",
          "5/18/20",
          "5/19/20",
          "5/20/20",
          "5/21/20",
          "5/22/20",
          "5/23/20",
          "5/24/20",
          "5/25/20",
          "5/26/20",
          "5/27/20",
          "5/28/20",
          "5/29/20",
          "5/30/20",
          "5/31/20",
          "6/1/20",
          "6/2/20",
          "6/3/20",
          "6/4/20",
          "6/5/20",
          "6/6/20",
          "6/7/20",
          "6/8/20",
          "6/9/20",
          "6/10/20",
          "6/11/20",
          "6/12/20",
          "6/13/20",
          "6/14/20",
          "6/15/20",
          "6/16/20",
          "6/17/20",
          "6/18/20",
          "6/19/20",
          "6/20/20",
          "6/21/20",
          "6/22/20",
          "6/23/20",
          "6/24/20",
          "6/25/20",
          "6/26/20",
          "6/27/20",
          "6/28/20",
          "6/29/20",
          "6/30/20",
          "7/1/20",
          "7/2/20",
          "7/3/20",
          "7/4/20",
          "7/5/20",
          "7/6/20",
          "7/7/20",
          "7/8/20",
          "7/9/20",
          "7/10/20",
          "7/11/20",
          "7/12/20",
          "7/13/20",
          "7/14/20",
          "7/15/20",
          "7/16/20",
          "7/17/20",
          "7/18/20",
          "7/19/20",
          "7/20/20",
          "7/21/20",
          "7/22/20",
          "7/23/20",
          "7/24/20",
          "7/25/20",
          "7/26/20",
          "7/27/20",
          "7/28/20",
          "7/29/20",
          "7/30/20",
          "7/31/20",
          "8/1/20",
          "8/2/20",
          "8/3/20",
          "8/4/20",
          "8/5/20",
          "8/6/20",
          "8/7/20",
          "8/8/20",
          "8/9/20",
          "8/10/20",
          "8/11/20",
          "8/12/20",
          "8/13/20",
          "8/14/20",
          "8/15/20",
          "8/16/20",
          "8/17/20",
          "8/18/20",
          "8/19/20",
          "8/20/20",
          "8/21/20",
          "8/22/20",
          "8/23/20",
          "8/24/20",
          "8/25/20",
          "8/26/20",
          "8/27/20",
          "8/28/20",
          "8/29/20",
          "8/30/20",
          "8/31/20",
          "9/1/20",
          "9/2/20",
          "9/3/20",
          "9/4/20",
          "9/5/20",
          "9/6/20",
          "9/7/20",
          "9/8/20",
          "9/9/20",
          "9/10/20",
          "9/11/20",
          "9/12/20",
          "9/13/20",
          "9/14/20",
          "9/15/20",
          "9/16/20",
          "9/17/20",
          "9/18/20",
          "9/19/20",
          "9/20/20",
          "9/21/20",
          "9/22/20",
          "9/23/20",
          "9/24/20",
          "9/25/20",
          "9/26/20",
          "9/27/20",
          "9/28/20",
          "9/29/20",
          "9/30/20",
          "10/1/20",
          "10/2/20",
          "10/3/20",
          "10/4/20",
          "10/5/20",
          "10/6/20",
          "10/7/20",
          "10/8/20",
          "10/9/20",
          "10/10/20",
          "10/11/20",
          "10/12/20",
          "10/13/20",
          "10/14/20",
          "10/15/20",
          "10/16/20",
          "10/17/20",
          "10/18/20",
          "10/19/20",
          "10/20/20",
          "10/21/20",
          "10/22/20",
          "10/23/20",
          "10/24/20",
          "10/25/20",
          "10/26/20",
          "10/27/20",
          "10/28/20",
          "10/29/20",
          "10/30/20",
          "10/31/20",
          "11/1/20",
          "11/2/20",
          "11/3/20",
          "11/4/20",
          "11/5/20",
          "11/6/20",
          "11/7/20",
          "11/8/20",
          "11/9/20",
          "11/10/20",
          "11/11/20",
          "11/12/20",
          "11/13/20",
          "11/14/20",
          "11/15/20",
          "11/16/20",
          "11/17/20",
          "11/18/20",
          "11/19/20",
          "11/20/20",
          "11/21/20",
          "11/22/20",
          "11/23/20",
          "11/24/20",
          "11/25/20",
          "11/26/20",
          "11/27/20",
          "11/28/20",
          "11/29/20",
          "11/30/20",
          "12/1/20",
          "12/2/20",
          "12/3/20",
          "12/4/20",
          "12/5/20",
          "12/6/20",
          "12/7/20",
          "12/8/20",
          "12/9/20",
          "12/10/20",
          "12/11/20",
          "12/12/20",
          "12/13/20",
          "12/14/20",
          "12/15/20",
          "12/16/20",
          "12/17/20",
          "12/18/20",
          "12/19/20",
          "12/20/20",
          "12/21/20",
          "12/22/20",
          "12/23/20",
          "12/24/20",
          "12/25/20",
          "12/26/20",
          "12/27/20",
          "12/28/20",
          "12/29/20",
          "12/30/20",
          "12/31/20",
          "1/1/21",
          "1/2/21",
          "1/3/21",
          "1/4/21",
          "1/5/21",
          "1/6/21",
          "1/7/21",
          "1/8/21",
          "1/9/21",
          "1/10/21",
          "1/11/21",
          "1/12/21",
          "1/13/21",
          "1/14/21",
          "1/15/21",
          "1/16/21",
          "1/17/21",
          "1/18/21",
          "1/19/21",
          "1/20/21",
          "1/21/21",
          "1/22/21",
          "1/23/21",
          "1/24/21",
          "1/25/21",
          "1/26/21",
          "1/27/21",
          "1/28/21",
          "1/29/21",
          "1/30/21",
          "1/31/21",
          "2/1/21",
          "2/2/21",
          "2/3/21",
          "2/4/21",
          "2/5/21",
          "2/6/21",
          "2/7/21",
          "2/8/21",
          "2/9/21",
          "2/10/21",
          "2/11/21",
          "2/12/21",
          "2/13/21",
          "2/14/21",
          "2/15/21",
          "2/16/21",
          "2/17/21",
          "2/18/21",
          "2/19/21",
          "2/20/21",
          "2/21/21",
          "2/22/21",
          "2/23/21"
         ],
         "xaxis": "x",
         "y": [
          0,
          0,
          0,
          0,
          0,
          0,
          0,
          0,
          0,
          0,
          0,
          0,
          0,
          0,
          0,
          0,
          0,
          0,
          0,
          0,
          0,
          0,
          0,
          0,
          0,
          0,
          0,
          0,
          0,
          0,
          0,
          0,
          0,
          0,
          0,
          0,
          0,
          0,
          0,
          0,
          0,
          0,
          0,
          0,
          0,
          0,
          0,
          0,
          0,
          0,
          0,
          0,
          0,
          0,
          0,
          1,
          3,
          6,
          11,
          15,
          25,
          34,
          46,
          59,
          77,
          92,
          111,
          136,
          159,
          201,
          240,
          324,
          359,
          445,
          486,
          564,
          686,
          819,
          950,
          1057,
          1124,
          1223,
          1328,
          1532,
          1736,
          1924,
          2141,
          2354,
          2462,
          2587,
          2741,
          2906,
          3331,
          3704,
          4057,
          4286,
          4603,
          5083,
          5513,
          6006,
          6412,
          6761,
          7051,
          7367,
          7938,
          8588,
          9190,
          10017,
          10656,
          11123,
          11653,
          12461,
          13240,
          13999,
          14962,
          15662,
          16118,
          16853,
          17983,
          18859,
          20047,
          21048,
          22013,
          22666,
          23473,
          24512,
          25598,
          26754,
          27878,
          28834,
          29314,
          29937,
          31199,
          32548,
          34021,
          35026,
          35930,
          36455,
          37134,
          38406,
          39680,
          40919,
          41828,
          42720,
          43332,
          43959,
          45241,
          46510,
          47748,
          48954,
          49976,
          50591,
          51271,
          52645,
          53830,
          54971,
          55961,
          57070,
          57622,
          58314,
          59594,
          60632,
          61884,
          63174,
          64265,
          64867,
          65487,
          66741,
          67964,
          69184,
          70398,
          71469,
          72100,
          72833,
          74133,
          75366,
          76688,
          77851,
          78772,
          79488,
          80120,
          81487,
          82771,
          84082,
          85238,
          86449,
          87004,
          87618,
          88539,
          90134,
          91263,
          92475,
          93563,
          94104,
          94665,
          95819,
          97256,
          98493,
          99572,
          100477,
          101049,
          101752,
          103026,
          104201,
          105463,
          106523,
          107232,
          107852,
          108536,
          109888,
          111100,
          112304,
          113358,
          114250,
          114744,
          115309,
          116580,
          117665,
          118649,
          119504,
          120262,
          120828,
          121381,
          122596,
          123780,
          124614,
          125502,
          126203,
          126650,
          126960,
          127464,
          128539,
          129522,
          130396,
          131210,
          131625,
          132006,
          133119,
          134106,
          134935,
          135793,
          136532,
          136895,
          137272,
          138105,
          138105,
          139808,
          140537,
          141406,
          141741,
          142058,
          142921,
          143952,
          144680,
          144680,
          145987,
          146352,
          146675,
          147494,
          148228,
          148957,
          149639,
          150198,
          150488,
          150689,
          150998,
          151747,
          152460,
          153214,
          153675,
          153675,
          154176,
          154837,
          155403,
          155900,
          156471,
          156903,
          157134,
          157397,
          157946,
          158456,
          158969,
          159477,
          159884,
          160074,
          160253,
          160496,
          161106,
          161106,
          162015,
          162269,
          162397,
          162628,
          162802,
          163368,
          164281,
          164737,
          165658,
          165798,
          166014,
          166699,
          167455,
          168061,
          168613,
          168989,
          169183,
          169485,
          170115,
          170769,
          171460,
          171974,
          172561,
          172833,
          173120,
          173817,
          174515,
          175270,
          175964,
          176628,
          176941,
          177317,
          178159,
          178995,
          179765,
          180437,
          181123,
          181402,
          181835,
          182799,
          183735,
          184827,
          185650,
          186356,
          186764,
          187291,
          188259,
          189220,
          189982,
          190488,
          190795,
          191139,
          191570,
          192681,
          193875,
          194949,
          195411,
          195725,
          196018,
          196561,
          197732,
          198974,
          200498,
          201460,
          202631,
          203100,
          203580,
          204690,
          205964,
          207095,
          208246,
          209296,
          209847,
          210299,
          211491,
          212831,
          214147,
          215243,
          216445,
          217037,
          217664,
          218878,
          220161,
          221547,
          222666,
          223945,
          224504,
          225099,
          226309,
          227563,
          228795,
          230034,
          230034,
          231534,
          231534,
          233520,
          234850,
          236201,
          237489,
          238532,
          239245,
          239773,
          240940,
          242090,
          243457,
          244737,
          245977,
          246504,
          247143,
          248529
         ],
         "yaxis": "y"
        }
       ],
       "layout": {
        "autosize": true,
        "legend": {
         "tracegroupgap": 0
        },
        "template": {
         "data": {
          "bar": [
           {
            "error_x": {
             "color": "#2a3f5f"
            },
            "error_y": {
             "color": "#2a3f5f"
            },
            "marker": {
             "line": {
              "color": "#E5ECF6",
              "width": 0.5
             }
            },
            "type": "bar"
           }
          ],
          "barpolar": [
           {
            "marker": {
             "line": {
              "color": "#E5ECF6",
              "width": 0.5
             }
            },
            "type": "barpolar"
           }
          ],
          "carpet": [
           {
            "aaxis": {
             "endlinecolor": "#2a3f5f",
             "gridcolor": "white",
             "linecolor": "white",
             "minorgridcolor": "white",
             "startlinecolor": "#2a3f5f"
            },
            "baxis": {
             "endlinecolor": "#2a3f5f",
             "gridcolor": "white",
             "linecolor": "white",
             "minorgridcolor": "white",
             "startlinecolor": "#2a3f5f"
            },
            "type": "carpet"
           }
          ],
          "choropleth": [
           {
            "colorbar": {
             "outlinewidth": 0,
             "ticks": ""
            },
            "type": "choropleth"
           }
          ],
          "contour": [
           {
            "colorbar": {
             "outlinewidth": 0,
             "ticks": ""
            },
            "colorscale": [
             [
              0,
              "#0d0887"
             ],
             [
              0.1111111111111111,
              "#46039f"
             ],
             [
              0.2222222222222222,
              "#7201a8"
             ],
             [
              0.3333333333333333,
              "#9c179e"
             ],
             [
              0.4444444444444444,
              "#bd3786"
             ],
             [
              0.5555555555555556,
              "#d8576b"
             ],
             [
              0.6666666666666666,
              "#ed7953"
             ],
             [
              0.7777777777777778,
              "#fb9f3a"
             ],
             [
              0.8888888888888888,
              "#fdca26"
             ],
             [
              1,
              "#f0f921"
             ]
            ],
            "type": "contour"
           }
          ],
          "contourcarpet": [
           {
            "colorbar": {
             "outlinewidth": 0,
             "ticks": ""
            },
            "type": "contourcarpet"
           }
          ],
          "heatmap": [
           {
            "colorbar": {
             "outlinewidth": 0,
             "ticks": ""
            },
            "colorscale": [
             [
              0,
              "#0d0887"
             ],
             [
              0.1111111111111111,
              "#46039f"
             ],
             [
              0.2222222222222222,
              "#7201a8"
             ],
             [
              0.3333333333333333,
              "#9c179e"
             ],
             [
              0.4444444444444444,
              "#bd3786"
             ],
             [
              0.5555555555555556,
              "#d8576b"
             ],
             [
              0.6666666666666666,
              "#ed7953"
             ],
             [
              0.7777777777777778,
              "#fb9f3a"
             ],
             [
              0.8888888888888888,
              "#fdca26"
             ],
             [
              1,
              "#f0f921"
             ]
            ],
            "type": "heatmap"
           }
          ],
          "heatmapgl": [
           {
            "colorbar": {
             "outlinewidth": 0,
             "ticks": ""
            },
            "colorscale": [
             [
              0,
              "#0d0887"
             ],
             [
              0.1111111111111111,
              "#46039f"
             ],
             [
              0.2222222222222222,
              "#7201a8"
             ],
             [
              0.3333333333333333,
              "#9c179e"
             ],
             [
              0.4444444444444444,
              "#bd3786"
             ],
             [
              0.5555555555555556,
              "#d8576b"
             ],
             [
              0.6666666666666666,
              "#ed7953"
             ],
             [
              0.7777777777777778,
              "#fb9f3a"
             ],
             [
              0.8888888888888888,
              "#fdca26"
             ],
             [
              1,
              "#f0f921"
             ]
            ],
            "type": "heatmapgl"
           }
          ],
          "histogram": [
           {
            "marker": {
             "colorbar": {
              "outlinewidth": 0,
              "ticks": ""
             }
            },
            "type": "histogram"
           }
          ],
          "histogram2d": [
           {
            "colorbar": {
             "outlinewidth": 0,
             "ticks": ""
            },
            "colorscale": [
             [
              0,
              "#0d0887"
             ],
             [
              0.1111111111111111,
              "#46039f"
             ],
             [
              0.2222222222222222,
              "#7201a8"
             ],
             [
              0.3333333333333333,
              "#9c179e"
             ],
             [
              0.4444444444444444,
              "#bd3786"
             ],
             [
              0.5555555555555556,
              "#d8576b"
             ],
             [
              0.6666666666666666,
              "#ed7953"
             ],
             [
              0.7777777777777778,
              "#fb9f3a"
             ],
             [
              0.8888888888888888,
              "#fdca26"
             ],
             [
              1,
              "#f0f921"
             ]
            ],
            "type": "histogram2d"
           }
          ],
          "histogram2dcontour": [
           {
            "colorbar": {
             "outlinewidth": 0,
             "ticks": ""
            },
            "colorscale": [
             [
              0,
              "#0d0887"
             ],
             [
              0.1111111111111111,
              "#46039f"
             ],
             [
              0.2222222222222222,
              "#7201a8"
             ],
             [
              0.3333333333333333,
              "#9c179e"
             ],
             [
              0.4444444444444444,
              "#bd3786"
             ],
             [
              0.5555555555555556,
              "#d8576b"
             ],
             [
              0.6666666666666666,
              "#ed7953"
             ],
             [
              0.7777777777777778,
              "#fb9f3a"
             ],
             [
              0.8888888888888888,
              "#fdca26"
             ],
             [
              1,
              "#f0f921"
             ]
            ],
            "type": "histogram2dcontour"
           }
          ],
          "mesh3d": [
           {
            "colorbar": {
             "outlinewidth": 0,
             "ticks": ""
            },
            "type": "mesh3d"
           }
          ],
          "parcoords": [
           {
            "line": {
             "colorbar": {
              "outlinewidth": 0,
              "ticks": ""
             }
            },
            "type": "parcoords"
           }
          ],
          "pie": [
           {
            "automargin": true,
            "type": "pie"
           }
          ],
          "scatter": [
           {
            "marker": {
             "colorbar": {
              "outlinewidth": 0,
              "ticks": ""
             }
            },
            "type": "scatter"
           }
          ],
          "scatter3d": [
           {
            "line": {
             "colorbar": {
              "outlinewidth": 0,
              "ticks": ""
             }
            },
            "marker": {
             "colorbar": {
              "outlinewidth": 0,
              "ticks": ""
             }
            },
            "type": "scatter3d"
           }
          ],
          "scattercarpet": [
           {
            "marker": {
             "colorbar": {
              "outlinewidth": 0,
              "ticks": ""
             }
            },
            "type": "scattercarpet"
           }
          ],
          "scattergeo": [
           {
            "marker": {
             "colorbar": {
              "outlinewidth": 0,
              "ticks": ""
             }
            },
            "type": "scattergeo"
           }
          ],
          "scattergl": [
           {
            "marker": {
             "colorbar": {
              "outlinewidth": 0,
              "ticks": ""
             }
            },
            "type": "scattergl"
           }
          ],
          "scattermapbox": [
           {
            "marker": {
             "colorbar": {
              "outlinewidth": 0,
              "ticks": ""
             }
            },
            "type": "scattermapbox"
           }
          ],
          "scatterpolar": [
           {
            "marker": {
             "colorbar": {
              "outlinewidth": 0,
              "ticks": ""
             }
            },
            "type": "scatterpolar"
           }
          ],
          "scatterpolargl": [
           {
            "marker": {
             "colorbar": {
              "outlinewidth": 0,
              "ticks": ""
             }
            },
            "type": "scatterpolargl"
           }
          ],
          "scatterternary": [
           {
            "marker": {
             "colorbar": {
              "outlinewidth": 0,
              "ticks": ""
             }
            },
            "type": "scatterternary"
           }
          ],
          "surface": [
           {
            "colorbar": {
             "outlinewidth": 0,
             "ticks": ""
            },
            "colorscale": [
             [
              0,
              "#0d0887"
             ],
             [
              0.1111111111111111,
              "#46039f"
             ],
             [
              0.2222222222222222,
              "#7201a8"
             ],
             [
              0.3333333333333333,
              "#9c179e"
             ],
             [
              0.4444444444444444,
              "#bd3786"
             ],
             [
              0.5555555555555556,
              "#d8576b"
             ],
             [
              0.6666666666666666,
              "#ed7953"
             ],
             [
              0.7777777777777778,
              "#fb9f3a"
             ],
             [
              0.8888888888888888,
              "#fdca26"
             ],
             [
              1,
              "#f0f921"
             ]
            ],
            "type": "surface"
           }
          ],
          "table": [
           {
            "cells": {
             "fill": {
              "color": "#EBF0F8"
             },
             "line": {
              "color": "white"
             }
            },
            "header": {
             "fill": {
              "color": "#C8D4E3"
             },
             "line": {
              "color": "white"
             }
            },
            "type": "table"
           }
          ]
         },
         "layout": {
          "annotationdefaults": {
           "arrowcolor": "#2a3f5f",
           "arrowhead": 0,
           "arrowwidth": 1
          },
          "coloraxis": {
           "colorbar": {
            "outlinewidth": 0,
            "ticks": ""
           }
          },
          "colorscale": {
           "diverging": [
            [
             0,
             "#8e0152"
            ],
            [
             0.1,
             "#c51b7d"
            ],
            [
             0.2,
             "#de77ae"
            ],
            [
             0.3,
             "#f1b6da"
            ],
            [
             0.4,
             "#fde0ef"
            ],
            [
             0.5,
             "#f7f7f7"
            ],
            [
             0.6,
             "#e6f5d0"
            ],
            [
             0.7,
             "#b8e186"
            ],
            [
             0.8,
             "#7fbc41"
            ],
            [
             0.9,
             "#4d9221"
            ],
            [
             1,
             "#276419"
            ]
           ],
           "sequential": [
            [
             0,
             "#0d0887"
            ],
            [
             0.1111111111111111,
             "#46039f"
            ],
            [
             0.2222222222222222,
             "#7201a8"
            ],
            [
             0.3333333333333333,
             "#9c179e"
            ],
            [
             0.4444444444444444,
             "#bd3786"
            ],
            [
             0.5555555555555556,
             "#d8576b"
            ],
            [
             0.6666666666666666,
             "#ed7953"
            ],
            [
             0.7777777777777778,
             "#fb9f3a"
            ],
            [
             0.8888888888888888,
             "#fdca26"
            ],
            [
             1,
             "#f0f921"
            ]
           ],
           "sequentialminus": [
            [
             0,
             "#0d0887"
            ],
            [
             0.1111111111111111,
             "#46039f"
            ],
            [
             0.2222222222222222,
             "#7201a8"
            ],
            [
             0.3333333333333333,
             "#9c179e"
            ],
            [
             0.4444444444444444,
             "#bd3786"
            ],
            [
             0.5555555555555556,
             "#d8576b"
            ],
            [
             0.6666666666666666,
             "#ed7953"
            ],
            [
             0.7777777777777778,
             "#fb9f3a"
            ],
            [
             0.8888888888888888,
             "#fdca26"
            ],
            [
             1,
             "#f0f921"
            ]
           ]
          },
          "colorway": [
           "#636efa",
           "#EF553B",
           "#00cc96",
           "#ab63fa",
           "#FFA15A",
           "#19d3f3",
           "#FF6692",
           "#B6E880",
           "#FF97FF",
           "#FECB52"
          ],
          "font": {
           "color": "#2a3f5f"
          },
          "geo": {
           "bgcolor": "white",
           "lakecolor": "white",
           "landcolor": "#E5ECF6",
           "showlakes": true,
           "showland": true,
           "subunitcolor": "white"
          },
          "hoverlabel": {
           "align": "left"
          },
          "hovermode": "closest",
          "mapbox": {
           "style": "light"
          },
          "paper_bgcolor": "white",
          "plot_bgcolor": "#E5ECF6",
          "polar": {
           "angularaxis": {
            "gridcolor": "white",
            "linecolor": "white",
            "ticks": ""
           },
           "bgcolor": "#E5ECF6",
           "radialaxis": {
            "gridcolor": "white",
            "linecolor": "white",
            "ticks": ""
           }
          },
          "scene": {
           "xaxis": {
            "backgroundcolor": "#E5ECF6",
            "gridcolor": "white",
            "gridwidth": 2,
            "linecolor": "white",
            "showbackground": true,
            "ticks": "",
            "zerolinecolor": "white"
           },
           "yaxis": {
            "backgroundcolor": "#E5ECF6",
            "gridcolor": "white",
            "gridwidth": 2,
            "linecolor": "white",
            "showbackground": true,
            "ticks": "",
            "zerolinecolor": "white"
           },
           "zaxis": {
            "backgroundcolor": "#E5ECF6",
            "gridcolor": "white",
            "gridwidth": 2,
            "linecolor": "white",
            "showbackground": true,
            "ticks": "",
            "zerolinecolor": "white"
           }
          },
          "shapedefaults": {
           "line": {
            "color": "#2a3f5f"
           }
          },
          "ternary": {
           "aaxis": {
            "gridcolor": "white",
            "linecolor": "white",
            "ticks": ""
           },
           "baxis": {
            "gridcolor": "white",
            "linecolor": "white",
            "ticks": ""
           },
           "bgcolor": "#E5ECF6",
           "caxis": {
            "gridcolor": "white",
            "linecolor": "white",
            "ticks": ""
           }
          },
          "title": {
           "x": 0.05
          },
          "xaxis": {
           "automargin": true,
           "gridcolor": "white",
           "linecolor": "white",
           "ticks": "",
           "title": {
            "standoff": 15
           },
           "zerolinecolor": "white",
           "zerolinewidth": 2
          },
          "yaxis": {
           "automargin": true,
           "gridcolor": "white",
           "linecolor": "white",
           "ticks": "",
           "title": {
            "standoff": 15
           },
           "zerolinecolor": "white",
           "zerolinewidth": 2
          }
         }
        },
        "title": {
         "text": "Mortes por Covid no Brasil Log"
        },
        "xaxis": {
         "anchor": "y",
         "autorange": true,
         "domain": [
          0,
          1
         ],
         "range": [
          0,
          398
         ],
         "title": {
          "text": "Dias"
         },
         "type": "category"
        },
        "yaxis": {
         "anchor": "x",
         "autorange": true,
         "domain": [
          0,
          1
         ],
         "range": [
          -0.2997431706869826,
          5.69512024305267
         ],
         "title": {
          "text": "Mortes"
         },
         "type": "log"
        }
       }
      },
      "image/png": "[encoded data removed]",
      "text/html": [
       "<div>                            <div id=\"9c0b9c4f-53b4-4558-b7a7-aff54a725f66\" class=\"plotly-graph-div\" style=\"height:525px; width:100%;\"></div>            <script type=\"text/javascript\">                require([\"plotly\"], function(Plotly) {                    window.PLOTLYENV=window.PLOTLYENV || {};                                    if (document.getElementById(\"9c0b9c4f-53b4-4558-b7a7-aff54a725f66\")) {                    Plotly.newPlot(                        \"9c0b9c4f-53b4-4558-b7a7-aff54a725f66\",                        [{\"hovertemplate\": \"Dias=%{x}<br>Mortes=%{y}<extra></extra>\", \"legendgroup\": \"\", \"line\": {\"color\": \"#636efa\", \"dash\": \"solid\"}, \"mode\": \"lines\", \"name\": \"\", \"orientation\": \"v\", \"showlegend\": false, \"type\": \"scatter\", \"x\": [\"1/22/20\", \"1/23/20\", \"1/24/20\", \"1/25/20\", \"1/26/20\", \"1/27/20\", \"1/28/20\", \"1/29/20\", \"1/30/20\", \"1/31/20\", \"2/1/20\", \"2/2/20\", \"2/3/20\", \"2/4/20\", \"2/5/20\", \"2/6/20\", \"2/7/20\", \"2/8/20\", \"2/9/20\", \"2/10/20\", \"2/11/20\", \"2/12/20\", \"2/13/20\", \"2/14/20\", \"2/15/20\", \"2/16/20\", \"2/17/20\", \"2/18/20\", \"2/19/20\", \"2/20/20\", \"2/21/20\", \"2/22/20\", \"2/23/20\", \"2/24/20\", \"2/25/20\", \"2/26/20\", \"2/27/20\", \"2/28/20\", \"2/29/20\", \"3/1/20\", \"3/2/20\", \"3/3/20\", \"3/4/20\", \"3/5/20\", \"3/6/20\", \"3/7/20\", \"3/8/20\", \"3/9/20\", \"3/10/20\", \"3/11/20\", \"3/12/20\", \"3/13/20\", \"3/14/20\", \"3/15/20\", \"3/16/20\", \"3/17/20\", \"3/18/20\", \"3/19/20\", \"3/20/20\", \"3/21/20\", \"3/22/20\", \"3/23/20\", \"3/24/20\", \"3/25/20\", \"3/26/20\", \"3/27/20\", \"3/28/20\", \"3/29/20\", \"3/30/20\", \"3/31/20\", \"4/1/20\", \"4/2/20\", \"4/3/20\", \"4/4/20\", \"4/5/20\", \"4/6/20\", \"4/7/20\", \"4/8/20\", \"4/9/20\", \"4/10/20\", \"4/11/20\", \"4/12/20\", \"4/13/20\", \"4/14/20\", \"4/15/20\", \"4/16/20\", \"4/17/20\", \"4/18/20\", \"4/19/20\", \"4/20/20\", \"4/21/20\", \"4/22/20\", \"4/23/20\", \"4/24/20\", \"4/25/20\", \"4/26/20\", \"4/27/20\", \"4/28/20\", \"4/29/20\", \"4/30/20\", \"5/1/20\", \"5/2/20\", \"5/3/20\", \"5/4/20\", \"5/5/20\", \"5/6/20\", \"5/7/20\", \"5/8/20\", \"5/9/20\", \"5/10/20\", \"5/11/20\", \"5/12/20\", \"5/13/20\", \"5/14/20\", \"5/15/20\", \"5/16/20\", \"5/17/20\", \"5/18/20\", \"5/19/20\", \"5/20/20\", \"5/21/20\", \"5/22/20\", \"5/23/20\", \"5/24/20\", \"5/25/20\", \"5/26/20\", \"5/27/20\", \"5/28/20\", \"5/29/20\", \"5/30/20\", \"5/31/20\", \"6/1/20\", \"6/2/20\", \"6/3/20\", \"6/4/20\", \"6/5/20\", \"6/6/20\", \"6/7/20\", \"6/8/20\", \"6/9/20\", \"6/10/20\", \"6/11/20\", \"6/12/20\", \"6/13/20\", \"6/14/20\", \"6/15/20\", \"6/16/20\", \"6/17/20\", \"6/18/20\", \"6/19/20\", \"6/20/20\", \"6/21/20\", \"6/22/20\", \"6/23/20\", \"6/24/20\", \"6/25/20\", \"6/26/20\", \"6/27/20\", \"6/28/20\", \"6/29/20\", \"6/30/20\", \"7/1/20\", \"7/2/20\", \"7/3/20\", \"7/4/20\", \"7/5/20\", \"7/6/20\", \"7/7/20\", \"7/8/20\", \"7/9/20\", \"7/10/20\", \"7/11/20\", \"7/12/20\", \"7/13/20\", \"7/14/20\", \"7/15/20\", \"7/16/20\", \"7/17/20\", \"7/18/20\", \"7/19/20\", \"7/20/20\", \"7/21/20\", \"7/22/20\", \"7/23/20\", \"7/24/20\", \"7/25/20\", \"7/26/20\", \"7/27/20\", \"7/28/20\", \"7/29/20\", \"7/30/20\", \"7/31/20\", \"8/1/20\", \"8/2/20\", \"8/3/20\", \"8/4/20\", \"8/5/20\", \"8/6/20\", \"8/7/20\", \"8/8/20\", \"8/9/20\", \"8/10/20\", \"8/11/20\", \"8/12/20\", \"8/13/20\", \"8/14/20\", \"8/15/20\", \"8/16/20\", \"8/17/20\", \"8/18/20\", \"8/19/20\", \"8/20/20\", \"8/21/20\", \"8/22/20\", \"8/23/20\", \"8/24/20\", \"8/25/20\", \"8/26/20\", \"8/27/20\", \"8/28/20\", \"8/29/20\", \"8/30/20\", \"8/31/20\", \"9/1/20\", \"9/2/20\", \"9/3/20\", \"9/4/20\", \"9/5/20\", \"9/6/20\", \"9/7/20\", \"9/8/20\", \"9/9/20\", \"9/10/20\", \"9/11/20\", \"9/12/20\", \"9/13/20\", \"9/14/20\", \"9/15/20\", \"9/16/20\", \"9/17/20\", \"9/18/20\", \"9/19/20\", \"9/20/20\", \"9/21/20\", \"9/22/20\", \"9/23/20\", \"9/24/20\", \"9/25/20\", \"9/26/20\", \"9/27/20\", \"9/28/20\", \"9/29/20\", \"9/30/20\", \"10/1/20\", \"10/2/20\", \"10/3/20\", \"10/4/20\", \"10/5/20\", \"10/6/20\", \"10/7/20\", \"10/8/20\", \"10/9/20\", \"10/10/20\", \"10/11/20\", \"10/12/20\", \"10/13/20\", \"10/14/20\", \"10/15/20\", \"10/16/20\", \"10/17/20\", \"10/18/20\", \"10/19/20\", \"10/20/20\", \"10/21/20\", \"10/22/20\", \"10/23/20\", \"10/24/20\", \"10/25/20\", \"10/26/20\", \"10/27/20\", \"10/28/20\", \"10/29/20\", \"10/30/20\", \"10/31/20\", \"11/1/20\", \"11/2/20\", \"11/3/20\", \"11/4/20\", \"11/5/20\", \"11/6/20\", \"11/7/20\", \"11/8/20\", \"11/9/20\", \"11/10/20\", \"11/11/20\", \"11/12/20\", \"11/13/20\", \"11/14/20\", \"11/15/20\", \"11/16/20\", \"11/17/20\", \"11/18/20\", \"11/19/20\", \"11/20/20\", \"11/21/20\", \"11/22/20\", \"11/23/20\", \"11/24/20\", \"11/25/20\", \"11/26/20\", \"11/27/20\", \"11/28/20\", \"11/29/20\", \"11/30/20\", \"12/1/20\", \"12/2/20\", \"12/3/20\", \"12/4/20\", \"12/5/20\", \"12/6/20\", \"12/7/20\", \"12/8/20\", \"12/9/20\", \"12/10/20\", \"12/11/20\", \"12/12/20\", \"12/13/20\", \"12/14/20\", \"12/15/20\", \"12/16/20\", \"12/17/20\", \"12/18/20\", \"12/19/20\", \"12/20/20\", \"12/21/20\", \"12/22/20\", \"12/23/20\", \"12/24/20\", \"12/25/20\", \"12/26/20\", \"12/27/20\", \"12/28/20\", \"12/29/20\", \"12/30/20\", \"12/31/20\", \"1/1/21\", \"1/2/21\", \"1/3/21\", \"1/4/21\", \"1/5/21\", \"1/6/21\", \"1/7/21\", \"1/8/21\", \"1/9/21\", \"1/10/21\", \"1/11/21\", \"1/12/21\", \"1/13/21\", \"1/14/21\", \"1/15/21\", \"1/16/21\", \"1/17/21\", \"1/18/21\", \"1/19/21\", \"1/20/21\", \"1/21/21\", \"1/22/21\", \"1/23/21\", \"1/24/21\", \"1/25/21\", \"1/26/21\", \"1/27/21\", \"1/28/21\", \"1/29/21\", \"1/30/21\", \"1/31/21\", \"2/1/21\", \"2/2/21\", \"2/3/21\", \"2/4/21\", \"2/5/21\", \"2/6/21\", \"2/7/21\", \"2/8/21\", \"2/9/21\", \"2/10/21\", \"2/11/21\", \"2/12/21\", \"2/13/21\", \"2/14/21\", \"2/15/21\", \"2/16/21\", \"2/17/21\", \"2/18/21\", \"2/19/21\", \"2/20/21\", \"2/21/21\", \"2/22/21\", \"2/23/21\"], \"xaxis\": \"x\", \"y\": [0, 0, 0, 0, 0, 0, 0, 0, 0, 0, 0, 0, 0, 0, 0, 0, 0, 0, 0, 0, 0, 0, 0, 0, 0, 0, 0, 0, 0, 0, 0, 0, 0, 0, 0, 0, 0, 0, 0, 0, 0, 0, 0, 0, 0, 0, 0, 0, 0, 0, 0, 0, 0, 0, 0, 1, 3, 6, 11, 15, 25, 34, 46, 59, 77, 92, 111, 136, 159, 201, 240, 324, 359, 445, 486, 564, 686, 819, 950, 1057, 1124, 1223, 1328, 1532, 1736, 1924, 2141, 2354, 2462, 2587, 2741, 2906, 3331, 3704, 4057, 4286, 4603, 5083, 5513, 6006, 6412, 6761, 7051, 7367, 7938, 8588, 9190, 10017, 10656, 11123, 11653, 12461, 13240, 13999, 14962, 15662, 16118, 16853, 17983, 18859, 20047, 21048, 22013, 22666, 23473, 24512, 25598, 26754, 27878, 28834, 29314, 29937, 31199, 32548, 34021, 35026, 35930, 36455, 37134, 38406, 39680, 40919, 41828, 42720, 43332, 43959, 45241, 46510, 47748, 48954, 49976, 50591, 51271, 52645, 53830, 54971, 55961, 57070, 57622, 58314, 59594, 60632, 61884, 63174, 64265, 64867, 65487, 66741, 67964, 69184, 70398, 71469, 72100, 72833, 74133, 75366, 76688, 77851, 78772, 79488, 80120, 81487, 82771, 84082, 85238, 86449, 87004, 87618, 88539, 90134, 91263, 92475, 93563, 94104, 94665, 95819, 97256, 98493, 99572, 100477, 101049, 101752, 103026, 104201, 105463, 106523, 107232, 107852, 108536, 109888, 111100, 112304, 113358, 114250, 114744, 115309, 116580, 117665, 118649, 119504, 120262, 120828, 121381, 122596, 123780, 124614, 125502, 126203, 126650, 126960, 127464, 128539, 129522, 130396, 131210, 131625, 132006, 133119, 134106, 134935, 135793, 136532, 136895, 137272, 138105, 138105, 139808, 140537, 141406, 141741, 142058, 142921, 143952, 144680, 144680, 145987, 146352, 146675, 147494, 148228, 148957, 149639, 150198, 150488, 150689, 150998, 151747, 152460, 153214, 153675, 153675, 154176, 154837, 155403, 155900, 156471, 156903, 157134, 157397, 157946, 158456, 158969, 159477, 159884, 160074, 160253, 160496, 161106, 161106, 162015, 162269, 162397, 162628, 162802, 163368, 164281, 164737, 165658, 165798, 166014, 166699, 167455, 168061, 168613, 168989, 169183, 169485, 170115, 170769, 171460, 171974, 172561, 172833, 173120, 173817, 174515, 175270, 175964, 176628, 176941, 177317, 178159, 178995, 179765, 180437, 181123, 181402, 181835, 182799, 183735, 184827, 185650, 186356, 186764, 187291, 188259, 189220, 189982, 190488, 190795, 191139, 191570, 192681, 193875, 194949, 195411, 195725, 196018, 196561, 197732, 198974, 200498, 201460, 202631, 203100, 203580, 204690, 205964, 207095, 208246, 209296, 209847, 210299, 211491, 212831, 214147, 215243, 216445, 217037, 217664, 218878, 220161, 221547, 222666, 223945, 224504, 225099, 226309, 227563, 228795, 230034, 230034, 231534, 231534, 233520, 234850, 236201, 237489, 238532, 239245, 239773, 240940, 242090, 243457, 244737, 245977, 246504, 247143, 248529], \"yaxis\": \"y\"}],                        {\"legend\": {\"tracegroupgap\": 0}, \"template\": {\"data\": {\"bar\": [{\"error_x\": {\"color\": \"#2a3f5f\"}, \"error_y\": {\"color\": \"#2a3f5f\"}, \"marker\": {\"line\": {\"color\": \"#E5ECF6\", \"width\": 0.5}}, \"type\": \"bar\"}], \"barpolar\": [{\"marker\": {\"line\": {\"color\": \"#E5ECF6\", \"width\": 0.5}}, \"type\": \"barpolar\"}], \"carpet\": [{\"aaxis\": {\"endlinecolor\": \"#2a3f5f\", \"gridcolor\": \"white\", \"linecolor\": \"white\", \"minorgridcolor\": \"white\", \"startlinecolor\": \"#2a3f5f\"}, \"baxis\": {\"endlinecolor\": \"#2a3f5f\", \"gridcolor\": \"white\", \"linecolor\": \"white\", \"minorgridcolor\": \"white\", \"startlinecolor\": \"#2a3f5f\"}, \"type\": \"carpet\"}], \"choropleth\": [{\"colorbar\": {\"outlinewidth\": 0, \"ticks\": \"\"}, \"type\": \"choropleth\"}], \"contour\": [{\"colorbar\": {\"outlinewidth\": 0, \"ticks\": \"\"}, \"colorscale\": [[0.0, \"#0d0887\"], [0.1111111111111111, \"#46039f\"], [0.2222222222222222, \"#7201a8\"], [0.3333333333333333, \"#9c179e\"], [0.4444444444444444, \"#bd3786\"], [0.5555555555555556, \"#d8576b\"], [0.6666666666666666, \"#ed7953\"], [0.7777777777777778, \"#fb9f3a\"], [0.8888888888888888, \"#fdca26\"], [1.0, \"#f0f921\"]], \"type\": \"contour\"}], \"contourcarpet\": [{\"colorbar\": {\"outlinewidth\": 0, \"ticks\": \"\"}, \"type\": \"contourcarpet\"}], \"heatmap\": [{\"colorbar\": {\"outlinewidth\": 0, \"ticks\": \"\"}, \"colorscale\": [[0.0, \"#0d0887\"], [0.1111111111111111, \"#46039f\"], [0.2222222222222222, \"#7201a8\"], [0.3333333333333333, \"#9c179e\"], [0.4444444444444444, \"#bd3786\"], [0.5555555555555556, \"#d8576b\"], [0.6666666666666666, \"#ed7953\"], [0.7777777777777778, \"#fb9f3a\"], [0.8888888888888888, \"#fdca26\"], [1.0, \"#f0f921\"]], \"type\": \"heatmap\"}], \"heatmapgl\": [{\"colorbar\": {\"outlinewidth\": 0, \"ticks\": \"\"}, \"colorscale\": [[0.0, \"#0d0887\"], [0.1111111111111111, \"#46039f\"], [0.2222222222222222, \"#7201a8\"], [0.3333333333333333, \"#9c179e\"], [0.4444444444444444, \"#bd3786\"], [0.5555555555555556, \"#d8576b\"], [0.6666666666666666, \"#ed7953\"], [0.7777777777777778, \"#fb9f3a\"], [0.8888888888888888, \"#fdca26\"], [1.0, \"#f0f921\"]], \"type\": \"heatmapgl\"}], \"histogram\": [{\"marker\": {\"colorbar\": {\"outlinewidth\": 0, \"ticks\": \"\"}}, \"type\": \"histogram\"}], \"histogram2d\": [{\"colorbar\": {\"outlinewidth\": 0, \"ticks\": \"\"}, \"colorscale\": [[0.0, \"#0d0887\"], [0.1111111111111111, \"#46039f\"], [0.2222222222222222, \"#7201a8\"], [0.3333333333333333, \"#9c179e\"], [0.4444444444444444, \"#bd3786\"], [0.5555555555555556, \"#d8576b\"], [0.6666666666666666, \"#ed7953\"], [0.7777777777777778, \"#fb9f3a\"], [0.8888888888888888, \"#fdca26\"], [1.0, \"#f0f921\"]], \"type\": \"histogram2d\"}], \"histogram2dcontour\": [{\"colorbar\": {\"outlinewidth\": 0, \"ticks\": \"\"}, \"colorscale\": [[0.0, \"#0d0887\"], [0.1111111111111111, \"#46039f\"], [0.2222222222222222, \"#7201a8\"], [0.3333333333333333, \"#9c179e\"], [0.4444444444444444, \"#bd3786\"], [0.5555555555555556, \"#d8576b\"], [0.6666666666666666, \"#ed7953\"], [0.7777777777777778, \"#fb9f3a\"], [0.8888888888888888, \"#fdca26\"], [1.0, \"#f0f921\"]], \"type\": \"histogram2dcontour\"}], \"mesh3d\": [{\"colorbar\": {\"outlinewidth\": 0, \"ticks\": \"\"}, \"type\": \"mesh3d\"}], \"parcoords\": [{\"line\": {\"colorbar\": {\"outlinewidth\": 0, \"ticks\": \"\"}}, \"type\": \"parcoords\"}], \"pie\": [{\"automargin\": true, \"type\": \"pie\"}], \"scatter\": [{\"marker\": {\"colorbar\": {\"outlinewidth\": 0, \"ticks\": \"\"}}, \"type\": \"scatter\"}], \"scatter3d\": [{\"line\": {\"colorbar\": {\"outlinewidth\": 0, \"ticks\": \"\"}}, \"marker\": {\"colorbar\": {\"outlinewidth\": 0, \"ticks\": \"\"}}, \"type\": \"scatter3d\"}], \"scattercarpet\": [{\"marker\": {\"colorbar\": {\"outlinewidth\": 0, \"ticks\": \"\"}}, \"type\": \"scattercarpet\"}], \"scattergeo\": [{\"marker\": {\"colorbar\": {\"outlinewidth\": 0, \"ticks\": \"\"}}, \"type\": \"scattergeo\"}], \"scattergl\": [{\"marker\": {\"colorbar\": {\"outlinewidth\": 0, \"ticks\": \"\"}}, \"type\": \"scattergl\"}], \"scattermapbox\": [{\"marker\": {\"colorbar\": {\"outlinewidth\": 0, \"ticks\": \"\"}}, \"type\": \"scattermapbox\"}], \"scatterpolar\": [{\"marker\": {\"colorbar\": {\"outlinewidth\": 0, \"ticks\": \"\"}}, \"type\": \"scatterpolar\"}], \"scatterpolargl\": [{\"marker\": {\"colorbar\": {\"outlinewidth\": 0, \"ticks\": \"\"}}, \"type\": \"scatterpolargl\"}], \"scatterternary\": [{\"marker\": {\"colorbar\": {\"outlinewidth\": 0, \"ticks\": \"\"}}, \"type\": \"scatterternary\"}], \"surface\": [{\"colorbar\": {\"outlinewidth\": 0, \"ticks\": \"\"}, \"colorscale\": [[0.0, \"#0d0887\"], [0.1111111111111111, \"#46039f\"], [0.2222222222222222, \"#7201a8\"], [0.3333333333333333, \"#9c179e\"], [0.4444444444444444, \"#bd3786\"], [0.5555555555555556, \"#d8576b\"], [0.6666666666666666, \"#ed7953\"], [0.7777777777777778, \"#fb9f3a\"], [0.8888888888888888, \"#fdca26\"], [1.0, \"#f0f921\"]], \"type\": \"surface\"}], \"table\": [{\"cells\": {\"fill\": {\"color\": \"#EBF0F8\"}, \"line\": {\"color\": \"white\"}}, \"header\": {\"fill\": {\"color\": \"#C8D4E3\"}, \"line\": {\"color\": \"white\"}}, \"type\": \"table\"}]}, \"layout\": {\"annotationdefaults\": {\"arrowcolor\": \"#2a3f5f\", \"arrowhead\": 0, \"arrowwidth\": 1}, \"coloraxis\": {\"colorbar\": {\"outlinewidth\": 0, \"ticks\": \"\"}}, \"colorscale\": {\"diverging\": [[0, \"#8e0152\"], [0.1, \"#c51b7d\"], [0.2, \"#de77ae\"], [0.3, \"#f1b6da\"], [0.4, \"#fde0ef\"], [0.5, \"#f7f7f7\"], [0.6, \"#e6f5d0\"], [0.7, \"#b8e186\"], [0.8, \"#7fbc41\"], [0.9, \"#4d9221\"], [1, \"#276419\"]], \"sequential\": [[0.0, \"#0d0887\"], [0.1111111111111111, \"#46039f\"], [0.2222222222222222, \"#7201a8\"], [0.3333333333333333, \"#9c179e\"], [0.4444444444444444, \"#bd3786\"], [0.5555555555555556, \"#d8576b\"], [0.6666666666666666, \"#ed7953\"], [0.7777777777777778, \"#fb9f3a\"], [0.8888888888888888, \"#fdca26\"], [1.0, \"#f0f921\"]], \"sequentialminus\": [[0.0, \"#0d0887\"], [0.1111111111111111, \"#46039f\"], [0.2222222222222222, \"#7201a8\"], [0.3333333333333333, \"#9c179e\"], [0.4444444444444444, \"#bd3786\"], [0.5555555555555556, \"#d8576b\"], [0.6666666666666666, \"#ed7953\"], [0.7777777777777778, \"#fb9f3a\"], [0.8888888888888888, \"#fdca26\"], [1.0, \"#f0f921\"]]}, \"colorway\": [\"#636efa\", \"#EF553B\", \"#00cc96\", \"#ab63fa\", \"#FFA15A\", \"#19d3f3\", \"#FF6692\", \"#B6E880\", \"#FF97FF\", \"#FECB52\"], \"font\": {\"color\": \"#2a3f5f\"}, \"geo\": {\"bgcolor\": \"white\", \"lakecolor\": \"white\", \"landcolor\": \"#E5ECF6\", \"showlakes\": true, \"showland\": true, \"subunitcolor\": \"white\"}, \"hoverlabel\": {\"align\": \"left\"}, \"hovermode\": \"closest\", \"mapbox\": {\"style\": \"light\"}, \"paper_bgcolor\": \"white\", \"plot_bgcolor\": \"#E5ECF6\", \"polar\": {\"angularaxis\": {\"gridcolor\": \"white\", \"linecolor\": \"white\", \"ticks\": \"\"}, \"bgcolor\": \"#E5ECF6\", \"radialaxis\": {\"gridcolor\": \"white\", \"linecolor\": \"white\", \"ticks\": \"\"}}, \"scene\": {\"xaxis\": {\"backgroundcolor\": \"#E5ECF6\", \"gridcolor\": \"white\", \"gridwidth\": 2, \"linecolor\": \"white\", \"showbackground\": true, \"ticks\": \"\", \"zerolinecolor\": \"white\"}, \"yaxis\": {\"backgroundcolor\": \"#E5ECF6\", \"gridcolor\": \"white\", \"gridwidth\": 2, \"linecolor\": \"white\", \"showbackground\": true, \"ticks\": \"\", \"zerolinecolor\": \"white\"}, \"zaxis\": {\"backgroundcolor\": \"#E5ECF6\", \"gridcolor\": \"white\", \"gridwidth\": 2, \"linecolor\": \"white\", \"showbackground\": true, \"ticks\": \"\", \"zerolinecolor\": \"white\"}}, \"shapedefaults\": {\"line\": {\"color\": \"#2a3f5f\"}}, \"ternary\": {\"aaxis\": {\"gridcolor\": \"white\", \"linecolor\": \"white\", \"ticks\": \"\"}, \"baxis\": {\"gridcolor\": \"white\", \"linecolor\": \"white\", \"ticks\": \"\"}, \"bgcolor\": \"#E5ECF6\", \"caxis\": {\"gridcolor\": \"white\", \"linecolor\": \"white\", \"ticks\": \"\"}}, \"title\": {\"x\": 0.05}, \"xaxis\": {\"automargin\": true, \"gridcolor\": \"white\", \"linecolor\": \"white\", \"ticks\": \"\", \"title\": {\"standoff\": 15}, \"zerolinecolor\": \"white\", \"zerolinewidth\": 2}, \"yaxis\": {\"automargin\": true, \"gridcolor\": \"white\", \"linecolor\": \"white\", \"ticks\": \"\", \"title\": {\"standoff\": 15}, \"zerolinecolor\": \"white\", \"zerolinewidth\": 2}}}, \"title\": {\"text\": \"Mortes por Covid no Brasil Log\"}, \"xaxis\": {\"anchor\": \"y\", \"domain\": [0.0, 1.0], \"title\": {\"text\": \"Dias\"}}, \"yaxis\": {\"anchor\": \"x\", \"domain\": [0.0, 1.0], \"title\": {\"text\": \"Mortes\"}, \"type\": \"log\"}},                        {\"responsive\": true}                    ).then(function(){\n",
       "                            \n",
       "var gd = document.getElementById('9c0b9c4f-53b4-4558-b7a7-aff54a725f66');\n",
       "var x = new MutationObserver(function (mutations, observer) {{\n",
       "        var display = window.getComputedStyle(gd).display;\n",
       "        if (!display || display === 'none') {{\n",
       "            console.log([gd, 'removed!']);\n",
       "            Plotly.purge(gd);\n",
       "            observer.disconnect();\n",
       "        }}\n",
       "}});\n",
       "\n",
       "// Listen for the removal of the full notebook cells\n",
       "var notebookContainer = gd.closest('#notebook-container');\n",
       "if (notebookContainer) {{\n",
       "    x.observe(notebookContainer, {childList: true});\n",
       "}}\n",
       "\n",
       "// Listen for the clearing of the current output cell\n",
       "var outputEl = gd.closest('.output');\n",
       "if (outputEl) {{\n",
       "    x.observe(outputEl, {childList: true});\n",
       "}}\n",
       "\n",
       "                        })                };                });            </script>        </div>"
      ]
     },
     "metadata": {},
     "output_type": "display_data"
    },
    {
     "data": {
      "application/vnd.plotly.v1+json": {
       "config": {
        "plotlyServerURL": "https://plot.ly"
       },
       "data": [
        {
         "hovertemplate": "Dias=%{x}<br>Casos=%{y}<extra></extra>",
         "legendgroup": "",
         "line": {
          "color": "#636efa",
          "dash": "solid"
         },
         "mode": "lines",
         "name": "",
         "orientation": "v",
         "showlegend": false,
         "type": "scatter",
         "x": [
          "1/22/20",
          "1/23/20",
          "1/24/20",
          "1/25/20",
          "1/26/20",
          "1/27/20",
          "1/28/20",
          "1/29/20",
          "1/30/20",
          "1/31/20",
          "2/1/20",
          "2/2/20",
          "2/3/20",
          "2/4/20",
          "2/5/20",
          "2/6/20",
          "2/7/20",
          "2/8/20",
          "2/9/20",
          "2/10/20",
          "2/11/20",
          "2/12/20",
          "2/13/20",
          "2/14/20",
          "2/15/20",
          "2/16/20",
          "2/17/20",
          "2/18/20",
          "2/19/20",
          "2/20/20",
          "2/21/20",
          "2/22/20",
          "2/23/20",
          "2/24/20",
          "2/25/20",
          "2/26/20",
          "2/27/20",
          "2/28/20",
          "2/29/20",
          "3/1/20",
          "3/2/20",
          "3/3/20",
          "3/4/20",
          "3/5/20",
          "3/6/20",
          "3/7/20",
          "3/8/20",
          "3/9/20",
          "3/10/20",
          "3/11/20",
          "3/12/20",
          "3/13/20",
          "3/14/20",
          "3/15/20",
          "3/16/20",
          "3/17/20",
          "3/18/20",
          "3/19/20",
          "3/20/20",
          "3/21/20",
          "3/22/20",
          "3/23/20",
          "3/24/20",
          "3/25/20",
          "3/26/20",
          "3/27/20",
          "3/28/20",
          "3/29/20",
          "3/30/20",
          "3/31/20",
          "4/1/20",
          "4/2/20",
          "4/3/20",
          "4/4/20",
          "4/5/20",
          "4/6/20",
          "4/7/20",
          "4/8/20",
          "4/9/20",
          "4/10/20",
          "4/11/20",
          "4/12/20",
          "4/13/20",
          "4/14/20",
          "4/15/20",
          "4/16/20",
          "4/17/20",
          "4/18/20",
          "4/19/20",
          "4/20/20",
          "4/21/20",
          "4/22/20",
          "4/23/20",
          "4/24/20",
          "4/25/20",
          "4/26/20",
          "4/27/20",
          "4/28/20",
          "4/29/20",
          "4/30/20",
          "5/1/20",
          "5/2/20",
          "5/3/20",
          "5/4/20",
          "5/5/20",
          "5/6/20",
          "5/7/20",
          "5/8/20",
          "5/9/20",
          "5/10/20",
          "5/11/20",
          "5/12/20",
          "5/13/20",
          "5/14/20",
          "5/15/20",
          "5/16/20",
          "5/17/20",
          "5/18/20",
          "5/19/20",
          "5/20/20",
          "5/21/20",
          "5/22/20",
          "5/23/20",
          "5/24/20",
          "5/25/20",
          "5/26/20",
          "5/27/20",
          "5/28/20",
          "5/29/20",
          "5/30/20",
          "5/31/20",
          "6/1/20",
          "6/2/20",
          "6/3/20",
          "6/4/20",
          "6/5/20",
          "6/6/20",
          "6/7/20",
          "6/8/20",
          "6/9/20",
          "6/10/20",
          "6/11/20",
          "6/12/20",
          "6/13/20",
          "6/14/20",
          "6/15/20",
          "6/16/20",
          "6/17/20",
          "6/18/20",
          "6/19/20",
          "6/20/20",
          "6/21/20",
          "6/22/20",
          "6/23/20",
          "6/24/20",
          "6/25/20",
          "6/26/20",
          "6/27/20",
          "6/28/20",
          "6/29/20",
          "6/30/20",
          "7/1/20",
          "7/2/20",
          "7/3/20",
          "7/4/20",
          "7/5/20",
          "7/6/20",
          "7/7/20",
          "7/8/20",
          "7/9/20",
          "7/10/20",
          "7/11/20",
          "7/12/20",
          "7/13/20",
          "7/14/20",
          "7/15/20",
          "7/16/20",
          "7/17/20",
          "7/18/20",
          "7/19/20",
          "7/20/20",
          "7/21/20",
          "7/22/20",
          "7/23/20",
          "7/24/20",
          "7/25/20",
          "7/26/20",
          "7/27/20",
          "7/28/20",
          "7/29/20",
          "7/30/20",
          "7/31/20",
          "8/1/20",
          "8/2/20",
          "8/3/20",
          "8/4/20",
          "8/5/20",
          "8/6/20",
          "8/7/20",
          "8/8/20",
          "8/9/20",
          "8/10/20",
          "8/11/20",
          "8/12/20",
          "8/13/20",
          "8/14/20",
          "8/15/20",
          "8/16/20",
          "8/17/20",
          "8/18/20",
          "8/19/20",
          "8/20/20",
          "8/21/20",
          "8/22/20",
          "8/23/20",
          "8/24/20",
          "8/25/20",
          "8/26/20",
          "8/27/20",
          "8/28/20",
          "8/29/20",
          "8/30/20",
          "8/31/20",
          "9/1/20",
          "9/2/20",
          "9/3/20",
          "9/4/20",
          "9/5/20",
          "9/6/20",
          "9/7/20",
          "9/8/20",
          "9/9/20",
          "9/10/20",
          "9/11/20",
          "9/12/20",
          "9/13/20",
          "9/14/20",
          "9/15/20",
          "9/16/20",
          "9/17/20",
          "9/18/20",
          "9/19/20",
          "9/20/20",
          "9/21/20",
          "9/22/20",
          "9/23/20",
          "9/24/20",
          "9/25/20",
          "9/26/20",
          "9/27/20",
          "9/28/20",
          "9/29/20",
          "9/30/20",
          "10/1/20",
          "10/2/20",
          "10/3/20",
          "10/4/20",
          "10/5/20",
          "10/6/20",
          "10/7/20",
          "10/8/20",
          "10/9/20",
          "10/10/20",
          "10/11/20",
          "10/12/20",
          "10/13/20",
          "10/14/20",
          "10/15/20",
          "10/16/20",
          "10/17/20",
          "10/18/20",
          "10/19/20",
          "10/20/20",
          "10/21/20",
          "10/22/20",
          "10/23/20",
          "10/24/20",
          "10/25/20",
          "10/26/20",
          "10/27/20",
          "10/28/20",
          "10/29/20",
          "10/30/20",
          "10/31/20",
          "11/1/20",
          "11/2/20",
          "11/3/20",
          "11/4/20",
          "11/5/20",
          "11/6/20",
          "11/7/20",
          "11/8/20",
          "11/9/20",
          "11/10/20",
          "11/11/20",
          "11/12/20",
          "11/13/20",
          "11/14/20",
          "11/15/20",
          "11/16/20",
          "11/17/20",
          "11/18/20",
          "11/19/20",
          "11/20/20",
          "11/21/20",
          "11/22/20",
          "11/23/20",
          "11/24/20",
          "11/25/20",
          "11/26/20",
          "11/27/20",
          "11/28/20",
          "11/29/20",
          "11/30/20",
          "12/1/20",
          "12/2/20",
          "12/3/20",
          "12/4/20",
          "12/5/20",
          "12/6/20",
          "12/7/20",
          "12/8/20",
          "12/9/20",
          "12/10/20",
          "12/11/20",
          "12/12/20",
          "12/13/20",
          "12/14/20",
          "12/15/20",
          "12/16/20",
          "12/17/20",
          "12/18/20",
          "12/19/20",
          "12/20/20",
          "12/21/20",
          "12/22/20",
          "12/23/20",
          "12/24/20",
          "12/25/20",
          "12/26/20",
          "12/27/20",
          "12/28/20",
          "12/29/20",
          "12/30/20",
          "12/31/20",
          "1/1/21",
          "1/2/21",
          "1/3/21",
          "1/4/21",
          "1/5/21",
          "1/6/21",
          "1/7/21",
          "1/8/21",
          "1/9/21",
          "1/10/21",
          "1/11/21",
          "1/12/21",
          "1/13/21",
          "1/14/21",
          "1/15/21",
          "1/16/21",
          "1/17/21",
          "1/18/21",
          "1/19/21",
          "1/20/21",
          "1/21/21",
          "1/22/21",
          "1/23/21",
          "1/24/21",
          "1/25/21",
          "1/26/21",
          "1/27/21",
          "1/28/21",
          "1/29/21",
          "1/30/21",
          "1/31/21",
          "2/1/21",
          "2/2/21",
          "2/3/21",
          "2/4/21",
          "2/5/21",
          "2/6/21",
          "2/7/21",
          "2/8/21",
          "2/9/21",
          "2/10/21",
          "2/11/21",
          "2/12/21",
          "2/13/21",
          "2/14/21",
          "2/15/21",
          "2/16/21",
          "2/17/21",
          "2/18/21",
          "2/19/21",
          "2/20/21",
          "2/21/21",
          "2/22/21",
          "2/23/21"
         ],
         "xaxis": "x",
         "y": [
          0,
          0,
          0,
          0,
          0,
          0,
          0,
          0,
          0,
          0,
          0,
          0,
          0,
          0,
          0,
          0,
          0,
          0,
          0,
          0,
          0,
          0,
          0,
          0,
          0,
          0,
          0,
          0,
          0,
          0,
          0,
          0,
          0,
          0,
          0,
          1,
          1,
          1,
          2,
          2,
          2,
          2,
          4,
          4,
          13,
          13,
          20,
          25,
          31,
          38,
          52,
          151,
          151,
          162,
          200,
          321,
          372,
          621,
          793,
          1021,
          1546,
          1924,
          2247,
          2554,
          2985,
          3417,
          3904,
          4256,
          4579,
          5717,
          6836,
          8044,
          9056,
          10360,
          11130,
          12161,
          14034,
          16170,
          18092,
          19638,
          20727,
          22192,
          23430,
          25262,
          28320,
          30425,
          33682,
          36658,
          38654,
          40743,
          43079,
          45757,
          50036,
          54043,
          59324,
          63100,
          67446,
          73235,
          79685,
          87187,
          92202,
          97100,
          101826,
          108620,
          115455,
          126611,
          135773,
          146894,
          156061,
          162699,
          169594,
          178214,
          190137,
          203165,
          220291,
          233511,
          241080,
          255368,
          271885,
          291579,
          310087,
          330890,
          347398,
          363211,
          374898,
          391222,
          411821,
          438238,
          465166,
          498440,
          514849,
          526447,
          555383,
          584016,
          614941,
          645771,
          672846,
          691758,
          707412,
          739503,
          772416,
          802828,
          828810,
          850514,
          867624,
          888271,
          923189,
          955377,
          978142,
          1032913,
          1067579,
          1083341,
          1106470,
          1145906,
          1188631,
          1228114,
          1274974,
          1313667,
          1344143,
          1368195,
          1402041,
          1448753,
          1496858,
          1539081,
          1577004,
          1603055,
          1623284,
          1668589,
          1713160,
          1755779,
          1800827,
          1839850,
          1864681,
          1884967,
          1926824,
          1966748,
          2012151,
          2046328,
          2074860,
          2098389,
          2118646,
          2159654,
          2227514,
          2287475,
          2343366,
          2394513,
          2419091,
          2442375,
          2483191,
          2552265,
          2610102,
          2662485,
          2707877,
          2733677,
          2750318,
          2801921,
          2859073,
          2912212,
          2962442,
          3012412,
          3035422,
          3057470,
          3109630,
          3164785,
          3224876,
          3275520,
          3317096,
          3340197,
          3359570,
          3407354,
          3456652,
          3501975,
          3532330,
          3582362,
          3605783,
          3622861,
          3669995,
          3717156,
          3761391,
          3804803,
          3846153,
          3862311,
          3908272,
          3950931,
          3997865,
          4041638,
          4091801,
          4123000,
          4137521,
          4147794,
          4162073,
          4197889,
          4238446,
          4282164,
          4315687,
          4330455,
          4345610,
          4382263,
          4419083,
          4455386,
          4495183,
          4528240,
          4544629,
          4558040,
          4591364,
          4591364,
          4657702,
          4689613,
          4717991,
          4732309,
          4745464,
          4777522,
          4810935,
          4847092,
          4847092,
          4906833,
          4915289,
          4927235,
          4969141,
          5000694,
          5028444,
          5055888,
          5082637,
          5094979,
          5103408,
          5113628,
          5140863,
          5169386,
          5200300,
          5224362,
          5224362,
          5250727,
          5273954,
          5298772,
          5323630,
          5353656,
          5380635,
          5394128,
          5409854,
          5439641,
          5468270,
          5494376,
          5516658,
          5535605,
          5545705,
          5554206,
          5566049,
          5590025,
          5590025,
          5631181,
          5653561,
          5664115,
          5675032,
          5699005,
          5747660,
          5781582,
          5810652,
          5848959,
          5863093,
          5876464,
          5911758,
          5945849,
          5981767,
          6020164,
          6052786,
          6071401,
          6087608,
          6118708,
          6166606,
          6204220,
          6238350,
          6290272,
          6314740,
          6335878,
          6386787,
          6436650,
          6487084,
          6533968,
          6577177,
          6603540,
          6623911,
          6674999,
          6728452,
          6781799,
          6836227,
          6880127,
          6901952,
          6927145,
          6970034,
          7040608,
          7110434,
          7162978,
          7213155,
          7238600,
          7263619,
          7318821,
          7365517,
          7423945,
          7448560,
          7465806,
          7484285,
          7504833,
          7563551,
          7619200,
          7675973,
          7700578,
          7716405,
          7733746,
          7753752,
          7810400,
          7873830,
          7961673,
          8013708,
          8075998,
          8105790,
          8131612,
          8195637,
          8256536,
          8324294,
          8393492,
          8455059,
          8488099,
          8511770,
          8573864,
          8638249,
          8697368,
          8753920,
          8816254,
          8844577,
          8871393,
          8933356,
          8996876,
          9058687,
          9118513,
          9176975,
          9204731,
          9229322,
          9283418,
          9339420,
          9396293,
          9447165,
          9447165,
          9524640,
          9524640,
          9599565,
          9659167,
          9713909,
          9765455,
          9809754,
          9834513,
          9866710,
          9921981,
          9978747,
          10030626,
          10084208,
          10139148,
          10168174,
          10195160,
          10257875
         ],
         "yaxis": "y"
        }
       ],
       "layout": {
        "autosize": true,
        "legend": {
         "tracegroupgap": 0
        },
        "template": {
         "data": {
          "bar": [
           {
            "error_x": {
             "color": "#2a3f5f"
            },
            "error_y": {
             "color": "#2a3f5f"
            },
            "marker": {
             "line": {
              "color": "#E5ECF6",
              "width": 0.5
             }
            },
            "type": "bar"
           }
          ],
          "barpolar": [
           {
            "marker": {
             "line": {
              "color": "#E5ECF6",
              "width": 0.5
             }
            },
            "type": "barpolar"
           }
          ],
          "carpet": [
           {
            "aaxis": {
             "endlinecolor": "#2a3f5f",
             "gridcolor": "white",
             "linecolor": "white",
             "minorgridcolor": "white",
             "startlinecolor": "#2a3f5f"
            },
            "baxis": {
             "endlinecolor": "#2a3f5f",
             "gridcolor": "white",
             "linecolor": "white",
             "minorgridcolor": "white",
             "startlinecolor": "#2a3f5f"
            },
            "type": "carpet"
           }
          ],
          "choropleth": [
           {
            "colorbar": {
             "outlinewidth": 0,
             "ticks": ""
            },
            "type": "choropleth"
           }
          ],
          "contour": [
           {
            "colorbar": {
             "outlinewidth": 0,
             "ticks": ""
            },
            "colorscale": [
             [
              0,
              "#0d0887"
             ],
             [
              0.1111111111111111,
              "#46039f"
             ],
             [
              0.2222222222222222,
              "#7201a8"
             ],
             [
              0.3333333333333333,
              "#9c179e"
             ],
             [
              0.4444444444444444,
              "#bd3786"
             ],
             [
              0.5555555555555556,
              "#d8576b"
             ],
             [
              0.6666666666666666,
              "#ed7953"
             ],
             [
              0.7777777777777778,
              "#fb9f3a"
             ],
             [
              0.8888888888888888,
              "#fdca26"
             ],
             [
              1,
              "#f0f921"
             ]
            ],
            "type": "contour"
           }
          ],
          "contourcarpet": [
           {
            "colorbar": {
             "outlinewidth": 0,
             "ticks": ""
            },
            "type": "contourcarpet"
           }
          ],
          "heatmap": [
           {
            "colorbar": {
             "outlinewidth": 0,
             "ticks": ""
            },
            "colorscale": [
             [
              0,
              "#0d0887"
             ],
             [
              0.1111111111111111,
              "#46039f"
             ],
             [
              0.2222222222222222,
              "#7201a8"
             ],
             [
              0.3333333333333333,
              "#9c179e"
             ],
             [
              0.4444444444444444,
              "#bd3786"
             ],
             [
              0.5555555555555556,
              "#d8576b"
             ],
             [
              0.6666666666666666,
              "#ed7953"
             ],
             [
              0.7777777777777778,
              "#fb9f3a"
             ],
             [
              0.8888888888888888,
              "#fdca26"
             ],
             [
              1,
              "#f0f921"
             ]
            ],
            "type": "heatmap"
           }
          ],
          "heatmapgl": [
           {
            "colorbar": {
             "outlinewidth": 0,
             "ticks": ""
            },
            "colorscale": [
             [
              0,
              "#0d0887"
             ],
             [
              0.1111111111111111,
              "#46039f"
             ],
             [
              0.2222222222222222,
              "#7201a8"
             ],
             [
              0.3333333333333333,
              "#9c179e"
             ],
             [
              0.4444444444444444,
              "#bd3786"
             ],
             [
              0.5555555555555556,
              "#d8576b"
             ],
             [
              0.6666666666666666,
              "#ed7953"
             ],
             [
              0.7777777777777778,
              "#fb9f3a"
             ],
             [
              0.8888888888888888,
              "#fdca26"
             ],
             [
              1,
              "#f0f921"
             ]
            ],
            "type": "heatmapgl"
           }
          ],
          "histogram": [
           {
            "marker": {
             "colorbar": {
              "outlinewidth": 0,
              "ticks": ""
             }
            },
            "type": "histogram"
           }
          ],
          "histogram2d": [
           {
            "colorbar": {
             "outlinewidth": 0,
             "ticks": ""
            },
            "colorscale": [
             [
              0,
              "#0d0887"
             ],
             [
              0.1111111111111111,
              "#46039f"
             ],
             [
              0.2222222222222222,
              "#7201a8"
             ],
             [
              0.3333333333333333,
              "#9c179e"
             ],
             [
              0.4444444444444444,
              "#bd3786"
             ],
             [
              0.5555555555555556,
              "#d8576b"
             ],
             [
              0.6666666666666666,
              "#ed7953"
             ],
             [
              0.7777777777777778,
              "#fb9f3a"
             ],
             [
              0.8888888888888888,
              "#fdca26"
             ],
             [
              1,
              "#f0f921"
             ]
            ],
            "type": "histogram2d"
           }
          ],
          "histogram2dcontour": [
           {
            "colorbar": {
             "outlinewidth": 0,
             "ticks": ""
            },
            "colorscale": [
             [
              0,
              "#0d0887"
             ],
             [
              0.1111111111111111,
              "#46039f"
             ],
             [
              0.2222222222222222,
              "#7201a8"
             ],
             [
              0.3333333333333333,
              "#9c179e"
             ],
             [
              0.4444444444444444,
              "#bd3786"
             ],
             [
              0.5555555555555556,
              "#d8576b"
             ],
             [
              0.6666666666666666,
              "#ed7953"
             ],
             [
              0.7777777777777778,
              "#fb9f3a"
             ],
             [
              0.8888888888888888,
              "#fdca26"
             ],
             [
              1,
              "#f0f921"
             ]
            ],
            "type": "histogram2dcontour"
           }
          ],
          "mesh3d": [
           {
            "colorbar": {
             "outlinewidth": 0,
             "ticks": ""
            },
            "type": "mesh3d"
           }
          ],
          "parcoords": [
           {
            "line": {
             "colorbar": {
              "outlinewidth": 0,
              "ticks": ""
             }
            },
            "type": "parcoords"
           }
          ],
          "pie": [
           {
            "automargin": true,
            "type": "pie"
           }
          ],
          "scatter": [
           {
            "marker": {
             "colorbar": {
              "outlinewidth": 0,
              "ticks": ""
             }
            },
            "type": "scatter"
           }
          ],
          "scatter3d": [
           {
            "line": {
             "colorbar": {
              "outlinewidth": 0,
              "ticks": ""
             }
            },
            "marker": {
             "colorbar": {
              "outlinewidth": 0,
              "ticks": ""
             }
            },
            "type": "scatter3d"
           }
          ],
          "scattercarpet": [
           {
            "marker": {
             "colorbar": {
              "outlinewidth": 0,
              "ticks": ""
             }
            },
            "type": "scattercarpet"
           }
          ],
          "scattergeo": [
           {
            "marker": {
             "colorbar": {
              "outlinewidth": 0,
              "ticks": ""
             }
            },
            "type": "scattergeo"
           }
          ],
          "scattergl": [
           {
            "marker": {
             "colorbar": {
              "outlinewidth": 0,
              "ticks": ""
             }
            },
            "type": "scattergl"
           }
          ],
          "scattermapbox": [
           {
            "marker": {
             "colorbar": {
              "outlinewidth": 0,
              "ticks": ""
             }
            },
            "type": "scattermapbox"
           }
          ],
          "scatterpolar": [
           {
            "marker": {
             "colorbar": {
              "outlinewidth": 0,
              "ticks": ""
             }
            },
            "type": "scatterpolar"
           }
          ],
          "scatterpolargl": [
           {
            "marker": {
             "colorbar": {
              "outlinewidth": 0,
              "ticks": ""
             }
            },
            "type": "scatterpolargl"
           }
          ],
          "scatterternary": [
           {
            "marker": {
             "colorbar": {
              "outlinewidth": 0,
              "ticks": ""
             }
            },
            "type": "scatterternary"
           }
          ],
          "surface": [
           {
            "colorbar": {
             "outlinewidth": 0,
             "ticks": ""
            },
            "colorscale": [
             [
              0,
              "#0d0887"
             ],
             [
              0.1111111111111111,
              "#46039f"
             ],
             [
              0.2222222222222222,
              "#7201a8"
             ],
             [
              0.3333333333333333,
              "#9c179e"
             ],
             [
              0.4444444444444444,
              "#bd3786"
             ],
             [
              0.5555555555555556,
              "#d8576b"
             ],
             [
              0.6666666666666666,
              "#ed7953"
             ],
             [
              0.7777777777777778,
              "#fb9f3a"
             ],
             [
              0.8888888888888888,
              "#fdca26"
             ],
             [
              1,
              "#f0f921"
             ]
            ],
            "type": "surface"
           }
          ],
          "table": [
           {
            "cells": {
             "fill": {
              "color": "#EBF0F8"
             },
             "line": {
              "color": "white"
             }
            },
            "header": {
             "fill": {
              "color": "#C8D4E3"
             },
             "line": {
              "color": "white"
             }
            },
            "type": "table"
           }
          ]
         },
         "layout": {
          "annotationdefaults": {
           "arrowcolor": "#2a3f5f",
           "arrowhead": 0,
           "arrowwidth": 1
          },
          "coloraxis": {
           "colorbar": {
            "outlinewidth": 0,
            "ticks": ""
           }
          },
          "colorscale": {
           "diverging": [
            [
             0,
             "#8e0152"
            ],
            [
             0.1,
             "#c51b7d"
            ],
            [
             0.2,
             "#de77ae"
            ],
            [
             0.3,
             "#f1b6da"
            ],
            [
             0.4,
             "#fde0ef"
            ],
            [
             0.5,
             "#f7f7f7"
            ],
            [
             0.6,
             "#e6f5d0"
            ],
            [
             0.7,
             "#b8e186"
            ],
            [
             0.8,
             "#7fbc41"
            ],
            [
             0.9,
             "#4d9221"
            ],
            [
             1,
             "#276419"
            ]
           ],
           "sequential": [
            [
             0,
             "#0d0887"
            ],
            [
             0.1111111111111111,
             "#46039f"
            ],
            [
             0.2222222222222222,
             "#7201a8"
            ],
            [
             0.3333333333333333,
             "#9c179e"
            ],
            [
             0.4444444444444444,
             "#bd3786"
            ],
            [
             0.5555555555555556,
             "#d8576b"
            ],
            [
             0.6666666666666666,
             "#ed7953"
            ],
            [
             0.7777777777777778,
             "#fb9f3a"
            ],
            [
             0.8888888888888888,
             "#fdca26"
            ],
            [
             1,
             "#f0f921"
            ]
           ],
           "sequentialminus": [
            [
             0,
             "#0d0887"
            ],
            [
             0.1111111111111111,
             "#46039f"
            ],
            [
             0.2222222222222222,
             "#7201a8"
            ],
            [
             0.3333333333333333,
             "#9c179e"
            ],
            [
             0.4444444444444444,
             "#bd3786"
            ],
            [
             0.5555555555555556,
             "#d8576b"
            ],
            [
             0.6666666666666666,
             "#ed7953"
            ],
            [
             0.7777777777777778,
             "#fb9f3a"
            ],
            [
             0.8888888888888888,
             "#fdca26"
            ],
            [
             1,
             "#f0f921"
            ]
           ]
          },
          "colorway": [
           "#636efa",
           "#EF553B",
           "#00cc96",
           "#ab63fa",
           "#FFA15A",
           "#19d3f3",
           "#FF6692",
           "#B6E880",
           "#FF97FF",
           "#FECB52"
          ],
          "font": {
           "color": "#2a3f5f"
          },
          "geo": {
           "bgcolor": "white",
           "lakecolor": "white",
           "landcolor": "#E5ECF6",
           "showlakes": true,
           "showland": true,
           "subunitcolor": "white"
          },
          "hoverlabel": {
           "align": "left"
          },
          "hovermode": "closest",
          "mapbox": {
           "style": "light"
          },
          "paper_bgcolor": "white",
          "plot_bgcolor": "#E5ECF6",
          "polar": {
           "angularaxis": {
            "gridcolor": "white",
            "linecolor": "white",
            "ticks": ""
           },
           "bgcolor": "#E5ECF6",
           "radialaxis": {
            "gridcolor": "white",
            "linecolor": "white",
            "ticks": ""
           }
          },
          "scene": {
           "xaxis": {
            "backgroundcolor": "#E5ECF6",
            "gridcolor": "white",
            "gridwidth": 2,
            "linecolor": "white",
            "showbackground": true,
            "ticks": "",
            "zerolinecolor": "white"
           },
           "yaxis": {
            "backgroundcolor": "#E5ECF6",
            "gridcolor": "white",
            "gridwidth": 2,
            "linecolor": "white",
            "showbackground": true,
            "ticks": "",
            "zerolinecolor": "white"
           },
           "zaxis": {
            "backgroundcolor": "#E5ECF6",
            "gridcolor": "white",
            "gridwidth": 2,
            "linecolor": "white",
            "showbackground": true,
            "ticks": "",
            "zerolinecolor": "white"
           }
          },
          "shapedefaults": {
           "line": {
            "color": "#2a3f5f"
           }
          },
          "ternary": {
           "aaxis": {
            "gridcolor": "white",
            "linecolor": "white",
            "ticks": ""
           },
           "baxis": {
            "gridcolor": "white",
            "linecolor": "white",
            "ticks": ""
           },
           "bgcolor": "#E5ECF6",
           "caxis": {
            "gridcolor": "white",
            "linecolor": "white",
            "ticks": ""
           }
          },
          "title": {
           "x": 0.05
          },
          "xaxis": {
           "automargin": true,
           "gridcolor": "white",
           "linecolor": "white",
           "ticks": "",
           "title": {
            "standoff": 15
           },
           "zerolinecolor": "white",
           "zerolinewidth": 2
          },
          "yaxis": {
           "automargin": true,
           "gridcolor": "white",
           "linecolor": "white",
           "ticks": "",
           "title": {
            "standoff": 15
           },
           "zerolinecolor": "white",
           "zerolinewidth": 2
          }
         }
        },
        "title": {
         "text": "Casos de Covid no Brasil"
        },
        "xaxis": {
         "anchor": "y",
         "autorange": true,
         "domain": [
          0,
          1
         ],
         "range": [
          0,
          398
         ],
         "title": {
          "text": "Dias"
         },
         "type": "category"
        },
        "yaxis": {
         "anchor": "x",
         "autorange": true,
         "domain": [
          0,
          1
         ],
         "range": [
          -569881.9444444444,
          10827756.944444444
         ],
         "title": {
          "text": "Casos"
         },
         "type": "linear"
        }
       }
      },
      "image/png": "[encoded data removed]",
      "text/html": [
       "<div>                            <div id=\"240e011a-9c10-467f-844a-fa43b3120c1b\" class=\"plotly-graph-div\" style=\"height:525px; width:100%;\"></div>            <script type=\"text/javascript\">                require([\"plotly\"], function(Plotly) {                    window.PLOTLYENV=window.PLOTLYENV || {};                                    if (document.getElementById(\"240e011a-9c10-467f-844a-fa43b3120c1b\")) {                    Plotly.newPlot(                        \"240e011a-9c10-467f-844a-fa43b3120c1b\",                        [{\"hovertemplate\": \"Dias=%{x}<br>Casos=%{y}<extra></extra>\", \"legendgroup\": \"\", \"line\": {\"color\": \"#636efa\", \"dash\": \"solid\"}, \"mode\": \"lines\", \"name\": \"\", \"orientation\": \"v\", \"showlegend\": false, \"type\": \"scatter\", \"x\": [\"1/22/20\", \"1/23/20\", \"1/24/20\", \"1/25/20\", \"1/26/20\", \"1/27/20\", \"1/28/20\", \"1/29/20\", \"1/30/20\", \"1/31/20\", \"2/1/20\", \"2/2/20\", \"2/3/20\", \"2/4/20\", \"2/5/20\", \"2/6/20\", \"2/7/20\", \"2/8/20\", \"2/9/20\", \"2/10/20\", \"2/11/20\", \"2/12/20\", \"2/13/20\", \"2/14/20\", \"2/15/20\", \"2/16/20\", \"2/17/20\", \"2/18/20\", \"2/19/20\", \"2/20/20\", \"2/21/20\", \"2/22/20\", \"2/23/20\", \"2/24/20\", \"2/25/20\", \"2/26/20\", \"2/27/20\", \"2/28/20\", \"2/29/20\", \"3/1/20\", \"3/2/20\", \"3/3/20\", \"3/4/20\", \"3/5/20\", \"3/6/20\", \"3/7/20\", \"3/8/20\", \"3/9/20\", \"3/10/20\", \"3/11/20\", \"3/12/20\", \"3/13/20\", \"3/14/20\", \"3/15/20\", \"3/16/20\", \"3/17/20\", \"3/18/20\", \"3/19/20\", \"3/20/20\", \"3/21/20\", \"3/22/20\", \"3/23/20\", \"3/24/20\", \"3/25/20\", \"3/26/20\", \"3/27/20\", \"3/28/20\", \"3/29/20\", \"3/30/20\", \"3/31/20\", \"4/1/20\", \"4/2/20\", \"4/3/20\", \"4/4/20\", \"4/5/20\", \"4/6/20\", \"4/7/20\", \"4/8/20\", \"4/9/20\", \"4/10/20\", \"4/11/20\", \"4/12/20\", \"4/13/20\", \"4/14/20\", \"4/15/20\", \"4/16/20\", \"4/17/20\", \"4/18/20\", \"4/19/20\", \"4/20/20\", \"4/21/20\", \"4/22/20\", \"4/23/20\", \"4/24/20\", \"4/25/20\", \"4/26/20\", \"4/27/20\", \"4/28/20\", \"4/29/20\", \"4/30/20\", \"5/1/20\", \"5/2/20\", \"5/3/20\", \"5/4/20\", \"5/5/20\", \"5/6/20\", \"5/7/20\", \"5/8/20\", \"5/9/20\", \"5/10/20\", \"5/11/20\", \"5/12/20\", \"5/13/20\", \"5/14/20\", \"5/15/20\", \"5/16/20\", \"5/17/20\", \"5/18/20\", \"5/19/20\", \"5/20/20\", \"5/21/20\", \"5/22/20\", \"5/23/20\", \"5/24/20\", \"5/25/20\", \"5/26/20\", \"5/27/20\", \"5/28/20\", \"5/29/20\", \"5/30/20\", \"5/31/20\", \"6/1/20\", \"6/2/20\", \"6/3/20\", \"6/4/20\", \"6/5/20\", \"6/6/20\", \"6/7/20\", \"6/8/20\", \"6/9/20\", \"6/10/20\", \"6/11/20\", \"6/12/20\", \"6/13/20\", \"6/14/20\", \"6/15/20\", \"6/16/20\", \"6/17/20\", \"6/18/20\", \"6/19/20\", \"6/20/20\", \"6/21/20\", \"6/22/20\", \"6/23/20\", \"6/24/20\", \"6/25/20\", \"6/26/20\", \"6/27/20\", \"6/28/20\", \"6/29/20\", \"6/30/20\", \"7/1/20\", \"7/2/20\", \"7/3/20\", \"7/4/20\", \"7/5/20\", \"7/6/20\", \"7/7/20\", \"7/8/20\", \"7/9/20\", \"7/10/20\", \"7/11/20\", \"7/12/20\", \"7/13/20\", \"7/14/20\", \"7/15/20\", \"7/16/20\", \"7/17/20\", \"7/18/20\", \"7/19/20\", \"7/20/20\", \"7/21/20\", \"7/22/20\", \"7/23/20\", \"7/24/20\", \"7/25/20\", \"7/26/20\", \"7/27/20\", \"7/28/20\", \"7/29/20\", \"7/30/20\", \"7/31/20\", \"8/1/20\", \"8/2/20\", \"8/3/20\", \"8/4/20\", \"8/5/20\", \"8/6/20\", \"8/7/20\", \"8/8/20\", \"8/9/20\", \"8/10/20\", \"8/11/20\", \"8/12/20\", \"8/13/20\", \"8/14/20\", \"8/15/20\", \"8/16/20\", \"8/17/20\", \"8/18/20\", \"8/19/20\", \"8/20/20\", \"8/21/20\", \"8/22/20\", \"8/23/20\", \"8/24/20\", \"8/25/20\", \"8/26/20\", \"8/27/20\", \"8/28/20\", \"8/29/20\", \"8/30/20\", \"8/31/20\", \"9/1/20\", \"9/2/20\", \"9/3/20\", \"9/4/20\", \"9/5/20\", \"9/6/20\", \"9/7/20\", \"9/8/20\", \"9/9/20\", \"9/10/20\", \"9/11/20\", \"9/12/20\", \"9/13/20\", \"9/14/20\", \"9/15/20\", \"9/16/20\", \"9/17/20\", \"9/18/20\", \"9/19/20\", \"9/20/20\", \"9/21/20\", \"9/22/20\", \"9/23/20\", \"9/24/20\", \"9/25/20\", \"9/26/20\", \"9/27/20\", \"9/28/20\", \"9/29/20\", \"9/30/20\", \"10/1/20\", \"10/2/20\", \"10/3/20\", \"10/4/20\", \"10/5/20\", \"10/6/20\", \"10/7/20\", \"10/8/20\", \"10/9/20\", \"10/10/20\", \"10/11/20\", \"10/12/20\", \"10/13/20\", \"10/14/20\", \"10/15/20\", \"10/16/20\", \"10/17/20\", \"10/18/20\", \"10/19/20\", \"10/20/20\", \"10/21/20\", \"10/22/20\", \"10/23/20\", \"10/24/20\", \"10/25/20\", \"10/26/20\", \"10/27/20\", \"10/28/20\", \"10/29/20\", \"10/30/20\", \"10/31/20\", \"11/1/20\", \"11/2/20\", \"11/3/20\", \"11/4/20\", \"11/5/20\", \"11/6/20\", \"11/7/20\", \"11/8/20\", \"11/9/20\", \"11/10/20\", \"11/11/20\", \"11/12/20\", \"11/13/20\", \"11/14/20\", \"11/15/20\", \"11/16/20\", \"11/17/20\", \"11/18/20\", \"11/19/20\", \"11/20/20\", \"11/21/20\", \"11/22/20\", \"11/23/20\", \"11/24/20\", \"11/25/20\", \"11/26/20\", \"11/27/20\", \"11/28/20\", \"11/29/20\", \"11/30/20\", \"12/1/20\", \"12/2/20\", \"12/3/20\", \"12/4/20\", \"12/5/20\", \"12/6/20\", \"12/7/20\", \"12/8/20\", \"12/9/20\", \"12/10/20\", \"12/11/20\", \"12/12/20\", \"12/13/20\", \"12/14/20\", \"12/15/20\", \"12/16/20\", \"12/17/20\", \"12/18/20\", \"12/19/20\", \"12/20/20\", \"12/21/20\", \"12/22/20\", \"12/23/20\", \"12/24/20\", \"12/25/20\", \"12/26/20\", \"12/27/20\", \"12/28/20\", \"12/29/20\", \"12/30/20\", \"12/31/20\", \"1/1/21\", \"1/2/21\", \"1/3/21\", \"1/4/21\", \"1/5/21\", \"1/6/21\", \"1/7/21\", \"1/8/21\", \"1/9/21\", \"1/10/21\", \"1/11/21\", \"1/12/21\", \"1/13/21\", \"1/14/21\", \"1/15/21\", \"1/16/21\", \"1/17/21\", \"1/18/21\", \"1/19/21\", \"1/20/21\", \"1/21/21\", \"1/22/21\", \"1/23/21\", \"1/24/21\", \"1/25/21\", \"1/26/21\", \"1/27/21\", \"1/28/21\", \"1/29/21\", \"1/30/21\", \"1/31/21\", \"2/1/21\", \"2/2/21\", \"2/3/21\", \"2/4/21\", \"2/5/21\", \"2/6/21\", \"2/7/21\", \"2/8/21\", \"2/9/21\", \"2/10/21\", \"2/11/21\", \"2/12/21\", \"2/13/21\", \"2/14/21\", \"2/15/21\", \"2/16/21\", \"2/17/21\", \"2/18/21\", \"2/19/21\", \"2/20/21\", \"2/21/21\", \"2/22/21\", \"2/23/21\"], \"xaxis\": \"x\", \"y\": [0, 0, 0, 0, 0, 0, 0, 0, 0, 0, 0, 0, 0, 0, 0, 0, 0, 0, 0, 0, 0, 0, 0, 0, 0, 0, 0, 0, 0, 0, 0, 0, 0, 0, 0, 1, 1, 1, 2, 2, 2, 2, 4, 4, 13, 13, 20, 25, 31, 38, 52, 151, 151, 162, 200, 321, 372, 621, 793, 1021, 1546, 1924, 2247, 2554, 2985, 3417, 3904, 4256, 4579, 5717, 6836, 8044, 9056, 10360, 11130, 12161, 14034, 16170, 18092, 19638, 20727, 22192, 23430, 25262, 28320, 30425, 33682, 36658, 38654, 40743, 43079, 45757, 50036, 54043, 59324, 63100, 67446, 73235, 79685, 87187, 92202, 97100, 101826, 108620, 115455, 126611, 135773, 146894, 156061, 162699, 169594, 178214, 190137, 203165, 220291, 233511, 241080, 255368, 271885, 291579, 310087, 330890, 347398, 363211, 374898, 391222, 411821, 438238, 465166, 498440, 514849, 526447, 555383, 584016, 614941, 645771, 672846, 691758, 707412, 739503, 772416, 802828, 828810, 850514, 867624, 888271, 923189, 955377, 978142, 1032913, 1067579, 1083341, 1106470, 1145906, 1188631, 1228114, 1274974, 1313667, 1344143, 1368195, 1402041, 1448753, 1496858, 1539081, 1577004, 1603055, 1623284, 1668589, 1713160, 1755779, 1800827, 1839850, 1864681, 1884967, 1926824, 1966748, 2012151, 2046328, 2074860, 2098389, 2118646, 2159654, 2227514, 2287475, 2343366, 2394513, 2419091, 2442375, 2483191, 2552265, 2610102, 2662485, 2707877, 2733677, 2750318, 2801921, 2859073, 2912212, 2962442, 3012412, 3035422, 3057470, 3109630, 3164785, 3224876, 3275520, 3317096, 3340197, 3359570, 3407354, 3456652, 3501975, 3532330, 3582362, 3605783, 3622861, 3669995, 3717156, 3761391, 3804803, 3846153, 3862311, 3908272, 3950931, 3997865, 4041638, 4091801, 4123000, 4137521, 4147794, 4162073, 4197889, 4238446, 4282164, 4315687, 4330455, 4345610, 4382263, 4419083, 4455386, 4495183, 4528240, 4544629, 4558040, 4591364, 4591364, 4657702, 4689613, 4717991, 4732309, 4745464, 4777522, 4810935, 4847092, 4847092, 4906833, 4915289, 4927235, 4969141, 5000694, 5028444, 5055888, 5082637, 5094979, 5103408, 5113628, 5140863, 5169386, 5200300, 5224362, 5224362, 5250727, 5273954, 5298772, 5323630, 5353656, 5380635, 5394128, 5409854, 5439641, 5468270, 5494376, 5516658, 5535605, 5545705, 5554206, 5566049, 5590025, 5590025, 5631181, 5653561, 5664115, 5675032, 5699005, 5747660, 5781582, 5810652, 5848959, 5863093, 5876464, 5911758, 5945849, 5981767, 6020164, 6052786, 6071401, 6087608, 6118708, 6166606, 6204220, 6238350, 6290272, 6314740, 6335878, 6386787, 6436650, 6487084, 6533968, 6577177, 6603540, 6623911, 6674999, 6728452, 6781799, 6836227, 6880127, 6901952, 6927145, 6970034, 7040608, 7110434, 7162978, 7213155, 7238600, 7263619, 7318821, 7365517, 7423945, 7448560, 7465806, 7484285, 7504833, 7563551, 7619200, 7675973, 7700578, 7716405, 7733746, 7753752, 7810400, 7873830, 7961673, 8013708, 8075998, 8105790, 8131612, 8195637, 8256536, 8324294, 8393492, 8455059, 8488099, 8511770, 8573864, 8638249, 8697368, 8753920, 8816254, 8844577, 8871393, 8933356, 8996876, 9058687, 9118513, 9176975, 9204731, 9229322, 9283418, 9339420, 9396293, 9447165, 9447165, 9524640, 9524640, 9599565, 9659167, 9713909, 9765455, 9809754, 9834513, 9866710, 9921981, 9978747, 10030626, 10084208, 10139148, 10168174, 10195160, 10257875], \"yaxis\": \"y\"}],                        {\"legend\": {\"tracegroupgap\": 0}, \"template\": {\"data\": {\"bar\": [{\"error_x\": {\"color\": \"#2a3f5f\"}, \"error_y\": {\"color\": \"#2a3f5f\"}, \"marker\": {\"line\": {\"color\": \"#E5ECF6\", \"width\": 0.5}}, \"type\": \"bar\"}], \"barpolar\": [{\"marker\": {\"line\": {\"color\": \"#E5ECF6\", \"width\": 0.5}}, \"type\": \"barpolar\"}], \"carpet\": [{\"aaxis\": {\"endlinecolor\": \"#2a3f5f\", \"gridcolor\": \"white\", \"linecolor\": \"white\", \"minorgridcolor\": \"white\", \"startlinecolor\": \"#2a3f5f\"}, \"baxis\": {\"endlinecolor\": \"#2a3f5f\", \"gridcolor\": \"white\", \"linecolor\": \"white\", \"minorgridcolor\": \"white\", \"startlinecolor\": \"#2a3f5f\"}, \"type\": \"carpet\"}], \"choropleth\": [{\"colorbar\": {\"outlinewidth\": 0, \"ticks\": \"\"}, \"type\": \"choropleth\"}], \"contour\": [{\"colorbar\": {\"outlinewidth\": 0, \"ticks\": \"\"}, \"colorscale\": [[0.0, \"#0d0887\"], [0.1111111111111111, \"#46039f\"], [0.2222222222222222, \"#7201a8\"], [0.3333333333333333, \"#9c179e\"], [0.4444444444444444, \"#bd3786\"], [0.5555555555555556, \"#d8576b\"], [0.6666666666666666, \"#ed7953\"], [0.7777777777777778, \"#fb9f3a\"], [0.8888888888888888, \"#fdca26\"], [1.0, \"#f0f921\"]], \"type\": \"contour\"}], \"contourcarpet\": [{\"colorbar\": {\"outlinewidth\": 0, \"ticks\": \"\"}, \"type\": \"contourcarpet\"}], \"heatmap\": [{\"colorbar\": {\"outlinewidth\": 0, \"ticks\": \"\"}, \"colorscale\": [[0.0, \"#0d0887\"], [0.1111111111111111, \"#46039f\"], [0.2222222222222222, \"#7201a8\"], [0.3333333333333333, \"#9c179e\"], [0.4444444444444444, \"#bd3786\"], [0.5555555555555556, \"#d8576b\"], [0.6666666666666666, \"#ed7953\"], [0.7777777777777778, \"#fb9f3a\"], [0.8888888888888888, \"#fdca26\"], [1.0, \"#f0f921\"]], \"type\": \"heatmap\"}], \"heatmapgl\": [{\"colorbar\": {\"outlinewidth\": 0, \"ticks\": \"\"}, \"colorscale\": [[0.0, \"#0d0887\"], [0.1111111111111111, \"#46039f\"], [0.2222222222222222, \"#7201a8\"], [0.3333333333333333, \"#9c179e\"], [0.4444444444444444, \"#bd3786\"], [0.5555555555555556, \"#d8576b\"], [0.6666666666666666, \"#ed7953\"], [0.7777777777777778, \"#fb9f3a\"], [0.8888888888888888, \"#fdca26\"], [1.0, \"#f0f921\"]], \"type\": \"heatmapgl\"}], \"histogram\": [{\"marker\": {\"colorbar\": {\"outlinewidth\": 0, \"ticks\": \"\"}}, \"type\": \"histogram\"}], \"histogram2d\": [{\"colorbar\": {\"outlinewidth\": 0, \"ticks\": \"\"}, \"colorscale\": [[0.0, \"#0d0887\"], [0.1111111111111111, \"#46039f\"], [0.2222222222222222, \"#7201a8\"], [0.3333333333333333, \"#9c179e\"], [0.4444444444444444, \"#bd3786\"], [0.5555555555555556, \"#d8576b\"], [0.6666666666666666, \"#ed7953\"], [0.7777777777777778, \"#fb9f3a\"], [0.8888888888888888, \"#fdca26\"], [1.0, \"#f0f921\"]], \"type\": \"histogram2d\"}], \"histogram2dcontour\": [{\"colorbar\": {\"outlinewidth\": 0, \"ticks\": \"\"}, \"colorscale\": [[0.0, \"#0d0887\"], [0.1111111111111111, \"#46039f\"], [0.2222222222222222, \"#7201a8\"], [0.3333333333333333, \"#9c179e\"], [0.4444444444444444, \"#bd3786\"], [0.5555555555555556, \"#d8576b\"], [0.6666666666666666, \"#ed7953\"], [0.7777777777777778, \"#fb9f3a\"], [0.8888888888888888, \"#fdca26\"], [1.0, \"#f0f921\"]], \"type\": \"histogram2dcontour\"}], \"mesh3d\": [{\"colorbar\": {\"outlinewidth\": 0, \"ticks\": \"\"}, \"type\": \"mesh3d\"}], \"parcoords\": [{\"line\": {\"colorbar\": {\"outlinewidth\": 0, \"ticks\": \"\"}}, \"type\": \"parcoords\"}], \"pie\": [{\"automargin\": true, \"type\": \"pie\"}], \"scatter\": [{\"marker\": {\"colorbar\": {\"outlinewidth\": 0, \"ticks\": \"\"}}, \"type\": \"scatter\"}], \"scatter3d\": [{\"line\": {\"colorbar\": {\"outlinewidth\": 0, \"ticks\": \"\"}}, \"marker\": {\"colorbar\": {\"outlinewidth\": 0, \"ticks\": \"\"}}, \"type\": \"scatter3d\"}], \"scattercarpet\": [{\"marker\": {\"colorbar\": {\"outlinewidth\": 0, \"ticks\": \"\"}}, \"type\": \"scattercarpet\"}], \"scattergeo\": [{\"marker\": {\"colorbar\": {\"outlinewidth\": 0, \"ticks\": \"\"}}, \"type\": \"scattergeo\"}], \"scattergl\": [{\"marker\": {\"colorbar\": {\"outlinewidth\": 0, \"ticks\": \"\"}}, \"type\": \"scattergl\"}], \"scattermapbox\": [{\"marker\": {\"colorbar\": {\"outlinewidth\": 0, \"ticks\": \"\"}}, \"type\": \"scattermapbox\"}], \"scatterpolar\": [{\"marker\": {\"colorbar\": {\"outlinewidth\": 0, \"ticks\": \"\"}}, \"type\": \"scatterpolar\"}], \"scatterpolargl\": [{\"marker\": {\"colorbar\": {\"outlinewidth\": 0, \"ticks\": \"\"}}, \"type\": \"scatterpolargl\"}], \"scatterternary\": [{\"marker\": {\"colorbar\": {\"outlinewidth\": 0, \"ticks\": \"\"}}, \"type\": \"scatterternary\"}], \"surface\": [{\"colorbar\": {\"outlinewidth\": 0, \"ticks\": \"\"}, \"colorscale\": [[0.0, \"#0d0887\"], [0.1111111111111111, \"#46039f\"], [0.2222222222222222, \"#7201a8\"], [0.3333333333333333, \"#9c179e\"], [0.4444444444444444, \"#bd3786\"], [0.5555555555555556, \"#d8576b\"], [0.6666666666666666, \"#ed7953\"], [0.7777777777777778, \"#fb9f3a\"], [0.8888888888888888, \"#fdca26\"], [1.0, \"#f0f921\"]], \"type\": \"surface\"}], \"table\": [{\"cells\": {\"fill\": {\"color\": \"#EBF0F8\"}, \"line\": {\"color\": \"white\"}}, \"header\": {\"fill\": {\"color\": \"#C8D4E3\"}, \"line\": {\"color\": \"white\"}}, \"type\": \"table\"}]}, \"layout\": {\"annotationdefaults\": {\"arrowcolor\": \"#2a3f5f\", \"arrowhead\": 0, \"arrowwidth\": 1}, \"coloraxis\": {\"colorbar\": {\"outlinewidth\": 0, \"ticks\": \"\"}}, \"colorscale\": {\"diverging\": [[0, \"#8e0152\"], [0.1, \"#c51b7d\"], [0.2, \"#de77ae\"], [0.3, \"#f1b6da\"], [0.4, \"#fde0ef\"], [0.5, \"#f7f7f7\"], [0.6, \"#e6f5d0\"], [0.7, \"#b8e186\"], [0.8, \"#7fbc41\"], [0.9, \"#4d9221\"], [1, \"#276419\"]], \"sequential\": [[0.0, \"#0d0887\"], [0.1111111111111111, \"#46039f\"], [0.2222222222222222, \"#7201a8\"], [0.3333333333333333, \"#9c179e\"], [0.4444444444444444, \"#bd3786\"], [0.5555555555555556, \"#d8576b\"], [0.6666666666666666, \"#ed7953\"], [0.7777777777777778, \"#fb9f3a\"], [0.8888888888888888, \"#fdca26\"], [1.0, \"#f0f921\"]], \"sequentialminus\": [[0.0, \"#0d0887\"], [0.1111111111111111, \"#46039f\"], [0.2222222222222222, \"#7201a8\"], [0.3333333333333333, \"#9c179e\"], [0.4444444444444444, \"#bd3786\"], [0.5555555555555556, \"#d8576b\"], [0.6666666666666666, \"#ed7953\"], [0.7777777777777778, \"#fb9f3a\"], [0.8888888888888888, \"#fdca26\"], [1.0, \"#f0f921\"]]}, \"colorway\": [\"#636efa\", \"#EF553B\", \"#00cc96\", \"#ab63fa\", \"#FFA15A\", \"#19d3f3\", \"#FF6692\", \"#B6E880\", \"#FF97FF\", \"#FECB52\"], \"font\": {\"color\": \"#2a3f5f\"}, \"geo\": {\"bgcolor\": \"white\", \"lakecolor\": \"white\", \"landcolor\": \"#E5ECF6\", \"showlakes\": true, \"showland\": true, \"subunitcolor\": \"white\"}, \"hoverlabel\": {\"align\": \"left\"}, \"hovermode\": \"closest\", \"mapbox\": {\"style\": \"light\"}, \"paper_bgcolor\": \"white\", \"plot_bgcolor\": \"#E5ECF6\", \"polar\": {\"angularaxis\": {\"gridcolor\": \"white\", \"linecolor\": \"white\", \"ticks\": \"\"}, \"bgcolor\": \"#E5ECF6\", \"radialaxis\": {\"gridcolor\": \"white\", \"linecolor\": \"white\", \"ticks\": \"\"}}, \"scene\": {\"xaxis\": {\"backgroundcolor\": \"#E5ECF6\", \"gridcolor\": \"white\", \"gridwidth\": 2, \"linecolor\": \"white\", \"showbackground\": true, \"ticks\": \"\", \"zerolinecolor\": \"white\"}, \"yaxis\": {\"backgroundcolor\": \"#E5ECF6\", \"gridcolor\": \"white\", \"gridwidth\": 2, \"linecolor\": \"white\", \"showbackground\": true, \"ticks\": \"\", \"zerolinecolor\": \"white\"}, \"zaxis\": {\"backgroundcolor\": \"#E5ECF6\", \"gridcolor\": \"white\", \"gridwidth\": 2, \"linecolor\": \"white\", \"showbackground\": true, \"ticks\": \"\", \"zerolinecolor\": \"white\"}}, \"shapedefaults\": {\"line\": {\"color\": \"#2a3f5f\"}}, \"ternary\": {\"aaxis\": {\"gridcolor\": \"white\", \"linecolor\": \"white\", \"ticks\": \"\"}, \"baxis\": {\"gridcolor\": \"white\", \"linecolor\": \"white\", \"ticks\": \"\"}, \"bgcolor\": \"#E5ECF6\", \"caxis\": {\"gridcolor\": \"white\", \"linecolor\": \"white\", \"ticks\": \"\"}}, \"title\": {\"x\": 0.05}, \"xaxis\": {\"automargin\": true, \"gridcolor\": \"white\", \"linecolor\": \"white\", \"ticks\": \"\", \"title\": {\"standoff\": 15}, \"zerolinecolor\": \"white\", \"zerolinewidth\": 2}, \"yaxis\": {\"automargin\": true, \"gridcolor\": \"white\", \"linecolor\": \"white\", \"ticks\": \"\", \"title\": {\"standoff\": 15}, \"zerolinecolor\": \"white\", \"zerolinewidth\": 2}}}, \"title\": {\"text\": \"Casos de Covid no Brasil\"}, \"xaxis\": {\"anchor\": \"y\", \"domain\": [0.0, 1.0], \"title\": {\"text\": \"Dias\"}}, \"yaxis\": {\"anchor\": \"x\", \"domain\": [0.0, 1.0], \"title\": {\"text\": \"Casos\"}}},                        {\"responsive\": true}                    ).then(function(){\n",
       "                            \n",
       "var gd = document.getElementById('240e011a-9c10-467f-844a-fa43b3120c1b');\n",
       "var x = new MutationObserver(function (mutations, observer) {{\n",
       "        var display = window.getComputedStyle(gd).display;\n",
       "        if (!display || display === 'none') {{\n",
       "            console.log([gd, 'removed!']);\n",
       "            Plotly.purge(gd);\n",
       "            observer.disconnect();\n",
       "        }}\n",
       "}});\n",
       "\n",
       "// Listen for the removal of the full notebook cells\n",
       "var notebookContainer = gd.closest('#notebook-container');\n",
       "if (notebookContainer) {{\n",
       "    x.observe(notebookContainer, {childList: true});\n",
       "}}\n",
       "\n",
       "// Listen for the clearing of the current output cell\n",
       "var outputEl = gd.closest('.output');\n",
       "if (outputEl) {{\n",
       "    x.observe(outputEl, {childList: true});\n",
       "}}\n",
       "\n",
       "                        })                };                });            </script>        </div>"
      ]
     },
     "metadata": {},
     "output_type": "display_data"
    },
    {
     "data": {
      "application/vnd.plotly.v1+json": {
       "config": {
        "plotlyServerURL": "https://plot.ly"
       },
       "data": [
        {
         "hovertemplate": "Dias=%{x}<br>Casos=%{y}<extra></extra>",
         "legendgroup": "",
         "line": {
          "color": "#636efa",
          "dash": "solid"
         },
         "mode": "lines",
         "name": "",
         "orientation": "v",
         "showlegend": false,
         "type": "scatter",
         "x": [
          "1/22/20",
          "1/23/20",
          "1/24/20",
          "1/25/20",
          "1/26/20",
          "1/27/20",
          "1/28/20",
          "1/29/20",
          "1/30/20",
          "1/31/20",
          "2/1/20",
          "2/2/20",
          "2/3/20",
          "2/4/20",
          "2/5/20",
          "2/6/20",
          "2/7/20",
          "2/8/20",
          "2/9/20",
          "2/10/20",
          "2/11/20",
          "2/12/20",
          "2/13/20",
          "2/14/20",
          "2/15/20",
          "2/16/20",
          "2/17/20",
          "2/18/20",
          "2/19/20",
          "2/20/20",
          "2/21/20",
          "2/22/20",
          "2/23/20",
          "2/24/20",
          "2/25/20",
          "2/26/20",
          "2/27/20",
          "2/28/20",
          "2/29/20",
          "3/1/20",
          "3/2/20",
          "3/3/20",
          "3/4/20",
          "3/5/20",
          "3/6/20",
          "3/7/20",
          "3/8/20",
          "3/9/20",
          "3/10/20",
          "3/11/20",
          "3/12/20",
          "3/13/20",
          "3/14/20",
          "3/15/20",
          "3/16/20",
          "3/17/20",
          "3/18/20",
          "3/19/20",
          "3/20/20",
          "3/21/20",
          "3/22/20",
          "3/23/20",
          "3/24/20",
          "3/25/20",
          "3/26/20",
          "3/27/20",
          "3/28/20",
          "3/29/20",
          "3/30/20",
          "3/31/20",
          "4/1/20",
          "4/2/20",
          "4/3/20",
          "4/4/20",
          "4/5/20",
          "4/6/20",
          "4/7/20",
          "4/8/20",
          "4/9/20",
          "4/10/20",
          "4/11/20",
          "4/12/20",
          "4/13/20",
          "4/14/20",
          "4/15/20",
          "4/16/20",
          "4/17/20",
          "4/18/20",
          "4/19/20",
          "4/20/20",
          "4/21/20",
          "4/22/20",
          "4/23/20",
          "4/24/20",
          "4/25/20",
          "4/26/20",
          "4/27/20",
          "4/28/20",
          "4/29/20",
          "4/30/20",
          "5/1/20",
          "5/2/20",
          "5/3/20",
          "5/4/20",
          "5/5/20",
          "5/6/20",
          "5/7/20",
          "5/8/20",
          "5/9/20",
          "5/10/20",
          "5/11/20",
          "5/12/20",
          "5/13/20",
          "5/14/20",
          "5/15/20",
          "5/16/20",
          "5/17/20",
          "5/18/20",
          "5/19/20",
          "5/20/20",
          "5/21/20",
          "5/22/20",
          "5/23/20",
          "5/24/20",
          "5/25/20",
          "5/26/20",
          "5/27/20",
          "5/28/20",
          "5/29/20",
          "5/30/20",
          "5/31/20",
          "6/1/20",
          "6/2/20",
          "6/3/20",
          "6/4/20",
          "6/5/20",
          "6/6/20",
          "6/7/20",
          "6/8/20",
          "6/9/20",
          "6/10/20",
          "6/11/20",
          "6/12/20",
          "6/13/20",
          "6/14/20",
          "6/15/20",
          "6/16/20",
          "6/17/20",
          "6/18/20",
          "6/19/20",
          "6/20/20",
          "6/21/20",
          "6/22/20",
          "6/23/20",
          "6/24/20",
          "6/25/20",
          "6/26/20",
          "6/27/20",
          "6/28/20",
          "6/29/20",
          "6/30/20",
          "7/1/20",
          "7/2/20",
          "7/3/20",
          "7/4/20",
          "7/5/20",
          "7/6/20",
          "7/7/20",
          "7/8/20",
          "7/9/20",
          "7/10/20",
          "7/11/20",
          "7/12/20",
          "7/13/20",
          "7/14/20",
          "7/15/20",
          "7/16/20",
          "7/17/20",
          "7/18/20",
          "7/19/20",
          "7/20/20",
          "7/21/20",
          "7/22/20",
          "7/23/20",
          "7/24/20",
          "7/25/20",
          "7/26/20",
          "7/27/20",
          "7/28/20",
          "7/29/20",
          "7/30/20",
          "7/31/20",
          "8/1/20",
          "8/2/20",
          "8/3/20",
          "8/4/20",
          "8/5/20",
          "8/6/20",
          "8/7/20",
          "8/8/20",
          "8/9/20",
          "8/10/20",
          "8/11/20",
          "8/12/20",
          "8/13/20",
          "8/14/20",
          "8/15/20",
          "8/16/20",
          "8/17/20",
          "8/18/20",
          "8/19/20",
          "8/20/20",
          "8/21/20",
          "8/22/20",
          "8/23/20",
          "8/24/20",
          "8/25/20",
          "8/26/20",
          "8/27/20",
          "8/28/20",
          "8/29/20",
          "8/30/20",
          "8/31/20",
          "9/1/20",
          "9/2/20",
          "9/3/20",
          "9/4/20",
          "9/5/20",
          "9/6/20",
          "9/7/20",
          "9/8/20",
          "9/9/20",
          "9/10/20",
          "9/11/20",
          "9/12/20",
          "9/13/20",
          "9/14/20",
          "9/15/20",
          "9/16/20",
          "9/17/20",
          "9/18/20",
          "9/19/20",
          "9/20/20",
          "9/21/20",
          "9/22/20",
          "9/23/20",
          "9/24/20",
          "9/25/20",
          "9/26/20",
          "9/27/20",
          "9/28/20",
          "9/29/20",
          "9/30/20",
          "10/1/20",
          "10/2/20",
          "10/3/20",
          "10/4/20",
          "10/5/20",
          "10/6/20",
          "10/7/20",
          "10/8/20",
          "10/9/20",
          "10/10/20",
          "10/11/20",
          "10/12/20",
          "10/13/20",
          "10/14/20",
          "10/15/20",
          "10/16/20",
          "10/17/20",
          "10/18/20",
          "10/19/20",
          "10/20/20",
          "10/21/20",
          "10/22/20",
          "10/23/20",
          "10/24/20",
          "10/25/20",
          "10/26/20",
          "10/27/20",
          "10/28/20",
          "10/29/20",
          "10/30/20",
          "10/31/20",
          "11/1/20",
          "11/2/20",
          "11/3/20",
          "11/4/20",
          "11/5/20",
          "11/6/20",
          "11/7/20",
          "11/8/20",
          "11/9/20",
          "11/10/20",
          "11/11/20",
          "11/12/20",
          "11/13/20",
          "11/14/20",
          "11/15/20",
          "11/16/20",
          "11/17/20",
          "11/18/20",
          "11/19/20",
          "11/20/20",
          "11/21/20",
          "11/22/20",
          "11/23/20",
          "11/24/20",
          "11/25/20",
          "11/26/20",
          "11/27/20",
          "11/28/20",
          "11/29/20",
          "11/30/20",
          "12/1/20",
          "12/2/20",
          "12/3/20",
          "12/4/20",
          "12/5/20",
          "12/6/20",
          "12/7/20",
          "12/8/20",
          "12/9/20",
          "12/10/20",
          "12/11/20",
          "12/12/20",
          "12/13/20",
          "12/14/20",
          "12/15/20",
          "12/16/20",
          "12/17/20",
          "12/18/20",
          "12/19/20",
          "12/20/20",
          "12/21/20",
          "12/22/20",
          "12/23/20",
          "12/24/20",
          "12/25/20",
          "12/26/20",
          "12/27/20",
          "12/28/20",
          "12/29/20",
          "12/30/20",
          "12/31/20",
          "1/1/21",
          "1/2/21",
          "1/3/21",
          "1/4/21",
          "1/5/21",
          "1/6/21",
          "1/7/21",
          "1/8/21",
          "1/9/21",
          "1/10/21",
          "1/11/21",
          "1/12/21",
          "1/13/21",
          "1/14/21",
          "1/15/21",
          "1/16/21",
          "1/17/21",
          "1/18/21",
          "1/19/21",
          "1/20/21",
          "1/21/21",
          "1/22/21",
          "1/23/21",
          "1/24/21",
          "1/25/21",
          "1/26/21",
          "1/27/21",
          "1/28/21",
          "1/29/21",
          "1/30/21",
          "1/31/21",
          "2/1/21",
          "2/2/21",
          "2/3/21",
          "2/4/21",
          "2/5/21",
          "2/6/21",
          "2/7/21",
          "2/8/21",
          "2/9/21",
          "2/10/21",
          "2/11/21",
          "2/12/21",
          "2/13/21",
          "2/14/21",
          "2/15/21",
          "2/16/21",
          "2/17/21",
          "2/18/21",
          "2/19/21",
          "2/20/21",
          "2/21/21",
          "2/22/21",
          "2/23/21"
         ],
         "xaxis": "x",
         "y": [
          0,
          0,
          0,
          0,
          0,
          0,
          0,
          0,
          0,
          0,
          0,
          0,
          0,
          0,
          0,
          0,
          0,
          0,
          0,
          0,
          0,
          0,
          0,
          0,
          0,
          0,
          0,
          0,
          0,
          0,
          0,
          0,
          0,
          0,
          0,
          1,
          1,
          1,
          2,
          2,
          2,
          2,
          4,
          4,
          13,
          13,
          20,
          25,
          31,
          38,
          52,
          151,
          151,
          162,
          200,
          321,
          372,
          621,
          793,
          1021,
          1546,
          1924,
          2247,
          2554,
          2985,
          3417,
          3904,
          4256,
          4579,
          5717,
          6836,
          8044,
          9056,
          10360,
          11130,
          12161,
          14034,
          16170,
          18092,
          19638,
          20727,
          22192,
          23430,
          25262,
          28320,
          30425,
          33682,
          36658,
          38654,
          40743,
          43079,
          45757,
          50036,
          54043,
          59324,
          63100,
          67446,
          73235,
          79685,
          87187,
          92202,
          97100,
          101826,
          108620,
          115455,
          126611,
          135773,
          146894,
          156061,
          162699,
          169594,
          178214,
          190137,
          203165,
          220291,
          233511,
          241080,
          255368,
          271885,
          291579,
          310087,
          330890,
          347398,
          363211,
          374898,
          391222,
          411821,
          438238,
          465166,
          498440,
          514849,
          526447,
          555383,
          584016,
          614941,
          645771,
          672846,
          691758,
          707412,
          739503,
          772416,
          802828,
          828810,
          850514,
          867624,
          888271,
          923189,
          955377,
          978142,
          1032913,
          1067579,
          1083341,
          1106470,
          1145906,
          1188631,
          1228114,
          1274974,
          1313667,
          1344143,
          1368195,
          1402041,
          1448753,
          1496858,
          1539081,
          1577004,
          1603055,
          1623284,
          1668589,
          1713160,
          1755779,
          1800827,
          1839850,
          1864681,
          1884967,
          1926824,
          1966748,
          2012151,
          2046328,
          2074860,
          2098389,
          2118646,
          2159654,
          2227514,
          2287475,
          2343366,
          2394513,
          2419091,
          2442375,
          2483191,
          2552265,
          2610102,
          2662485,
          2707877,
          2733677,
          2750318,
          2801921,
          2859073,
          2912212,
          2962442,
          3012412,
          3035422,
          3057470,
          3109630,
          3164785,
          3224876,
          3275520,
          3317096,
          3340197,
          3359570,
          3407354,
          3456652,
          3501975,
          3532330,
          3582362,
          3605783,
          3622861,
          3669995,
          3717156,
          3761391,
          3804803,
          3846153,
          3862311,
          3908272,
          3950931,
          3997865,
          4041638,
          4091801,
          4123000,
          4137521,
          4147794,
          4162073,
          4197889,
          4238446,
          4282164,
          4315687,
          4330455,
          4345610,
          4382263,
          4419083,
          4455386,
          4495183,
          4528240,
          4544629,
          4558040,
          4591364,
          4591364,
          4657702,
          4689613,
          4717991,
          4732309,
          4745464,
          4777522,
          4810935,
          4847092,
          4847092,
          4906833,
          4915289,
          4927235,
          4969141,
          5000694,
          5028444,
          5055888,
          5082637,
          5094979,
          5103408,
          5113628,
          5140863,
          5169386,
          5200300,
          5224362,
          5224362,
          5250727,
          5273954,
          5298772,
          5323630,
          5353656,
          5380635,
          5394128,
          5409854,
          5439641,
          5468270,
          5494376,
          5516658,
          5535605,
          5545705,
          5554206,
          5566049,
          5590025,
          5590025,
          5631181,
          5653561,
          5664115,
          5675032,
          5699005,
          5747660,
          5781582,
          5810652,
          5848959,
          5863093,
          5876464,
          5911758,
          5945849,
          5981767,
          6020164,
          6052786,
          6071401,
          6087608,
          6118708,
          6166606,
          6204220,
          6238350,
          6290272,
          6314740,
          6335878,
          6386787,
          6436650,
          6487084,
          6533968,
          6577177,
          6603540,
          6623911,
          6674999,
          6728452,
          6781799,
          6836227,
          6880127,
          6901952,
          6927145,
          6970034,
          7040608,
          7110434,
          7162978,
          7213155,
          7238600,
          7263619,
          7318821,
          7365517,
          7423945,
          7448560,
          7465806,
          7484285,
          7504833,
          7563551,
          7619200,
          7675973,
          7700578,
          7716405,
          7733746,
          7753752,
          7810400,
          7873830,
          7961673,
          8013708,
          8075998,
          8105790,
          8131612,
          8195637,
          8256536,
          8324294,
          8393492,
          8455059,
          8488099,
          8511770,
          8573864,
          8638249,
          8697368,
          8753920,
          8816254,
          8844577,
          8871393,
          8933356,
          8996876,
          9058687,
          9118513,
          9176975,
          9204731,
          9229322,
          9283418,
          9339420,
          9396293,
          9447165,
          9447165,
          9524640,
          9524640,
          9599565,
          9659167,
          9713909,
          9765455,
          9809754,
          9834513,
          9866710,
          9921981,
          9978747,
          10030626,
          10084208,
          10139148,
          10168174,
          10195160,
          10257875
         ],
         "yaxis": "y"
        }
       ],
       "layout": {
        "autosize": true,
        "legend": {
         "tracegroupgap": 0
        },
        "template": {
         "data": {
          "bar": [
           {
            "error_x": {
             "color": "#2a3f5f"
            },
            "error_y": {
             "color": "#2a3f5f"
            },
            "marker": {
             "line": {
              "color": "#E5ECF6",
              "width": 0.5
             }
            },
            "type": "bar"
           }
          ],
          "barpolar": [
           {
            "marker": {
             "line": {
              "color": "#E5ECF6",
              "width": 0.5
             }
            },
            "type": "barpolar"
           }
          ],
          "carpet": [
           {
            "aaxis": {
             "endlinecolor": "#2a3f5f",
             "gridcolor": "white",
             "linecolor": "white",
             "minorgridcolor": "white",
             "startlinecolor": "#2a3f5f"
            },
            "baxis": {
             "endlinecolor": "#2a3f5f",
             "gridcolor": "white",
             "linecolor": "white",
             "minorgridcolor": "white",
             "startlinecolor": "#2a3f5f"
            },
            "type": "carpet"
           }
          ],
          "choropleth": [
           {
            "colorbar": {
             "outlinewidth": 0,
             "ticks": ""
            },
            "type": "choropleth"
           }
          ],
          "contour": [
           {
            "colorbar": {
             "outlinewidth": 0,
             "ticks": ""
            },
            "colorscale": [
             [
              0,
              "#0d0887"
             ],
             [
              0.1111111111111111,
              "#46039f"
             ],
             [
              0.2222222222222222,
              "#7201a8"
             ],
             [
              0.3333333333333333,
              "#9c179e"
             ],
             [
              0.4444444444444444,
              "#bd3786"
             ],
             [
              0.5555555555555556,
              "#d8576b"
             ],
             [
              0.6666666666666666,
              "#ed7953"
             ],
             [
              0.7777777777777778,
              "#fb9f3a"
             ],
             [
              0.8888888888888888,
              "#fdca26"
             ],
             [
              1,
              "#f0f921"
             ]
            ],
            "type": "contour"
           }
          ],
          "contourcarpet": [
           {
            "colorbar": {
             "outlinewidth": 0,
             "ticks": ""
            },
            "type": "contourcarpet"
           }
          ],
          "heatmap": [
           {
            "colorbar": {
             "outlinewidth": 0,
             "ticks": ""
            },
            "colorscale": [
             [
              0,
              "#0d0887"
             ],
             [
              0.1111111111111111,
              "#46039f"
             ],
             [
              0.2222222222222222,
              "#7201a8"
             ],
             [
              0.3333333333333333,
              "#9c179e"
             ],
             [
              0.4444444444444444,
              "#bd3786"
             ],
             [
              0.5555555555555556,
              "#d8576b"
             ],
             [
              0.6666666666666666,
              "#ed7953"
             ],
             [
              0.7777777777777778,
              "#fb9f3a"
             ],
             [
              0.8888888888888888,
              "#fdca26"
             ],
             [
              1,
              "#f0f921"
             ]
            ],
            "type": "heatmap"
           }
          ],
          "heatmapgl": [
           {
            "colorbar": {
             "outlinewidth": 0,
             "ticks": ""
            },
            "colorscale": [
             [
              0,
              "#0d0887"
             ],
             [
              0.1111111111111111,
              "#46039f"
             ],
             [
              0.2222222222222222,
              "#7201a8"
             ],
             [
              0.3333333333333333,
              "#9c179e"
             ],
             [
              0.4444444444444444,
              "#bd3786"
             ],
             [
              0.5555555555555556,
              "#d8576b"
             ],
             [
              0.6666666666666666,
              "#ed7953"
             ],
             [
              0.7777777777777778,
              "#fb9f3a"
             ],
             [
              0.8888888888888888,
              "#fdca26"
             ],
             [
              1,
              "#f0f921"
             ]
            ],
            "type": "heatmapgl"
           }
          ],
          "histogram": [
           {
            "marker": {
             "colorbar": {
              "outlinewidth": 0,
              "ticks": ""
             }
            },
            "type": "histogram"
           }
          ],
          "histogram2d": [
           {
            "colorbar": {
             "outlinewidth": 0,
             "ticks": ""
            },
            "colorscale": [
             [
              0,
              "#0d0887"
             ],
             [
              0.1111111111111111,
              "#46039f"
             ],
             [
              0.2222222222222222,
              "#7201a8"
             ],
             [
              0.3333333333333333,
              "#9c179e"
             ],
             [
              0.4444444444444444,
              "#bd3786"
             ],
             [
              0.5555555555555556,
              "#d8576b"
             ],
             [
              0.6666666666666666,
              "#ed7953"
             ],
             [
              0.7777777777777778,
              "#fb9f3a"
             ],
             [
              0.8888888888888888,
              "#fdca26"
             ],
             [
              1,
              "#f0f921"
             ]
            ],
            "type": "histogram2d"
           }
          ],
          "histogram2dcontour": [
           {
            "colorbar": {
             "outlinewidth": 0,
             "ticks": ""
            },
            "colorscale": [
             [
              0,
              "#0d0887"
             ],
             [
              0.1111111111111111,
              "#46039f"
             ],
             [
              0.2222222222222222,
              "#7201a8"
             ],
             [
              0.3333333333333333,
              "#9c179e"
             ],
             [
              0.4444444444444444,
              "#bd3786"
             ],
             [
              0.5555555555555556,
              "#d8576b"
             ],
             [
              0.6666666666666666,
              "#ed7953"
             ],
             [
              0.7777777777777778,
              "#fb9f3a"
             ],
             [
              0.8888888888888888,
              "#fdca26"
             ],
             [
              1,
              "#f0f921"
             ]
            ],
            "type": "histogram2dcontour"
           }
          ],
          "mesh3d": [
           {
            "colorbar": {
             "outlinewidth": 0,
             "ticks": ""
            },
            "type": "mesh3d"
           }
          ],
          "parcoords": [
           {
            "line": {
             "colorbar": {
              "outlinewidth": 0,
              "ticks": ""
             }
            },
            "type": "parcoords"
           }
          ],
          "pie": [
           {
            "automargin": true,
            "type": "pie"
           }
          ],
          "scatter": [
           {
            "marker": {
             "colorbar": {
              "outlinewidth": 0,
              "ticks": ""
             }
            },
            "type": "scatter"
           }
          ],
          "scatter3d": [
           {
            "line": {
             "colorbar": {
              "outlinewidth": 0,
              "ticks": ""
             }
            },
            "marker": {
             "colorbar": {
              "outlinewidth": 0,
              "ticks": ""
             }
            },
            "type": "scatter3d"
           }
          ],
          "scattercarpet": [
           {
            "marker": {
             "colorbar": {
              "outlinewidth": 0,
              "ticks": ""
             }
            },
            "type": "scattercarpet"
           }
          ],
          "scattergeo": [
           {
            "marker": {
             "colorbar": {
              "outlinewidth": 0,
              "ticks": ""
             }
            },
            "type": "scattergeo"
           }
          ],
          "scattergl": [
           {
            "marker": {
             "colorbar": {
              "outlinewidth": 0,
              "ticks": ""
             }
            },
            "type": "scattergl"
           }
          ],
          "scattermapbox": [
           {
            "marker": {
             "colorbar": {
              "outlinewidth": 0,
              "ticks": ""
             }
            },
            "type": "scattermapbox"
           }
          ],
          "scatterpolar": [
           {
            "marker": {
             "colorbar": {
              "outlinewidth": 0,
              "ticks": ""
             }
            },
            "type": "scatterpolar"
           }
          ],
          "scatterpolargl": [
           {
            "marker": {
             "colorbar": {
              "outlinewidth": 0,
              "ticks": ""
             }
            },
            "type": "scatterpolargl"
           }
          ],
          "scatterternary": [
           {
            "marker": {
             "colorbar": {
              "outlinewidth": 0,
              "ticks": ""
             }
            },
            "type": "scatterternary"
           }
          ],
          "surface": [
           {
            "colorbar": {
             "outlinewidth": 0,
             "ticks": ""
            },
            "colorscale": [
             [
              0,
              "#0d0887"
             ],
             [
              0.1111111111111111,
              "#46039f"
             ],
             [
              0.2222222222222222,
              "#7201a8"
             ],
             [
              0.3333333333333333,
              "#9c179e"
             ],
             [
              0.4444444444444444,
              "#bd3786"
             ],
             [
              0.5555555555555556,
              "#d8576b"
             ],
             [
              0.6666666666666666,
              "#ed7953"
             ],
             [
              0.7777777777777778,
              "#fb9f3a"
             ],
             [
              0.8888888888888888,
              "#fdca26"
             ],
             [
              1,
              "#f0f921"
             ]
            ],
            "type": "surface"
           }
          ],
          "table": [
           {
            "cells": {
             "fill": {
              "color": "#EBF0F8"
             },
             "line": {
              "color": "white"
             }
            },
            "header": {
             "fill": {
              "color": "#C8D4E3"
             },
             "line": {
              "color": "white"
             }
            },
            "type": "table"
           }
          ]
         },
         "layout": {
          "annotationdefaults": {
           "arrowcolor": "#2a3f5f",
           "arrowhead": 0,
           "arrowwidth": 1
          },
          "coloraxis": {
           "colorbar": {
            "outlinewidth": 0,
            "ticks": ""
           }
          },
          "colorscale": {
           "diverging": [
            [
             0,
             "#8e0152"
            ],
            [
             0.1,
             "#c51b7d"
            ],
            [
             0.2,
             "#de77ae"
            ],
            [
             0.3,
             "#f1b6da"
            ],
            [
             0.4,
             "#fde0ef"
            ],
            [
             0.5,
             "#f7f7f7"
            ],
            [
             0.6,
             "#e6f5d0"
            ],
            [
             0.7,
             "#b8e186"
            ],
            [
             0.8,
             "#7fbc41"
            ],
            [
             0.9,
             "#4d9221"
            ],
            [
             1,
             "#276419"
            ]
           ],
           "sequential": [
            [
             0,
             "#0d0887"
            ],
            [
             0.1111111111111111,
             "#46039f"
            ],
            [
             0.2222222222222222,
             "#7201a8"
            ],
            [
             0.3333333333333333,
             "#9c179e"
            ],
            [
             0.4444444444444444,
             "#bd3786"
            ],
            [
             0.5555555555555556,
             "#d8576b"
            ],
            [
             0.6666666666666666,
             "#ed7953"
            ],
            [
             0.7777777777777778,
             "#fb9f3a"
            ],
            [
             0.8888888888888888,
             "#fdca26"
            ],
            [
             1,
             "#f0f921"
            ]
           ],
           "sequentialminus": [
            [
             0,
             "#0d0887"
            ],
            [
             0.1111111111111111,
             "#46039f"
            ],
            [
             0.2222222222222222,
             "#7201a8"
            ],
            [
             0.3333333333333333,
             "#9c179e"
            ],
            [
             0.4444444444444444,
             "#bd3786"
            ],
            [
             0.5555555555555556,
             "#d8576b"
            ],
            [
             0.6666666666666666,
             "#ed7953"
            ],
            [
             0.7777777777777778,
             "#fb9f3a"
            ],
            [
             0.8888888888888888,
             "#fdca26"
            ],
            [
             1,
             "#f0f921"
            ]
           ]
          },
          "colorway": [
           "#636efa",
           "#EF553B",
           "#00cc96",
           "#ab63fa",
           "#FFA15A",
           "#19d3f3",
           "#FF6692",
           "#B6E880",
           "#FF97FF",
           "#FECB52"
          ],
          "font": {
           "color": "#2a3f5f"
          },
          "geo": {
           "bgcolor": "white",
           "lakecolor": "white",
           "landcolor": "#E5ECF6",
           "showlakes": true,
           "showland": true,
           "subunitcolor": "white"
          },
          "hoverlabel": {
           "align": "left"
          },
          "hovermode": "closest",
          "mapbox": {
           "style": "light"
          },
          "paper_bgcolor": "white",
          "plot_bgcolor": "#E5ECF6",
          "polar": {
           "angularaxis": {
            "gridcolor": "white",
            "linecolor": "white",
            "ticks": ""
           },
           "bgcolor": "#E5ECF6",
           "radialaxis": {
            "gridcolor": "white",
            "linecolor": "white",
            "ticks": ""
           }
          },
          "scene": {
           "xaxis": {
            "backgroundcolor": "#E5ECF6",
            "gridcolor": "white",
            "gridwidth": 2,
            "linecolor": "white",
            "showbackground": true,
            "ticks": "",
            "zerolinecolor": "white"
           },
           "yaxis": {
            "backgroundcolor": "#E5ECF6",
            "gridcolor": "white",
            "gridwidth": 2,
            "linecolor": "white",
            "showbackground": true,
            "ticks": "",
            "zerolinecolor": "white"
           },
           "zaxis": {
            "backgroundcolor": "#E5ECF6",
            "gridcolor": "white",
            "gridwidth": 2,
            "linecolor": "white",
            "showbackground": true,
            "ticks": "",
            "zerolinecolor": "white"
           }
          },
          "shapedefaults": {
           "line": {
            "color": "#2a3f5f"
           }
          },
          "ternary": {
           "aaxis": {
            "gridcolor": "white",
            "linecolor": "white",
            "ticks": ""
           },
           "baxis": {
            "gridcolor": "white",
            "linecolor": "white",
            "ticks": ""
           },
           "bgcolor": "#E5ECF6",
           "caxis": {
            "gridcolor": "white",
            "linecolor": "white",
            "ticks": ""
           }
          },
          "title": {
           "x": 0.05
          },
          "xaxis": {
           "automargin": true,
           "gridcolor": "white",
           "linecolor": "white",
           "ticks": "",
           "title": {
            "standoff": 15
           },
           "zerolinecolor": "white",
           "zerolinewidth": 2
          },
          "yaxis": {
           "automargin": true,
           "gridcolor": "white",
           "linecolor": "white",
           "ticks": "",
           "title": {
            "standoff": 15
           },
           "zerolinecolor": "white",
           "zerolinewidth": 2
          }
         }
        },
        "title": {
         "text": "Casos de Covid no Brasil Log"
        },
        "xaxis": {
         "anchor": "y",
         "autorange": true,
         "domain": [
          0,
          1
         ],
         "range": [
          0,
          398
         ],
         "title": {
          "text": "Dias"
         },
         "type": "category"
        },
        "yaxis": {
         "anchor": "x",
         "autorange": true,
         "domain": [
          0,
          1
         ],
         "range": [
          -0.3895031890307652,
          7.40056059158454
         ],
         "title": {
          "text": "Casos"
         },
         "type": "log"
        }
       }
      },
      "image/png": "[encoded data removed]",
      "text/html": [
       "<div>                            <div id=\"6e2e10c0-88c9-4ab5-b5f0-8a18b1e795bc\" class=\"plotly-graph-div\" style=\"height:525px; width:100%;\"></div>            <script type=\"text/javascript\">                require([\"plotly\"], function(Plotly) {                    window.PLOTLYENV=window.PLOTLYENV || {};                                    if (document.getElementById(\"6e2e10c0-88c9-4ab5-b5f0-8a18b1e795bc\")) {                    Plotly.newPlot(                        \"6e2e10c0-88c9-4ab5-b5f0-8a18b1e795bc\",                        [{\"hovertemplate\": \"Dias=%{x}<br>Casos=%{y}<extra></extra>\", \"legendgroup\": \"\", \"line\": {\"color\": \"#636efa\", \"dash\": \"solid\"}, \"mode\": \"lines\", \"name\": \"\", \"orientation\": \"v\", \"showlegend\": false, \"type\": \"scatter\", \"x\": [\"1/22/20\", \"1/23/20\", \"1/24/20\", \"1/25/20\", \"1/26/20\", \"1/27/20\", \"1/28/20\", \"1/29/20\", \"1/30/20\", \"1/31/20\", \"2/1/20\", \"2/2/20\", \"2/3/20\", \"2/4/20\", \"2/5/20\", \"2/6/20\", \"2/7/20\", \"2/8/20\", \"2/9/20\", \"2/10/20\", \"2/11/20\", \"2/12/20\", \"2/13/20\", \"2/14/20\", \"2/15/20\", \"2/16/20\", \"2/17/20\", \"2/18/20\", \"2/19/20\", \"2/20/20\", \"2/21/20\", \"2/22/20\", \"2/23/20\", \"2/24/20\", \"2/25/20\", \"2/26/20\", \"2/27/20\", \"2/28/20\", \"2/29/20\", \"3/1/20\", \"3/2/20\", \"3/3/20\", \"3/4/20\", \"3/5/20\", \"3/6/20\", \"3/7/20\", \"3/8/20\", \"3/9/20\", \"3/10/20\", \"3/11/20\", \"3/12/20\", \"3/13/20\", \"3/14/20\", \"3/15/20\", \"3/16/20\", \"3/17/20\", \"3/18/20\", \"3/19/20\", \"3/20/20\", \"3/21/20\", \"3/22/20\", \"3/23/20\", \"3/24/20\", \"3/25/20\", \"3/26/20\", \"3/27/20\", \"3/28/20\", \"3/29/20\", \"3/30/20\", \"3/31/20\", \"4/1/20\", \"4/2/20\", \"4/3/20\", \"4/4/20\", \"4/5/20\", \"4/6/20\", \"4/7/20\", \"4/8/20\", \"4/9/20\", \"4/10/20\", \"4/11/20\", \"4/12/20\", \"4/13/20\", \"4/14/20\", \"4/15/20\", \"4/16/20\", \"4/17/20\", \"4/18/20\", \"4/19/20\", \"4/20/20\", \"4/21/20\", \"4/22/20\", \"4/23/20\", \"4/24/20\", \"4/25/20\", \"4/26/20\", \"4/27/20\", \"4/28/20\", \"4/29/20\", \"4/30/20\", \"5/1/20\", \"5/2/20\", \"5/3/20\", \"5/4/20\", \"5/5/20\", \"5/6/20\", \"5/7/20\", \"5/8/20\", \"5/9/20\", \"5/10/20\", \"5/11/20\", \"5/12/20\", \"5/13/20\", \"5/14/20\", \"5/15/20\", \"5/16/20\", \"5/17/20\", \"5/18/20\", \"5/19/20\", \"5/20/20\", \"5/21/20\", \"5/22/20\", \"5/23/20\", \"5/24/20\", \"5/25/20\", \"5/26/20\", \"5/27/20\", \"5/28/20\", \"5/29/20\", \"5/30/20\", \"5/31/20\", \"6/1/20\", \"6/2/20\", \"6/3/20\", \"6/4/20\", \"6/5/20\", \"6/6/20\", \"6/7/20\", \"6/8/20\", \"6/9/20\", \"6/10/20\", \"6/11/20\", \"6/12/20\", \"6/13/20\", \"6/14/20\", \"6/15/20\", \"6/16/20\", \"6/17/20\", \"6/18/20\", \"6/19/20\", \"6/20/20\", \"6/21/20\", \"6/22/20\", \"6/23/20\", \"6/24/20\", \"6/25/20\", \"6/26/20\", \"6/27/20\", \"6/28/20\", \"6/29/20\", \"6/30/20\", \"7/1/20\", \"7/2/20\", \"7/3/20\", \"7/4/20\", \"7/5/20\", \"7/6/20\", \"7/7/20\", \"7/8/20\", \"7/9/20\", \"7/10/20\", \"7/11/20\", \"7/12/20\", \"7/13/20\", \"7/14/20\", \"7/15/20\", \"7/16/20\", \"7/17/20\", \"7/18/20\", \"7/19/20\", \"7/20/20\", \"7/21/20\", \"7/22/20\", \"7/23/20\", \"7/24/20\", \"7/25/20\", \"7/26/20\", \"7/27/20\", \"7/28/20\", \"7/29/20\", \"7/30/20\", \"7/31/20\", \"8/1/20\", \"8/2/20\", \"8/3/20\", \"8/4/20\", \"8/5/20\", \"8/6/20\", \"8/7/20\", \"8/8/20\", \"8/9/20\", \"8/10/20\", \"8/11/20\", \"8/12/20\", \"8/13/20\", \"8/14/20\", \"8/15/20\", \"8/16/20\", \"8/17/20\", \"8/18/20\", \"8/19/20\", \"8/20/20\", \"8/21/20\", \"8/22/20\", \"8/23/20\", \"8/24/20\", \"8/25/20\", \"8/26/20\", \"8/27/20\", \"8/28/20\", \"8/29/20\", \"8/30/20\", \"8/31/20\", \"9/1/20\", \"9/2/20\", \"9/3/20\", \"9/4/20\", \"9/5/20\", \"9/6/20\", \"9/7/20\", \"9/8/20\", \"9/9/20\", \"9/10/20\", \"9/11/20\", \"9/12/20\", \"9/13/20\", \"9/14/20\", \"9/15/20\", \"9/16/20\", \"9/17/20\", \"9/18/20\", \"9/19/20\", \"9/20/20\", \"9/21/20\", \"9/22/20\", \"9/23/20\", \"9/24/20\", \"9/25/20\", \"9/26/20\", \"9/27/20\", \"9/28/20\", \"9/29/20\", \"9/30/20\", \"10/1/20\", \"10/2/20\", \"10/3/20\", \"10/4/20\", \"10/5/20\", \"10/6/20\", \"10/7/20\", \"10/8/20\", \"10/9/20\", \"10/10/20\", \"10/11/20\", \"10/12/20\", \"10/13/20\", \"10/14/20\", \"10/15/20\", \"10/16/20\", \"10/17/20\", \"10/18/20\", \"10/19/20\", \"10/20/20\", \"10/21/20\", \"10/22/20\", \"10/23/20\", \"10/24/20\", \"10/25/20\", \"10/26/20\", \"10/27/20\", \"10/28/20\", \"10/29/20\", \"10/30/20\", \"10/31/20\", \"11/1/20\", \"11/2/20\", \"11/3/20\", \"11/4/20\", \"11/5/20\", \"11/6/20\", \"11/7/20\", \"11/8/20\", \"11/9/20\", \"11/10/20\", \"11/11/20\", \"11/12/20\", \"11/13/20\", \"11/14/20\", \"11/15/20\", \"11/16/20\", \"11/17/20\", \"11/18/20\", \"11/19/20\", \"11/20/20\", \"11/21/20\", \"11/22/20\", \"11/23/20\", \"11/24/20\", \"11/25/20\", \"11/26/20\", \"11/27/20\", \"11/28/20\", \"11/29/20\", \"11/30/20\", \"12/1/20\", \"12/2/20\", \"12/3/20\", \"12/4/20\", \"12/5/20\", \"12/6/20\", \"12/7/20\", \"12/8/20\", \"12/9/20\", \"12/10/20\", \"12/11/20\", \"12/12/20\", \"12/13/20\", \"12/14/20\", \"12/15/20\", \"12/16/20\", \"12/17/20\", \"12/18/20\", \"12/19/20\", \"12/20/20\", \"12/21/20\", \"12/22/20\", \"12/23/20\", \"12/24/20\", \"12/25/20\", \"12/26/20\", \"12/27/20\", \"12/28/20\", \"12/29/20\", \"12/30/20\", \"12/31/20\", \"1/1/21\", \"1/2/21\", \"1/3/21\", \"1/4/21\", \"1/5/21\", \"1/6/21\", \"1/7/21\", \"1/8/21\", \"1/9/21\", \"1/10/21\", \"1/11/21\", \"1/12/21\", \"1/13/21\", \"1/14/21\", \"1/15/21\", \"1/16/21\", \"1/17/21\", \"1/18/21\", \"1/19/21\", \"1/20/21\", \"1/21/21\", \"1/22/21\", \"1/23/21\", \"1/24/21\", \"1/25/21\", \"1/26/21\", \"1/27/21\", \"1/28/21\", \"1/29/21\", \"1/30/21\", \"1/31/21\", \"2/1/21\", \"2/2/21\", \"2/3/21\", \"2/4/21\", \"2/5/21\", \"2/6/21\", \"2/7/21\", \"2/8/21\", \"2/9/21\", \"2/10/21\", \"2/11/21\", \"2/12/21\", \"2/13/21\", \"2/14/21\", \"2/15/21\", \"2/16/21\", \"2/17/21\", \"2/18/21\", \"2/19/21\", \"2/20/21\", \"2/21/21\", \"2/22/21\", \"2/23/21\"], \"xaxis\": \"x\", \"y\": [0, 0, 0, 0, 0, 0, 0, 0, 0, 0, 0, 0, 0, 0, 0, 0, 0, 0, 0, 0, 0, 0, 0, 0, 0, 0, 0, 0, 0, 0, 0, 0, 0, 0, 0, 1, 1, 1, 2, 2, 2, 2, 4, 4, 13, 13, 20, 25, 31, 38, 52, 151, 151, 162, 200, 321, 372, 621, 793, 1021, 1546, 1924, 2247, 2554, 2985, 3417, 3904, 4256, 4579, 5717, 6836, 8044, 9056, 10360, 11130, 12161, 14034, 16170, 18092, 19638, 20727, 22192, 23430, 25262, 28320, 30425, 33682, 36658, 38654, 40743, 43079, 45757, 50036, 54043, 59324, 63100, 67446, 73235, 79685, 87187, 92202, 97100, 101826, 108620, 115455, 126611, 135773, 146894, 156061, 162699, 169594, 178214, 190137, 203165, 220291, 233511, 241080, 255368, 271885, 291579, 310087, 330890, 347398, 363211, 374898, 391222, 411821, 438238, 465166, 498440, 514849, 526447, 555383, 584016, 614941, 645771, 672846, 691758, 707412, 739503, 772416, 802828, 828810, 850514, 867624, 888271, 923189, 955377, 978142, 1032913, 1067579, 1083341, 1106470, 1145906, 1188631, 1228114, 1274974, 1313667, 1344143, 1368195, 1402041, 1448753, 1496858, 1539081, 1577004, 1603055, 1623284, 1668589, 1713160, 1755779, 1800827, 1839850, 1864681, 1884967, 1926824, 1966748, 2012151, 2046328, 2074860, 2098389, 2118646, 2159654, 2227514, 2287475, 2343366, 2394513, 2419091, 2442375, 2483191, 2552265, 2610102, 2662485, 2707877, 2733677, 2750318, 2801921, 2859073, 2912212, 2962442, 3012412, 3035422, 3057470, 3109630, 3164785, 3224876, 3275520, 3317096, 3340197, 3359570, 3407354, 3456652, 3501975, 3532330, 3582362, 3605783, 3622861, 3669995, 3717156, 3761391, 3804803, 3846153, 3862311, 3908272, 3950931, 3997865, 4041638, 4091801, 4123000, 4137521, 4147794, 4162073, 4197889, 4238446, 4282164, 4315687, 4330455, 4345610, 4382263, 4419083, 4455386, 4495183, 4528240, 4544629, 4558040, 4591364, 4591364, 4657702, 4689613, 4717991, 4732309, 4745464, 4777522, 4810935, 4847092, 4847092, 4906833, 4915289, 4927235, 4969141, 5000694, 5028444, 5055888, 5082637, 5094979, 5103408, 5113628, 5140863, 5169386, 5200300, 5224362, 5224362, 5250727, 5273954, 5298772, 5323630, 5353656, 5380635, 5394128, 5409854, 5439641, 5468270, 5494376, 5516658, 5535605, 5545705, 5554206, 5566049, 5590025, 5590025, 5631181, 5653561, 5664115, 5675032, 5699005, 5747660, 5781582, 5810652, 5848959, 5863093, 5876464, 5911758, 5945849, 5981767, 6020164, 6052786, 6071401, 6087608, 6118708, 6166606, 6204220, 6238350, 6290272, 6314740, 6335878, 6386787, 6436650, 6487084, 6533968, 6577177, 6603540, 6623911, 6674999, 6728452, 6781799, 6836227, 6880127, 6901952, 6927145, 6970034, 7040608, 7110434, 7162978, 7213155, 7238600, 7263619, 7318821, 7365517, 7423945, 7448560, 7465806, 7484285, 7504833, 7563551, 7619200, 7675973, 7700578, 7716405, 7733746, 7753752, 7810400, 7873830, 7961673, 8013708, 8075998, 8105790, 8131612, 8195637, 8256536, 8324294, 8393492, 8455059, 8488099, 8511770, 8573864, 8638249, 8697368, 8753920, 8816254, 8844577, 8871393, 8933356, 8996876, 9058687, 9118513, 9176975, 9204731, 9229322, 9283418, 9339420, 9396293, 9447165, 9447165, 9524640, 9524640, 9599565, 9659167, 9713909, 9765455, 9809754, 9834513, 9866710, 9921981, 9978747, 10030626, 10084208, 10139148, 10168174, 10195160, 10257875], \"yaxis\": \"y\"}],                        {\"legend\": {\"tracegroupgap\": 0}, \"template\": {\"data\": {\"bar\": [{\"error_x\": {\"color\": \"#2a3f5f\"}, \"error_y\": {\"color\": \"#2a3f5f\"}, \"marker\": {\"line\": {\"color\": \"#E5ECF6\", \"width\": 0.5}}, \"type\": \"bar\"}], \"barpolar\": [{\"marker\": {\"line\": {\"color\": \"#E5ECF6\", \"width\": 0.5}}, \"type\": \"barpolar\"}], \"carpet\": [{\"aaxis\": {\"endlinecolor\": \"#2a3f5f\", \"gridcolor\": \"white\", \"linecolor\": \"white\", \"minorgridcolor\": \"white\", \"startlinecolor\": \"#2a3f5f\"}, \"baxis\": {\"endlinecolor\": \"#2a3f5f\", \"gridcolor\": \"white\", \"linecolor\": \"white\", \"minorgridcolor\": \"white\", \"startlinecolor\": \"#2a3f5f\"}, \"type\": \"carpet\"}], \"choropleth\": [{\"colorbar\": {\"outlinewidth\": 0, \"ticks\": \"\"}, \"type\": \"choropleth\"}], \"contour\": [{\"colorbar\": {\"outlinewidth\": 0, \"ticks\": \"\"}, \"colorscale\": [[0.0, \"#0d0887\"], [0.1111111111111111, \"#46039f\"], [0.2222222222222222, \"#7201a8\"], [0.3333333333333333, \"#9c179e\"], [0.4444444444444444, \"#bd3786\"], [0.5555555555555556, \"#d8576b\"], [0.6666666666666666, \"#ed7953\"], [0.7777777777777778, \"#fb9f3a\"], [0.8888888888888888, \"#fdca26\"], [1.0, \"#f0f921\"]], \"type\": \"contour\"}], \"contourcarpet\": [{\"colorbar\": {\"outlinewidth\": 0, \"ticks\": \"\"}, \"type\": \"contourcarpet\"}], \"heatmap\": [{\"colorbar\": {\"outlinewidth\": 0, \"ticks\": \"\"}, \"colorscale\": [[0.0, \"#0d0887\"], [0.1111111111111111, \"#46039f\"], [0.2222222222222222, \"#7201a8\"], [0.3333333333333333, \"#9c179e\"], [0.4444444444444444, \"#bd3786\"], [0.5555555555555556, \"#d8576b\"], [0.6666666666666666, \"#ed7953\"], [0.7777777777777778, \"#fb9f3a\"], [0.8888888888888888, \"#fdca26\"], [1.0, \"#f0f921\"]], \"type\": \"heatmap\"}], \"heatmapgl\": [{\"colorbar\": {\"outlinewidth\": 0, \"ticks\": \"\"}, \"colorscale\": [[0.0, \"#0d0887\"], [0.1111111111111111, \"#46039f\"], [0.2222222222222222, \"#7201a8\"], [0.3333333333333333, \"#9c179e\"], [0.4444444444444444, \"#bd3786\"], [0.5555555555555556, \"#d8576b\"], [0.6666666666666666, \"#ed7953\"], [0.7777777777777778, \"#fb9f3a\"], [0.8888888888888888, \"#fdca26\"], [1.0, \"#f0f921\"]], \"type\": \"heatmapgl\"}], \"histogram\": [{\"marker\": {\"colorbar\": {\"outlinewidth\": 0, \"ticks\": \"\"}}, \"type\": \"histogram\"}], \"histogram2d\": [{\"colorbar\": {\"outlinewidth\": 0, \"ticks\": \"\"}, \"colorscale\": [[0.0, \"#0d0887\"], [0.1111111111111111, \"#46039f\"], [0.2222222222222222, \"#7201a8\"], [0.3333333333333333, \"#9c179e\"], [0.4444444444444444, \"#bd3786\"], [0.5555555555555556, \"#d8576b\"], [0.6666666666666666, \"#ed7953\"], [0.7777777777777778, \"#fb9f3a\"], [0.8888888888888888, \"#fdca26\"], [1.0, \"#f0f921\"]], \"type\": \"histogram2d\"}], \"histogram2dcontour\": [{\"colorbar\": {\"outlinewidth\": 0, \"ticks\": \"\"}, \"colorscale\": [[0.0, \"#0d0887\"], [0.1111111111111111, \"#46039f\"], [0.2222222222222222, \"#7201a8\"], [0.3333333333333333, \"#9c179e\"], [0.4444444444444444, \"#bd3786\"], [0.5555555555555556, \"#d8576b\"], [0.6666666666666666, \"#ed7953\"], [0.7777777777777778, \"#fb9f3a\"], [0.8888888888888888, \"#fdca26\"], [1.0, \"#f0f921\"]], \"type\": \"histogram2dcontour\"}], \"mesh3d\": [{\"colorbar\": {\"outlinewidth\": 0, \"ticks\": \"\"}, \"type\": \"mesh3d\"}], \"parcoords\": [{\"line\": {\"colorbar\": {\"outlinewidth\": 0, \"ticks\": \"\"}}, \"type\": \"parcoords\"}], \"pie\": [{\"automargin\": true, \"type\": \"pie\"}], \"scatter\": [{\"marker\": {\"colorbar\": {\"outlinewidth\": 0, \"ticks\": \"\"}}, \"type\": \"scatter\"}], \"scatter3d\": [{\"line\": {\"colorbar\": {\"outlinewidth\": 0, \"ticks\": \"\"}}, \"marker\": {\"colorbar\": {\"outlinewidth\": 0, \"ticks\": \"\"}}, \"type\": \"scatter3d\"}], \"scattercarpet\": [{\"marker\": {\"colorbar\": {\"outlinewidth\": 0, \"ticks\": \"\"}}, \"type\": \"scattercarpet\"}], \"scattergeo\": [{\"marker\": {\"colorbar\": {\"outlinewidth\": 0, \"ticks\": \"\"}}, \"type\": \"scattergeo\"}], \"scattergl\": [{\"marker\": {\"colorbar\": {\"outlinewidth\": 0, \"ticks\": \"\"}}, \"type\": \"scattergl\"}], \"scattermapbox\": [{\"marker\": {\"colorbar\": {\"outlinewidth\": 0, \"ticks\": \"\"}}, \"type\": \"scattermapbox\"}], \"scatterpolar\": [{\"marker\": {\"colorbar\": {\"outlinewidth\": 0, \"ticks\": \"\"}}, \"type\": \"scatterpolar\"}], \"scatterpolargl\": [{\"marker\": {\"colorbar\": {\"outlinewidth\": 0, \"ticks\": \"\"}}, \"type\": \"scatterpolargl\"}], \"scatterternary\": [{\"marker\": {\"colorbar\": {\"outlinewidth\": 0, \"ticks\": \"\"}}, \"type\": \"scatterternary\"}], \"surface\": [{\"colorbar\": {\"outlinewidth\": 0, \"ticks\": \"\"}, \"colorscale\": [[0.0, \"#0d0887\"], [0.1111111111111111, \"#46039f\"], [0.2222222222222222, \"#7201a8\"], [0.3333333333333333, \"#9c179e\"], [0.4444444444444444, \"#bd3786\"], [0.5555555555555556, \"#d8576b\"], [0.6666666666666666, \"#ed7953\"], [0.7777777777777778, \"#fb9f3a\"], [0.8888888888888888, \"#fdca26\"], [1.0, \"#f0f921\"]], \"type\": \"surface\"}], \"table\": [{\"cells\": {\"fill\": {\"color\": \"#EBF0F8\"}, \"line\": {\"color\": \"white\"}}, \"header\": {\"fill\": {\"color\": \"#C8D4E3\"}, \"line\": {\"color\": \"white\"}}, \"type\": \"table\"}]}, \"layout\": {\"annotationdefaults\": {\"arrowcolor\": \"#2a3f5f\", \"arrowhead\": 0, \"arrowwidth\": 1}, \"coloraxis\": {\"colorbar\": {\"outlinewidth\": 0, \"ticks\": \"\"}}, \"colorscale\": {\"diverging\": [[0, \"#8e0152\"], [0.1, \"#c51b7d\"], [0.2, \"#de77ae\"], [0.3, \"#f1b6da\"], [0.4, \"#fde0ef\"], [0.5, \"#f7f7f7\"], [0.6, \"#e6f5d0\"], [0.7, \"#b8e186\"], [0.8, \"#7fbc41\"], [0.9, \"#4d9221\"], [1, \"#276419\"]], \"sequential\": [[0.0, \"#0d0887\"], [0.1111111111111111, \"#46039f\"], [0.2222222222222222, \"#7201a8\"], [0.3333333333333333, \"#9c179e\"], [0.4444444444444444, \"#bd3786\"], [0.5555555555555556, \"#d8576b\"], [0.6666666666666666, \"#ed7953\"], [0.7777777777777778, \"#fb9f3a\"], [0.8888888888888888, \"#fdca26\"], [1.0, \"#f0f921\"]], \"sequentialminus\": [[0.0, \"#0d0887\"], [0.1111111111111111, \"#46039f\"], [0.2222222222222222, \"#7201a8\"], [0.3333333333333333, \"#9c179e\"], [0.4444444444444444, \"#bd3786\"], [0.5555555555555556, \"#d8576b\"], [0.6666666666666666, \"#ed7953\"], [0.7777777777777778, \"#fb9f3a\"], [0.8888888888888888, \"#fdca26\"], [1.0, \"#f0f921\"]]}, \"colorway\": [\"#636efa\", \"#EF553B\", \"#00cc96\", \"#ab63fa\", \"#FFA15A\", \"#19d3f3\", \"#FF6692\", \"#B6E880\", \"#FF97FF\", \"#FECB52\"], \"font\": {\"color\": \"#2a3f5f\"}, \"geo\": {\"bgcolor\": \"white\", \"lakecolor\": \"white\", \"landcolor\": \"#E5ECF6\", \"showlakes\": true, \"showland\": true, \"subunitcolor\": \"white\"}, \"hoverlabel\": {\"align\": \"left\"}, \"hovermode\": \"closest\", \"mapbox\": {\"style\": \"light\"}, \"paper_bgcolor\": \"white\", \"plot_bgcolor\": \"#E5ECF6\", \"polar\": {\"angularaxis\": {\"gridcolor\": \"white\", \"linecolor\": \"white\", \"ticks\": \"\"}, \"bgcolor\": \"#E5ECF6\", \"radialaxis\": {\"gridcolor\": \"white\", \"linecolor\": \"white\", \"ticks\": \"\"}}, \"scene\": {\"xaxis\": {\"backgroundcolor\": \"#E5ECF6\", \"gridcolor\": \"white\", \"gridwidth\": 2, \"linecolor\": \"white\", \"showbackground\": true, \"ticks\": \"\", \"zerolinecolor\": \"white\"}, \"yaxis\": {\"backgroundcolor\": \"#E5ECF6\", \"gridcolor\": \"white\", \"gridwidth\": 2, \"linecolor\": \"white\", \"showbackground\": true, \"ticks\": \"\", \"zerolinecolor\": \"white\"}, \"zaxis\": {\"backgroundcolor\": \"#E5ECF6\", \"gridcolor\": \"white\", \"gridwidth\": 2, \"linecolor\": \"white\", \"showbackground\": true, \"ticks\": \"\", \"zerolinecolor\": \"white\"}}, \"shapedefaults\": {\"line\": {\"color\": \"#2a3f5f\"}}, \"ternary\": {\"aaxis\": {\"gridcolor\": \"white\", \"linecolor\": \"white\", \"ticks\": \"\"}, \"baxis\": {\"gridcolor\": \"white\", \"linecolor\": \"white\", \"ticks\": \"\"}, \"bgcolor\": \"#E5ECF6\", \"caxis\": {\"gridcolor\": \"white\", \"linecolor\": \"white\", \"ticks\": \"\"}}, \"title\": {\"x\": 0.05}, \"xaxis\": {\"automargin\": true, \"gridcolor\": \"white\", \"linecolor\": \"white\", \"ticks\": \"\", \"title\": {\"standoff\": 15}, \"zerolinecolor\": \"white\", \"zerolinewidth\": 2}, \"yaxis\": {\"automargin\": true, \"gridcolor\": \"white\", \"linecolor\": \"white\", \"ticks\": \"\", \"title\": {\"standoff\": 15}, \"zerolinecolor\": \"white\", \"zerolinewidth\": 2}}}, \"title\": {\"text\": \"Casos de Covid no Brasil Log\"}, \"xaxis\": {\"anchor\": \"y\", \"domain\": [0.0, 1.0], \"title\": {\"text\": \"Dias\"}}, \"yaxis\": {\"anchor\": \"x\", \"domain\": [0.0, 1.0], \"title\": {\"text\": \"Casos\"}, \"type\": \"log\"}},                        {\"responsive\": true}                    ).then(function(){\n",
       "                            \n",
       "var gd = document.getElementById('6e2e10c0-88c9-4ab5-b5f0-8a18b1e795bc');\n",
       "var x = new MutationObserver(function (mutations, observer) {{\n",
       "        var display = window.getComputedStyle(gd).display;\n",
       "        if (!display || display === 'none') {{\n",
       "            console.log([gd, 'removed!']);\n",
       "            Plotly.purge(gd);\n",
       "            observer.disconnect();\n",
       "        }}\n",
       "}});\n",
       "\n",
       "// Listen for the removal of the full notebook cells\n",
       "var notebookContainer = gd.closest('#notebook-container');\n",
       "if (notebookContainer) {{\n",
       "    x.observe(notebookContainer, {childList: true});\n",
       "}}\n",
       "\n",
       "// Listen for the clearing of the current output cell\n",
       "var outputEl = gd.closest('.output');\n",
       "if (outputEl) {{\n",
       "    x.observe(outputEl, {childList: true});\n",
       "}}\n",
       "\n",
       "                        })                };                });            </script>        </div>"
      ]
     },
     "metadata": {},
     "output_type": "display_data"
    },
    {
     "data": {
      "application/vnd.plotly.v1+json": {
       "config": {
        "plotlyServerURL": "https://plot.ly"
       },
       "data": [
        {
         "hovertemplate": "variable=Mortes<br>Dias=%{x}<br>Casos/Mortes=%{y}<extra></extra>",
         "legendgroup": "Mortes",
         "line": {
          "color": "#636efa",
          "dash": "solid"
         },
         "mode": "lines",
         "name": "Mortes",
         "orientation": "v",
         "showlegend": true,
         "type": "scatter",
         "x": [
          "1/22/20",
          "1/23/20",
          "1/24/20",
          "1/25/20",
          "1/26/20",
          "1/27/20",
          "1/28/20",
          "1/29/20",
          "1/30/20",
          "1/31/20",
          "2/1/20",
          "2/2/20",
          "2/3/20",
          "2/4/20",
          "2/5/20",
          "2/6/20",
          "2/7/20",
          "2/8/20",
          "2/9/20",
          "2/10/20",
          "2/11/20",
          "2/12/20",
          "2/13/20",
          "2/14/20",
          "2/15/20",
          "2/16/20",
          "2/17/20",
          "2/18/20",
          "2/19/20",
          "2/20/20",
          "2/21/20",
          "2/22/20",
          "2/23/20",
          "2/24/20",
          "2/25/20",
          "2/26/20",
          "2/27/20",
          "2/28/20",
          "2/29/20",
          "3/1/20",
          "3/2/20",
          "3/3/20",
          "3/4/20",
          "3/5/20",
          "3/6/20",
          "3/7/20",
          "3/8/20",
          "3/9/20",
          "3/10/20",
          "3/11/20",
          "3/12/20",
          "3/13/20",
          "3/14/20",
          "3/15/20",
          "3/16/20",
          "3/17/20",
          "3/18/20",
          "3/19/20",
          "3/20/20",
          "3/21/20",
          "3/22/20",
          "3/23/20",
          "3/24/20",
          "3/25/20",
          "3/26/20",
          "3/27/20",
          "3/28/20",
          "3/29/20",
          "3/30/20",
          "3/31/20",
          "4/1/20",
          "4/2/20",
          "4/3/20",
          "4/4/20",
          "4/5/20",
          "4/6/20",
          "4/7/20",
          "4/8/20",
          "4/9/20",
          "4/10/20",
          "4/11/20",
          "4/12/20",
          "4/13/20",
          "4/14/20",
          "4/15/20",
          "4/16/20",
          "4/17/20",
          "4/18/20",
          "4/19/20",
          "4/20/20",
          "4/21/20",
          "4/22/20",
          "4/23/20",
          "4/24/20",
          "4/25/20",
          "4/26/20",
          "4/27/20",
          "4/28/20",
          "4/29/20",
          "4/30/20",
          "5/1/20",
          "5/2/20",
          "5/3/20",
          "5/4/20",
          "5/5/20",
          "5/6/20",
          "5/7/20",
          "5/8/20",
          "5/9/20",
          "5/10/20",
          "5/11/20",
          "5/12/20",
          "5/13/20",
          "5/14/20",
          "5/15/20",
          "5/16/20",
          "5/17/20",
          "5/18/20",
          "5/19/20",
          "5/20/20",
          "5/21/20",
          "5/22/20",
          "5/23/20",
          "5/24/20",
          "5/25/20",
          "5/26/20",
          "5/27/20",
          "5/28/20",
          "5/29/20",
          "5/30/20",
          "5/31/20",
          "6/1/20",
          "6/2/20",
          "6/3/20",
          "6/4/20",
          "6/5/20",
          "6/6/20",
          "6/7/20",
          "6/8/20",
          "6/9/20",
          "6/10/20",
          "6/11/20",
          "6/12/20",
          "6/13/20",
          "6/14/20",
          "6/15/20",
          "6/16/20",
          "6/17/20",
          "6/18/20",
          "6/19/20",
          "6/20/20",
          "6/21/20",
          "6/22/20",
          "6/23/20",
          "6/24/20",
          "6/25/20",
          "6/26/20",
          "6/27/20",
          "6/28/20",
          "6/29/20",
          "6/30/20",
          "7/1/20",
          "7/2/20",
          "7/3/20",
          "7/4/20",
          "7/5/20",
          "7/6/20",
          "7/7/20",
          "7/8/20",
          "7/9/20",
          "7/10/20",
          "7/11/20",
          "7/12/20",
          "7/13/20",
          "7/14/20",
          "7/15/20",
          "7/16/20",
          "7/17/20",
          "7/18/20",
          "7/19/20",
          "7/20/20",
          "7/21/20",
          "7/22/20",
          "7/23/20",
          "7/24/20",
          "7/25/20",
          "7/26/20",
          "7/27/20",
          "7/28/20",
          "7/29/20",
          "7/30/20",
          "7/31/20",
          "8/1/20",
          "8/2/20",
          "8/3/20",
          "8/4/20",
          "8/5/20",
          "8/6/20",
          "8/7/20",
          "8/8/20",
          "8/9/20",
          "8/10/20",
          "8/11/20",
          "8/12/20",
          "8/13/20",
          "8/14/20",
          "8/15/20",
          "8/16/20",
          "8/17/20",
          "8/18/20",
          "8/19/20",
          "8/20/20",
          "8/21/20",
          "8/22/20",
          "8/23/20",
          "8/24/20",
          "8/25/20",
          "8/26/20",
          "8/27/20",
          "8/28/20",
          "8/29/20",
          "8/30/20",
          "8/31/20",
          "9/1/20",
          "9/2/20",
          "9/3/20",
          "9/4/20",
          "9/5/20",
          "9/6/20",
          "9/7/20",
          "9/8/20",
          "9/9/20",
          "9/10/20",
          "9/11/20",
          "9/12/20",
          "9/13/20",
          "9/14/20",
          "9/15/20",
          "9/16/20",
          "9/17/20",
          "9/18/20",
          "9/19/20",
          "9/20/20",
          "9/21/20",
          "9/22/20",
          "9/23/20",
          "9/24/20",
          "9/25/20",
          "9/26/20",
          "9/27/20",
          "9/28/20",
          "9/29/20",
          "9/30/20",
          "10/1/20",
          "10/2/20",
          "10/3/20",
          "10/4/20",
          "10/5/20",
          "10/6/20",
          "10/7/20",
          "10/8/20",
          "10/9/20",
          "10/10/20",
          "10/11/20",
          "10/12/20",
          "10/13/20",
          "10/14/20",
          "10/15/20",
          "10/16/20",
          "10/17/20",
          "10/18/20",
          "10/19/20",
          "10/20/20",
          "10/21/20",
          "10/22/20",
          "10/23/20",
          "10/24/20",
          "10/25/20",
          "10/26/20",
          "10/27/20",
          "10/28/20",
          "10/29/20",
          "10/30/20",
          "10/31/20",
          "11/1/20",
          "11/2/20",
          "11/3/20",
          "11/4/20",
          "11/5/20",
          "11/6/20",
          "11/7/20",
          "11/8/20",
          "11/9/20",
          "11/10/20",
          "11/11/20",
          "11/12/20",
          "11/13/20",
          "11/14/20",
          "11/15/20",
          "11/16/20",
          "11/17/20",
          "11/18/20",
          "11/19/20",
          "11/20/20",
          "11/21/20",
          "11/22/20",
          "11/23/20",
          "11/24/20",
          "11/25/20",
          "11/26/20",
          "11/27/20",
          "11/28/20",
          "11/29/20",
          "11/30/20",
          "12/1/20",
          "12/2/20",
          "12/3/20",
          "12/4/20",
          "12/5/20",
          "12/6/20",
          "12/7/20",
          "12/8/20",
          "12/9/20",
          "12/10/20",
          "12/11/20",
          "12/12/20",
          "12/13/20",
          "12/14/20",
          "12/15/20",
          "12/16/20",
          "12/17/20",
          "12/18/20",
          "12/19/20",
          "12/20/20",
          "12/21/20",
          "12/22/20",
          "12/23/20",
          "12/24/20",
          "12/25/20",
          "12/26/20",
          "12/27/20",
          "12/28/20",
          "12/29/20",
          "12/30/20",
          "12/31/20",
          "1/1/21",
          "1/2/21",
          "1/3/21",
          "1/4/21",
          "1/5/21",
          "1/6/21",
          "1/7/21",
          "1/8/21",
          "1/9/21",
          "1/10/21",
          "1/11/21",
          "1/12/21",
          "1/13/21",
          "1/14/21",
          "1/15/21",
          "1/16/21",
          "1/17/21",
          "1/18/21",
          "1/19/21",
          "1/20/21",
          "1/21/21",
          "1/22/21",
          "1/23/21",
          "1/24/21",
          "1/25/21",
          "1/26/21",
          "1/27/21",
          "1/28/21",
          "1/29/21",
          "1/30/21",
          "1/31/21",
          "2/1/21",
          "2/2/21",
          "2/3/21",
          "2/4/21",
          "2/5/21",
          "2/6/21",
          "2/7/21",
          "2/8/21",
          "2/9/21",
          "2/10/21",
          "2/11/21",
          "2/12/21",
          "2/13/21",
          "2/14/21",
          "2/15/21",
          "2/16/21",
          "2/17/21",
          "2/18/21",
          "2/19/21",
          "2/20/21",
          "2/21/21",
          "2/22/21",
          "2/23/21"
         ],
         "xaxis": "x",
         "y": [
          0,
          0,
          0,
          0,
          0,
          0,
          0,
          0,
          0,
          0,
          0,
          0,
          0,
          0,
          0,
          0,
          0,
          0,
          0,
          0,
          0,
          0,
          0,
          0,
          0,
          0,
          0,
          0,
          0,
          0,
          0,
          0,
          0,
          0,
          0,
          0,
          0,
          0,
          0,
          0,
          0,
          0,
          0,
          0,
          0,
          0,
          0,
          0,
          0,
          0,
          0,
          0,
          0,
          0,
          0,
          1,
          3,
          6,
          11,
          15,
          25,
          34,
          46,
          59,
          77,
          92,
          111,
          136,
          159,
          201,
          240,
          324,
          359,
          445,
          486,
          564,
          686,
          819,
          950,
          1057,
          1124,
          1223,
          1328,
          1532,
          1736,
          1924,
          2141,
          2354,
          2462,
          2587,
          2741,
          2906,
          3331,
          3704,
          4057,
          4286,
          4603,
          5083,
          5513,
          6006,
          6412,
          6761,
          7051,
          7367,
          7938,
          8588,
          9190,
          10017,
          10656,
          11123,
          11653,
          12461,
          13240,
          13999,
          14962,
          15662,
          16118,
          16853,
          17983,
          18859,
          20047,
          21048,
          22013,
          22666,
          23473,
          24512,
          25598,
          26754,
          27878,
          28834,
          29314,
          29937,
          31199,
          32548,
          34021,
          35026,
          35930,
          36455,
          37134,
          38406,
          39680,
          40919,
          41828,
          42720,
          43332,
          43959,
          45241,
          46510,
          47748,
          48954,
          49976,
          50591,
          51271,
          52645,
          53830,
          54971,
          55961,
          57070,
          57622,
          58314,
          59594,
          60632,
          61884,
          63174,
          64265,
          64867,
          65487,
          66741,
          67964,
          69184,
          70398,
          71469,
          72100,
          72833,
          74133,
          75366,
          76688,
          77851,
          78772,
          79488,
          80120,
          81487,
          82771,
          84082,
          85238,
          86449,
          87004,
          87618,
          88539,
          90134,
          91263,
          92475,
          93563,
          94104,
          94665,
          95819,
          97256,
          98493,
          99572,
          100477,
          101049,
          101752,
          103026,
          104201,
          105463,
          106523,
          107232,
          107852,
          108536,
          109888,
          111100,
          112304,
          113358,
          114250,
          114744,
          115309,
          116580,
          117665,
          118649,
          119504,
          120262,
          120828,
          121381,
          122596,
          123780,
          124614,
          125502,
          126203,
          126650,
          126960,
          127464,
          128539,
          129522,
          130396,
          131210,
          131625,
          132006,
          133119,
          134106,
          134935,
          135793,
          136532,
          136895,
          137272,
          138105,
          138105,
          139808,
          140537,
          141406,
          141741,
          142058,
          142921,
          143952,
          144680,
          144680,
          145987,
          146352,
          146675,
          147494,
          148228,
          148957,
          149639,
          150198,
          150488,
          150689,
          150998,
          151747,
          152460,
          153214,
          153675,
          153675,
          154176,
          154837,
          155403,
          155900,
          156471,
          156903,
          157134,
          157397,
          157946,
          158456,
          158969,
          159477,
          159884,
          160074,
          160253,
          160496,
          161106,
          161106,
          162015,
          162269,
          162397,
          162628,
          162802,
          163368,
          164281,
          164737,
          165658,
          165798,
          166014,
          166699,
          167455,
          168061,
          168613,
          168989,
          169183,
          169485,
          170115,
          170769,
          171460,
          171974,
          172561,
          172833,
          173120,
          173817,
          174515,
          175270,
          175964,
          176628,
          176941,
          177317,
          178159,
          178995,
          179765,
          180437,
          181123,
          181402,
          181835,
          182799,
          183735,
          184827,
          185650,
          186356,
          186764,
          187291,
          188259,
          189220,
          189982,
          190488,
          190795,
          191139,
          191570,
          192681,
          193875,
          194949,
          195411,
          195725,
          196018,
          196561,
          197732,
          198974,
          200498,
          201460,
          202631,
          203100,
          203580,
          204690,
          205964,
          207095,
          208246,
          209296,
          209847,
          210299,
          211491,
          212831,
          214147,
          215243,
          216445,
          217037,
          217664,
          218878,
          220161,
          221547,
          222666,
          223945,
          224504,
          225099,
          226309,
          227563,
          228795,
          230034,
          230034,
          231534,
          231534,
          233520,
          234850,
          236201,
          237489,
          238532,
          239245,
          239773,
          240940,
          242090,
          243457,
          244737,
          245977,
          246504,
          247143,
          248529
         ],
         "yaxis": "y"
        },
        {
         "hovertemplate": "variable=Casos<br>Dias=%{x}<br>Casos/Mortes=%{y}<extra></extra>",
         "legendgroup": "Casos",
         "line": {
          "color": "#EF553B",
          "dash": "solid"
         },
         "mode": "lines",
         "name": "Casos",
         "orientation": "v",
         "showlegend": true,
         "type": "scatter",
         "x": [
          "1/22/20",
          "1/23/20",
          "1/24/20",
          "1/25/20",
          "1/26/20",
          "1/27/20",
          "1/28/20",
          "1/29/20",
          "1/30/20",
          "1/31/20",
          "2/1/20",
          "2/2/20",
          "2/3/20",
          "2/4/20",
          "2/5/20",
          "2/6/20",
          "2/7/20",
          "2/8/20",
          "2/9/20",
          "2/10/20",
          "2/11/20",
          "2/12/20",
          "2/13/20",
          "2/14/20",
          "2/15/20",
          "2/16/20",
          "2/17/20",
          "2/18/20",
          "2/19/20",
          "2/20/20",
          "2/21/20",
          "2/22/20",
          "2/23/20",
          "2/24/20",
          "2/25/20",
          "2/26/20",
          "2/27/20",
          "2/28/20",
          "2/29/20",
          "3/1/20",
          "3/2/20",
          "3/3/20",
          "3/4/20",
          "3/5/20",
          "3/6/20",
          "3/7/20",
          "3/8/20",
          "3/9/20",
          "3/10/20",
          "3/11/20",
          "3/12/20",
          "3/13/20",
          "3/14/20",
          "3/15/20",
          "3/16/20",
          "3/17/20",
          "3/18/20",
          "3/19/20",
          "3/20/20",
          "3/21/20",
          "3/22/20",
          "3/23/20",
          "3/24/20",
          "3/25/20",
          "3/26/20",
          "3/27/20",
          "3/28/20",
          "3/29/20",
          "3/30/20",
          "3/31/20",
          "4/1/20",
          "4/2/20",
          "4/3/20",
          "4/4/20",
          "4/5/20",
          "4/6/20",
          "4/7/20",
          "4/8/20",
          "4/9/20",
          "4/10/20",
          "4/11/20",
          "4/12/20",
          "4/13/20",
          "4/14/20",
          "4/15/20",
          "4/16/20",
          "4/17/20",
          "4/18/20",
          "4/19/20",
          "4/20/20",
          "4/21/20",
          "4/22/20",
          "4/23/20",
          "4/24/20",
          "4/25/20",
          "4/26/20",
          "4/27/20",
          "4/28/20",
          "4/29/20",
          "4/30/20",
          "5/1/20",
          "5/2/20",
          "5/3/20",
          "5/4/20",
          "5/5/20",
          "5/6/20",
          "5/7/20",
          "5/8/20",
          "5/9/20",
          "5/10/20",
          "5/11/20",
          "5/12/20",
          "5/13/20",
          "5/14/20",
          "5/15/20",
          "5/16/20",
          "5/17/20",
          "5/18/20",
          "5/19/20",
          "5/20/20",
          "5/21/20",
          "5/22/20",
          "5/23/20",
          "5/24/20",
          "5/25/20",
          "5/26/20",
          "5/27/20",
          "5/28/20",
          "5/29/20",
          "5/30/20",
          "5/31/20",
          "6/1/20",
          "6/2/20",
          "6/3/20",
          "6/4/20",
          "6/5/20",
          "6/6/20",
          "6/7/20",
          "6/8/20",
          "6/9/20",
          "6/10/20",
          "6/11/20",
          "6/12/20",
          "6/13/20",
          "6/14/20",
          "6/15/20",
          "6/16/20",
          "6/17/20",
          "6/18/20",
          "6/19/20",
          "6/20/20",
          "6/21/20",
          "6/22/20",
          "6/23/20",
          "6/24/20",
          "6/25/20",
          "6/26/20",
          "6/27/20",
          "6/28/20",
          "6/29/20",
          "6/30/20",
          "7/1/20",
          "7/2/20",
          "7/3/20",
          "7/4/20",
          "7/5/20",
          "7/6/20",
          "7/7/20",
          "7/8/20",
          "7/9/20",
          "7/10/20",
          "7/11/20",
          "7/12/20",
          "7/13/20",
          "7/14/20",
          "7/15/20",
          "7/16/20",
          "7/17/20",
          "7/18/20",
          "7/19/20",
          "7/20/20",
          "7/21/20",
          "7/22/20",
          "7/23/20",
          "7/24/20",
          "7/25/20",
          "7/26/20",
          "7/27/20",
          "7/28/20",
          "7/29/20",
          "7/30/20",
          "7/31/20",
          "8/1/20",
          "8/2/20",
          "8/3/20",
          "8/4/20",
          "8/5/20",
          "8/6/20",
          "8/7/20",
          "8/8/20",
          "8/9/20",
          "8/10/20",
          "8/11/20",
          "8/12/20",
          "8/13/20",
          "8/14/20",
          "8/15/20",
          "8/16/20",
          "8/17/20",
          "8/18/20",
          "8/19/20",
          "8/20/20",
          "8/21/20",
          "8/22/20",
          "8/23/20",
          "8/24/20",
          "8/25/20",
          "8/26/20",
          "8/27/20",
          "8/28/20",
          "8/29/20",
          "8/30/20",
          "8/31/20",
          "9/1/20",
          "9/2/20",
          "9/3/20",
          "9/4/20",
          "9/5/20",
          "9/6/20",
          "9/7/20",
          "9/8/20",
          "9/9/20",
          "9/10/20",
          "9/11/20",
          "9/12/20",
          "9/13/20",
          "9/14/20",
          "9/15/20",
          "9/16/20",
          "9/17/20",
          "9/18/20",
          "9/19/20",
          "9/20/20",
          "9/21/20",
          "9/22/20",
          "9/23/20",
          "9/24/20",
          "9/25/20",
          "9/26/20",
          "9/27/20",
          "9/28/20",
          "9/29/20",
          "9/30/20",
          "10/1/20",
          "10/2/20",
          "10/3/20",
          "10/4/20",
          "10/5/20",
          "10/6/20",
          "10/7/20",
          "10/8/20",
          "10/9/20",
          "10/10/20",
          "10/11/20",
          "10/12/20",
          "10/13/20",
          "10/14/20",
          "10/15/20",
          "10/16/20",
          "10/17/20",
          "10/18/20",
          "10/19/20",
          "10/20/20",
          "10/21/20",
          "10/22/20",
          "10/23/20",
          "10/24/20",
          "10/25/20",
          "10/26/20",
          "10/27/20",
          "10/28/20",
          "10/29/20",
          "10/30/20",
          "10/31/20",
          "11/1/20",
          "11/2/20",
          "11/3/20",
          "11/4/20",
          "11/5/20",
          "11/6/20",
          "11/7/20",
          "11/8/20",
          "11/9/20",
          "11/10/20",
          "11/11/20",
          "11/12/20",
          "11/13/20",
          "11/14/20",
          "11/15/20",
          "11/16/20",
          "11/17/20",
          "11/18/20",
          "11/19/20",
          "11/20/20",
          "11/21/20",
          "11/22/20",
          "11/23/20",
          "11/24/20",
          "11/25/20",
          "11/26/20",
          "11/27/20",
          "11/28/20",
          "11/29/20",
          "11/30/20",
          "12/1/20",
          "12/2/20",
          "12/3/20",
          "12/4/20",
          "12/5/20",
          "12/6/20",
          "12/7/20",
          "12/8/20",
          "12/9/20",
          "12/10/20",
          "12/11/20",
          "12/12/20",
          "12/13/20",
          "12/14/20",
          "12/15/20",
          "12/16/20",
          "12/17/20",
          "12/18/20",
          "12/19/20",
          "12/20/20",
          "12/21/20",
          "12/22/20",
          "12/23/20",
          "12/24/20",
          "12/25/20",
          "12/26/20",
          "12/27/20",
          "12/28/20",
          "12/29/20",
          "12/30/20",
          "12/31/20",
          "1/1/21",
          "1/2/21",
          "1/3/21",
          "1/4/21",
          "1/5/21",
          "1/6/21",
          "1/7/21",
          "1/8/21",
          "1/9/21",
          "1/10/21",
          "1/11/21",
          "1/12/21",
          "1/13/21",
          "1/14/21",
          "1/15/21",
          "1/16/21",
          "1/17/21",
          "1/18/21",
          "1/19/21",
          "1/20/21",
          "1/21/21",
          "1/22/21",
          "1/23/21",
          "1/24/21",
          "1/25/21",
          "1/26/21",
          "1/27/21",
          "1/28/21",
          "1/29/21",
          "1/30/21",
          "1/31/21",
          "2/1/21",
          "2/2/21",
          "2/3/21",
          "2/4/21",
          "2/5/21",
          "2/6/21",
          "2/7/21",
          "2/8/21",
          "2/9/21",
          "2/10/21",
          "2/11/21",
          "2/12/21",
          "2/13/21",
          "2/14/21",
          "2/15/21",
          "2/16/21",
          "2/17/21",
          "2/18/21",
          "2/19/21",
          "2/20/21",
          "2/21/21",
          "2/22/21",
          "2/23/21"
         ],
         "xaxis": "x",
         "y": [
          0,
          0,
          0,
          0,
          0,
          0,
          0,
          0,
          0,
          0,
          0,
          0,
          0,
          0,
          0,
          0,
          0,
          0,
          0,
          0,
          0,
          0,
          0,
          0,
          0,
          0,
          0,
          0,
          0,
          0,
          0,
          0,
          0,
          0,
          0,
          1,
          1,
          1,
          2,
          2,
          2,
          2,
          4,
          4,
          13,
          13,
          20,
          25,
          31,
          38,
          52,
          151,
          151,
          162,
          200,
          321,
          372,
          621,
          793,
          1021,
          1546,
          1924,
          2247,
          2554,
          2985,
          3417,
          3904,
          4256,
          4579,
          5717,
          6836,
          8044,
          9056,
          10360,
          11130,
          12161,
          14034,
          16170,
          18092,
          19638,
          20727,
          22192,
          23430,
          25262,
          28320,
          30425,
          33682,
          36658,
          38654,
          40743,
          43079,
          45757,
          50036,
          54043,
          59324,
          63100,
          67446,
          73235,
          79685,
          87187,
          92202,
          97100,
          101826,
          108620,
          115455,
          126611,
          135773,
          146894,
          156061,
          162699,
          169594,
          178214,
          190137,
          203165,
          220291,
          233511,
          241080,
          255368,
          271885,
          291579,
          310087,
          330890,
          347398,
          363211,
          374898,
          391222,
          411821,
          438238,
          465166,
          498440,
          514849,
          526447,
          555383,
          584016,
          614941,
          645771,
          672846,
          691758,
          707412,
          739503,
          772416,
          802828,
          828810,
          850514,
          867624,
          888271,
          923189,
          955377,
          978142,
          1032913,
          1067579,
          1083341,
          1106470,
          1145906,
          1188631,
          1228114,
          1274974,
          1313667,
          1344143,
          1368195,
          1402041,
          1448753,
          1496858,
          1539081,
          1577004,
          1603055,
          1623284,
          1668589,
          1713160,
          1755779,
          1800827,
          1839850,
          1864681,
          1884967,
          1926824,
          1966748,
          2012151,
          2046328,
          2074860,
          2098389,
          2118646,
          2159654,
          2227514,
          2287475,
          2343366,
          2394513,
          2419091,
          2442375,
          2483191,
          2552265,
          2610102,
          2662485,
          2707877,
          2733677,
          2750318,
          2801921,
          2859073,
          2912212,
          2962442,
          3012412,
          3035422,
          3057470,
          3109630,
          3164785,
          3224876,
          3275520,
          3317096,
          3340197,
          3359570,
          3407354,
          3456652,
          3501975,
          3532330,
          3582362,
          3605783,
          3622861,
          3669995,
          3717156,
          3761391,
          3804803,
          3846153,
          3862311,
          3908272,
          3950931,
          3997865,
          4041638,
          4091801,
          4123000,
          4137521,
          4147794,
          4162073,
          4197889,
          4238446,
          4282164,
          4315687,
          4330455,
          4345610,
          4382263,
          4419083,
          4455386,
          4495183,
          4528240,
          4544629,
          4558040,
          4591364,
          4591364,
          4657702,
          4689613,
          4717991,
          4732309,
          4745464,
          4777522,
          4810935,
          4847092,
          4847092,
          4906833,
          4915289,
          4927235,
          4969141,
          5000694,
          5028444,
          5055888,
          5082637,
          5094979,
          5103408,
          5113628,
          5140863,
          5169386,
          5200300,
          5224362,
          5224362,
          5250727,
          5273954,
          5298772,
          5323630,
          5353656,
          5380635,
          5394128,
          5409854,
          5439641,
          5468270,
          5494376,
          5516658,
          5535605,
          5545705,
          5554206,
          5566049,
          5590025,
          5590025,
          5631181,
          5653561,
          5664115,
          5675032,
          5699005,
          5747660,
          5781582,
          5810652,
          5848959,
          5863093,
          5876464,
          5911758,
          5945849,
          5981767,
          6020164,
          6052786,
          6071401,
          6087608,
          6118708,
          6166606,
          6204220,
          6238350,
          6290272,
          6314740,
          6335878,
          6386787,
          6436650,
          6487084,
          6533968,
          6577177,
          6603540,
          6623911,
          6674999,
          6728452,
          6781799,
          6836227,
          6880127,
          6901952,
          6927145,
          6970034,
          7040608,
          7110434,
          7162978,
          7213155,
          7238600,
          7263619,
          7318821,
          7365517,
          7423945,
          7448560,
          7465806,
          7484285,
          7504833,
          7563551,
          7619200,
          7675973,
          7700578,
          7716405,
          7733746,
          7753752,
          7810400,
          7873830,
          7961673,
          8013708,
          8075998,
          8105790,
          8131612,
          8195637,
          8256536,
          8324294,
          8393492,
          8455059,
          8488099,
          8511770,
          8573864,
          8638249,
          8697368,
          8753920,
          8816254,
          8844577,
          8871393,
          8933356,
          8996876,
          9058687,
          9118513,
          9176975,
          9204731,
          9229322,
          9283418,
          9339420,
          9396293,
          9447165,
          9447165,
          9524640,
          9524640,
          9599565,
          9659167,
          9713909,
          9765455,
          9809754,
          9834513,
          9866710,
          9921981,
          9978747,
          10030626,
          10084208,
          10139148,
          10168174,
          10195160,
          10257875
         ],
         "yaxis": "y"
        }
       ],
       "layout": {
        "autosize": true,
        "legend": {
         "title": {
          "text": "variable"
         },
         "tracegroupgap": 0
        },
        "template": {
         "data": {
          "bar": [
           {
            "error_x": {
             "color": "#2a3f5f"
            },
            "error_y": {
             "color": "#2a3f5f"
            },
            "marker": {
             "line": {
              "color": "#E5ECF6",
              "width": 0.5
             }
            },
            "type": "bar"
           }
          ],
          "barpolar": [
           {
            "marker": {
             "line": {
              "color": "#E5ECF6",
              "width": 0.5
             }
            },
            "type": "barpolar"
           }
          ],
          "carpet": [
           {
            "aaxis": {
             "endlinecolor": "#2a3f5f",
             "gridcolor": "white",
             "linecolor": "white",
             "minorgridcolor": "white",
             "startlinecolor": "#2a3f5f"
            },
            "baxis": {
             "endlinecolor": "#2a3f5f",
             "gridcolor": "white",
             "linecolor": "white",
             "minorgridcolor": "white",
             "startlinecolor": "#2a3f5f"
            },
            "type": "carpet"
           }
          ],
          "choropleth": [
           {
            "colorbar": {
             "outlinewidth": 0,
             "ticks": ""
            },
            "type": "choropleth"
           }
          ],
          "contour": [
           {
            "colorbar": {
             "outlinewidth": 0,
             "ticks": ""
            },
            "colorscale": [
             [
              0,
              "#0d0887"
             ],
             [
              0.1111111111111111,
              "#46039f"
             ],
             [
              0.2222222222222222,
              "#7201a8"
             ],
             [
              0.3333333333333333,
              "#9c179e"
             ],
             [
              0.4444444444444444,
              "#bd3786"
             ],
             [
              0.5555555555555556,
              "#d8576b"
             ],
             [
              0.6666666666666666,
              "#ed7953"
             ],
             [
              0.7777777777777778,
              "#fb9f3a"
             ],
             [
              0.8888888888888888,
              "#fdca26"
             ],
             [
              1,
              "#f0f921"
             ]
            ],
            "type": "contour"
           }
          ],
          "contourcarpet": [
           {
            "colorbar": {
             "outlinewidth": 0,
             "ticks": ""
            },
            "type": "contourcarpet"
           }
          ],
          "heatmap": [
           {
            "colorbar": {
             "outlinewidth": 0,
             "ticks": ""
            },
            "colorscale": [
             [
              0,
              "#0d0887"
             ],
             [
              0.1111111111111111,
              "#46039f"
             ],
             [
              0.2222222222222222,
              "#7201a8"
             ],
             [
              0.3333333333333333,
              "#9c179e"
             ],
             [
              0.4444444444444444,
              "#bd3786"
             ],
             [
              0.5555555555555556,
              "#d8576b"
             ],
             [
              0.6666666666666666,
              "#ed7953"
             ],
             [
              0.7777777777777778,
              "#fb9f3a"
             ],
             [
              0.8888888888888888,
              "#fdca26"
             ],
             [
              1,
              "#f0f921"
             ]
            ],
            "type": "heatmap"
           }
          ],
          "heatmapgl": [
           {
            "colorbar": {
             "outlinewidth": 0,
             "ticks": ""
            },
            "colorscale": [
             [
              0,
              "#0d0887"
             ],
             [
              0.1111111111111111,
              "#46039f"
             ],
             [
              0.2222222222222222,
              "#7201a8"
             ],
             [
              0.3333333333333333,
              "#9c179e"
             ],
             [
              0.4444444444444444,
              "#bd3786"
             ],
             [
              0.5555555555555556,
              "#d8576b"
             ],
             [
              0.6666666666666666,
              "#ed7953"
             ],
             [
              0.7777777777777778,
              "#fb9f3a"
             ],
             [
              0.8888888888888888,
              "#fdca26"
             ],
             [
              1,
              "#f0f921"
             ]
            ],
            "type": "heatmapgl"
           }
          ],
          "histogram": [
           {
            "marker": {
             "colorbar": {
              "outlinewidth": 0,
              "ticks": ""
             }
            },
            "type": "histogram"
           }
          ],
          "histogram2d": [
           {
            "colorbar": {
             "outlinewidth": 0,
             "ticks": ""
            },
            "colorscale": [
             [
              0,
              "#0d0887"
             ],
             [
              0.1111111111111111,
              "#46039f"
             ],
             [
              0.2222222222222222,
              "#7201a8"
             ],
             [
              0.3333333333333333,
              "#9c179e"
             ],
             [
              0.4444444444444444,
              "#bd3786"
             ],
             [
              0.5555555555555556,
              "#d8576b"
             ],
             [
              0.6666666666666666,
              "#ed7953"
             ],
             [
              0.7777777777777778,
              "#fb9f3a"
             ],
             [
              0.8888888888888888,
              "#fdca26"
             ],
             [
              1,
              "#f0f921"
             ]
            ],
            "type": "histogram2d"
           }
          ],
          "histogram2dcontour": [
           {
            "colorbar": {
             "outlinewidth": 0,
             "ticks": ""
            },
            "colorscale": [
             [
              0,
              "#0d0887"
             ],
             [
              0.1111111111111111,
              "#46039f"
             ],
             [
              0.2222222222222222,
              "#7201a8"
             ],
             [
              0.3333333333333333,
              "#9c179e"
             ],
             [
              0.4444444444444444,
              "#bd3786"
             ],
             [
              0.5555555555555556,
              "#d8576b"
             ],
             [
              0.6666666666666666,
              "#ed7953"
             ],
             [
              0.7777777777777778,
              "#fb9f3a"
             ],
             [
              0.8888888888888888,
              "#fdca26"
             ],
             [
              1,
              "#f0f921"
             ]
            ],
            "type": "histogram2dcontour"
           }
          ],
          "mesh3d": [
           {
            "colorbar": {
             "outlinewidth": 0,
             "ticks": ""
            },
            "type": "mesh3d"
           }
          ],
          "parcoords": [
           {
            "line": {
             "colorbar": {
              "outlinewidth": 0,
              "ticks": ""
             }
            },
            "type": "parcoords"
           }
          ],
          "pie": [
           {
            "automargin": true,
            "type": "pie"
           }
          ],
          "scatter": [
           {
            "marker": {
             "colorbar": {
              "outlinewidth": 0,
              "ticks": ""
             }
            },
            "type": "scatter"
           }
          ],
          "scatter3d": [
           {
            "line": {
             "colorbar": {
              "outlinewidth": 0,
              "ticks": ""
             }
            },
            "marker": {
             "colorbar": {
              "outlinewidth": 0,
              "ticks": ""
             }
            },
            "type": "scatter3d"
           }
          ],
          "scattercarpet": [
           {
            "marker": {
             "colorbar": {
              "outlinewidth": 0,
              "ticks": ""
             }
            },
            "type": "scattercarpet"
           }
          ],
          "scattergeo": [
           {
            "marker": {
             "colorbar": {
              "outlinewidth": 0,
              "ticks": ""
             }
            },
            "type": "scattergeo"
           }
          ],
          "scattergl": [
           {
            "marker": {
             "colorbar": {
              "outlinewidth": 0,
              "ticks": ""
             }
            },
            "type": "scattergl"
           }
          ],
          "scattermapbox": [
           {
            "marker": {
             "colorbar": {
              "outlinewidth": 0,
              "ticks": ""
             }
            },
            "type": "scattermapbox"
           }
          ],
          "scatterpolar": [
           {
            "marker": {
             "colorbar": {
              "outlinewidth": 0,
              "ticks": ""
             }
            },
            "type": "scatterpolar"
           }
          ],
          "scatterpolargl": [
           {
            "marker": {
             "colorbar": {
              "outlinewidth": 0,
              "ticks": ""
             }
            },
            "type": "scatterpolargl"
           }
          ],
          "scatterternary": [
           {
            "marker": {
             "colorbar": {
              "outlinewidth": 0,
              "ticks": ""
             }
            },
            "type": "scatterternary"
           }
          ],
          "surface": [
           {
            "colorbar": {
             "outlinewidth": 0,
             "ticks": ""
            },
            "colorscale": [
             [
              0,
              "#0d0887"
             ],
             [
              0.1111111111111111,
              "#46039f"
             ],
             [
              0.2222222222222222,
              "#7201a8"
             ],
             [
              0.3333333333333333,
              "#9c179e"
             ],
             [
              0.4444444444444444,
              "#bd3786"
             ],
             [
              0.5555555555555556,
              "#d8576b"
             ],
             [
              0.6666666666666666,
              "#ed7953"
             ],
             [
              0.7777777777777778,
              "#fb9f3a"
             ],
             [
              0.8888888888888888,
              "#fdca26"
             ],
             [
              1,
              "#f0f921"
             ]
            ],
            "type": "surface"
           }
          ],
          "table": [
           {
            "cells": {
             "fill": {
              "color": "#EBF0F8"
             },
             "line": {
              "color": "white"
             }
            },
            "header": {
             "fill": {
              "color": "#C8D4E3"
             },
             "line": {
              "color": "white"
             }
            },
            "type": "table"
           }
          ]
         },
         "layout": {
          "annotationdefaults": {
           "arrowcolor": "#2a3f5f",
           "arrowhead": 0,
           "arrowwidth": 1
          },
          "coloraxis": {
           "colorbar": {
            "outlinewidth": 0,
            "ticks": ""
           }
          },
          "colorscale": {
           "diverging": [
            [
             0,
             "#8e0152"
            ],
            [
             0.1,
             "#c51b7d"
            ],
            [
             0.2,
             "#de77ae"
            ],
            [
             0.3,
             "#f1b6da"
            ],
            [
             0.4,
             "#fde0ef"
            ],
            [
             0.5,
             "#f7f7f7"
            ],
            [
             0.6,
             "#e6f5d0"
            ],
            [
             0.7,
             "#b8e186"
            ],
            [
             0.8,
             "#7fbc41"
            ],
            [
             0.9,
             "#4d9221"
            ],
            [
             1,
             "#276419"
            ]
           ],
           "sequential": [
            [
             0,
             "#0d0887"
            ],
            [
             0.1111111111111111,
             "#46039f"
            ],
            [
             0.2222222222222222,
             "#7201a8"
            ],
            [
             0.3333333333333333,
             "#9c179e"
            ],
            [
             0.4444444444444444,
             "#bd3786"
            ],
            [
             0.5555555555555556,
             "#d8576b"
            ],
            [
             0.6666666666666666,
             "#ed7953"
            ],
            [
             0.7777777777777778,
             "#fb9f3a"
            ],
            [
             0.8888888888888888,
             "#fdca26"
            ],
            [
             1,
             "#f0f921"
            ]
           ],
           "sequentialminus": [
            [
             0,
             "#0d0887"
            ],
            [
             0.1111111111111111,
             "#46039f"
            ],
            [
             0.2222222222222222,
             "#7201a8"
            ],
            [
             0.3333333333333333,
             "#9c179e"
            ],
            [
             0.4444444444444444,
             "#bd3786"
            ],
            [
             0.5555555555555556,
             "#d8576b"
            ],
            [
             0.6666666666666666,
             "#ed7953"
            ],
            [
             0.7777777777777778,
             "#fb9f3a"
            ],
            [
             0.8888888888888888,
             "#fdca26"
            ],
            [
             1,
             "#f0f921"
            ]
           ]
          },
          "colorway": [
           "#636efa",
           "#EF553B",
           "#00cc96",
           "#ab63fa",
           "#FFA15A",
           "#19d3f3",
           "#FF6692",
           "#B6E880",
           "#FF97FF",
           "#FECB52"
          ],
          "font": {
           "color": "#2a3f5f"
          },
          "geo": {
           "bgcolor": "white",
           "lakecolor": "white",
           "landcolor": "#E5ECF6",
           "showlakes": true,
           "showland": true,
           "subunitcolor": "white"
          },
          "hoverlabel": {
           "align": "left"
          },
          "hovermode": "closest",
          "mapbox": {
           "style": "light"
          },
          "paper_bgcolor": "white",
          "plot_bgcolor": "#E5ECF6",
          "polar": {
           "angularaxis": {
            "gridcolor": "white",
            "linecolor": "white",
            "ticks": ""
           },
           "bgcolor": "#E5ECF6",
           "radialaxis": {
            "gridcolor": "white",
            "linecolor": "white",
            "ticks": ""
           }
          },
          "scene": {
           "xaxis": {
            "backgroundcolor": "#E5ECF6",
            "gridcolor": "white",
            "gridwidth": 2,
            "linecolor": "white",
            "showbackground": true,
            "ticks": "",
            "zerolinecolor": "white"
           },
           "yaxis": {
            "backgroundcolor": "#E5ECF6",
            "gridcolor": "white",
            "gridwidth": 2,
            "linecolor": "white",
            "showbackground": true,
            "ticks": "",
            "zerolinecolor": "white"
           },
           "zaxis": {
            "backgroundcolor": "#E5ECF6",
            "gridcolor": "white",
            "gridwidth": 2,
            "linecolor": "white",
            "showbackground": true,
            "ticks": "",
            "zerolinecolor": "white"
           }
          },
          "shapedefaults": {
           "line": {
            "color": "#2a3f5f"
           }
          },
          "ternary": {
           "aaxis": {
            "gridcolor": "white",
            "linecolor": "white",
            "ticks": ""
           },
           "baxis": {
            "gridcolor": "white",
            "linecolor": "white",
            "ticks": ""
           },
           "bgcolor": "#E5ECF6",
           "caxis": {
            "gridcolor": "white",
            "linecolor": "white",
            "ticks": ""
           }
          },
          "title": {
           "x": 0.05
          },
          "xaxis": {
           "automargin": true,
           "gridcolor": "white",
           "linecolor": "white",
           "ticks": "",
           "title": {
            "standoff": 15
           },
           "zerolinecolor": "white",
           "zerolinewidth": 2
          },
          "yaxis": {
           "automargin": true,
           "gridcolor": "white",
           "linecolor": "white",
           "ticks": "",
           "title": {
            "standoff": 15
           },
           "zerolinecolor": "white",
           "zerolinewidth": 2
          }
         }
        },
        "title": {
         "text": "Casos e Mortes de Covid no Brasil"
        },
        "xaxis": {
         "anchor": "y",
         "autorange": true,
         "domain": [
          0,
          1
         ],
         "range": [
          0,
          398
         ],
         "title": {
          "text": "Dias"
         },
         "type": "category"
        },
        "yaxis": {
         "anchor": "x",
         "autorange": true,
         "domain": [
          0,
          1
         ],
         "range": [
          -569881.9444444444,
          10827756.944444444
         ],
         "title": {
          "text": "Casos/Mortes"
         },
         "type": "linear"
        }
       }
      },
      "image/png": "[encoded data removed]",
      "text/html": [
       "<div>                            <div id=\"c2138f1e-3047-4824-b501-f962ce0a51f8\" class=\"plotly-graph-div\" style=\"height:525px; width:100%;\"></div>            <script type=\"text/javascript\">                require([\"plotly\"], function(Plotly) {                    window.PLOTLYENV=window.PLOTLYENV || {};                                    if (document.getElementById(\"c2138f1e-3047-4824-b501-f962ce0a51f8\")) {                    Plotly.newPlot(                        \"c2138f1e-3047-4824-b501-f962ce0a51f8\",                        [{\"hovertemplate\": \"variable=Mortes<br>Dias=%{x}<br>Casos/Mortes=%{y}<extra></extra>\", \"legendgroup\": \"Mortes\", \"line\": {\"color\": \"#636efa\", \"dash\": \"solid\"}, \"mode\": \"lines\", \"name\": \"Mortes\", \"orientation\": \"v\", \"showlegend\": true, \"type\": \"scatter\", \"x\": [\"1/22/20\", \"1/23/20\", \"1/24/20\", \"1/25/20\", \"1/26/20\", \"1/27/20\", \"1/28/20\", \"1/29/20\", \"1/30/20\", \"1/31/20\", \"2/1/20\", \"2/2/20\", \"2/3/20\", \"2/4/20\", \"2/5/20\", \"2/6/20\", \"2/7/20\", \"2/8/20\", \"2/9/20\", \"2/10/20\", \"2/11/20\", \"2/12/20\", \"2/13/20\", \"2/14/20\", \"2/15/20\", \"2/16/20\", \"2/17/20\", \"2/18/20\", \"2/19/20\", \"2/20/20\", \"2/21/20\", \"2/22/20\", \"2/23/20\", \"2/24/20\", \"2/25/20\", \"2/26/20\", \"2/27/20\", \"2/28/20\", \"2/29/20\", \"3/1/20\", \"3/2/20\", \"3/3/20\", \"3/4/20\", \"3/5/20\", \"3/6/20\", \"3/7/20\", \"3/8/20\", \"3/9/20\", \"3/10/20\", \"3/11/20\", \"3/12/20\", \"3/13/20\", \"3/14/20\", \"3/15/20\", \"3/16/20\", \"3/17/20\", \"3/18/20\", \"3/19/20\", \"3/20/20\", \"3/21/20\", \"3/22/20\", \"3/23/20\", \"3/24/20\", \"3/25/20\", \"3/26/20\", \"3/27/20\", \"3/28/20\", \"3/29/20\", \"3/30/20\", \"3/31/20\", \"4/1/20\", \"4/2/20\", \"4/3/20\", \"4/4/20\", \"4/5/20\", \"4/6/20\", \"4/7/20\", \"4/8/20\", \"4/9/20\", \"4/10/20\", \"4/11/20\", \"4/12/20\", \"4/13/20\", \"4/14/20\", \"4/15/20\", \"4/16/20\", \"4/17/20\", \"4/18/20\", \"4/19/20\", \"4/20/20\", \"4/21/20\", \"4/22/20\", \"4/23/20\", \"4/24/20\", \"4/25/20\", \"4/26/20\", \"4/27/20\", \"4/28/20\", \"4/29/20\", \"4/30/20\", \"5/1/20\", \"5/2/20\", \"5/3/20\", \"5/4/20\", \"5/5/20\", \"5/6/20\", \"5/7/20\", \"5/8/20\", \"5/9/20\", \"5/10/20\", \"5/11/20\", \"5/12/20\", \"5/13/20\", \"5/14/20\", \"5/15/20\", \"5/16/20\", \"5/17/20\", \"5/18/20\", \"5/19/20\", \"5/20/20\", \"5/21/20\", \"5/22/20\", \"5/23/20\", \"5/24/20\", \"5/25/20\", \"5/26/20\", \"5/27/20\", \"5/28/20\", \"5/29/20\", \"5/30/20\", \"5/31/20\", \"6/1/20\", \"6/2/20\", \"6/3/20\", \"6/4/20\", \"6/5/20\", \"6/6/20\", \"6/7/20\", \"6/8/20\", \"6/9/20\", \"6/10/20\", \"6/11/20\", \"6/12/20\", \"6/13/20\", \"6/14/20\", \"6/15/20\", \"6/16/20\", \"6/17/20\", \"6/18/20\", \"6/19/20\", \"6/20/20\", \"6/21/20\", \"6/22/20\", \"6/23/20\", \"6/24/20\", \"6/25/20\", \"6/26/20\", \"6/27/20\", \"6/28/20\", \"6/29/20\", \"6/30/20\", \"7/1/20\", \"7/2/20\", \"7/3/20\", \"7/4/20\", \"7/5/20\", \"7/6/20\", \"7/7/20\", \"7/8/20\", \"7/9/20\", \"7/10/20\", \"7/11/20\", \"7/12/20\", \"7/13/20\", \"7/14/20\", \"7/15/20\", \"7/16/20\", \"7/17/20\", \"7/18/20\", \"7/19/20\", \"7/20/20\", \"7/21/20\", \"7/22/20\", \"7/23/20\", \"7/24/20\", \"7/25/20\", \"7/26/20\", \"7/27/20\", \"7/28/20\", \"7/29/20\", \"7/30/20\", \"7/31/20\", \"8/1/20\", \"8/2/20\", \"8/3/20\", \"8/4/20\", \"8/5/20\", \"8/6/20\", \"8/7/20\", \"8/8/20\", \"8/9/20\", \"8/10/20\", \"8/11/20\", \"8/12/20\", \"8/13/20\", \"8/14/20\", \"8/15/20\", \"8/16/20\", \"8/17/20\", \"8/18/20\", \"8/19/20\", \"8/20/20\", \"8/21/20\", \"8/22/20\", \"8/23/20\", \"8/24/20\", \"8/25/20\", \"8/26/20\", \"8/27/20\", \"8/28/20\", \"8/29/20\", \"8/30/20\", \"8/31/20\", \"9/1/20\", \"9/2/20\", \"9/3/20\", \"9/4/20\", \"9/5/20\", \"9/6/20\", \"9/7/20\", \"9/8/20\", \"9/9/20\", \"9/10/20\", \"9/11/20\", \"9/12/20\", \"9/13/20\", \"9/14/20\", \"9/15/20\", \"9/16/20\", \"9/17/20\", \"9/18/20\", \"9/19/20\", \"9/20/20\", \"9/21/20\", \"9/22/20\", \"9/23/20\", \"9/24/20\", \"9/25/20\", \"9/26/20\", \"9/27/20\", \"9/28/20\", \"9/29/20\", \"9/30/20\", \"10/1/20\", \"10/2/20\", \"10/3/20\", \"10/4/20\", \"10/5/20\", \"10/6/20\", \"10/7/20\", \"10/8/20\", \"10/9/20\", \"10/10/20\", \"10/11/20\", \"10/12/20\", \"10/13/20\", \"10/14/20\", \"10/15/20\", \"10/16/20\", \"10/17/20\", \"10/18/20\", \"10/19/20\", \"10/20/20\", \"10/21/20\", \"10/22/20\", \"10/23/20\", \"10/24/20\", \"10/25/20\", \"10/26/20\", \"10/27/20\", \"10/28/20\", \"10/29/20\", \"10/30/20\", \"10/31/20\", \"11/1/20\", \"11/2/20\", \"11/3/20\", \"11/4/20\", \"11/5/20\", \"11/6/20\", \"11/7/20\", \"11/8/20\", \"11/9/20\", \"11/10/20\", \"11/11/20\", \"11/12/20\", \"11/13/20\", \"11/14/20\", \"11/15/20\", \"11/16/20\", \"11/17/20\", \"11/18/20\", \"11/19/20\", \"11/20/20\", \"11/21/20\", \"11/22/20\", \"11/23/20\", \"11/24/20\", \"11/25/20\", \"11/26/20\", \"11/27/20\", \"11/28/20\", \"11/29/20\", \"11/30/20\", \"12/1/20\", \"12/2/20\", \"12/3/20\", \"12/4/20\", \"12/5/20\", \"12/6/20\", \"12/7/20\", \"12/8/20\", \"12/9/20\", \"12/10/20\", \"12/11/20\", \"12/12/20\", \"12/13/20\", \"12/14/20\", \"12/15/20\", \"12/16/20\", \"12/17/20\", \"12/18/20\", \"12/19/20\", \"12/20/20\", \"12/21/20\", \"12/22/20\", \"12/23/20\", \"12/24/20\", \"12/25/20\", \"12/26/20\", \"12/27/20\", \"12/28/20\", \"12/29/20\", \"12/30/20\", \"12/31/20\", \"1/1/21\", \"1/2/21\", \"1/3/21\", \"1/4/21\", \"1/5/21\", \"1/6/21\", \"1/7/21\", \"1/8/21\", \"1/9/21\", \"1/10/21\", \"1/11/21\", \"1/12/21\", \"1/13/21\", \"1/14/21\", \"1/15/21\", \"1/16/21\", \"1/17/21\", \"1/18/21\", \"1/19/21\", \"1/20/21\", \"1/21/21\", \"1/22/21\", \"1/23/21\", \"1/24/21\", \"1/25/21\", \"1/26/21\", \"1/27/21\", \"1/28/21\", \"1/29/21\", \"1/30/21\", \"1/31/21\", \"2/1/21\", \"2/2/21\", \"2/3/21\", \"2/4/21\", \"2/5/21\", \"2/6/21\", \"2/7/21\", \"2/8/21\", \"2/9/21\", \"2/10/21\", \"2/11/21\", \"2/12/21\", \"2/13/21\", \"2/14/21\", \"2/15/21\", \"2/16/21\", \"2/17/21\", \"2/18/21\", \"2/19/21\", \"2/20/21\", \"2/21/21\", \"2/22/21\", \"2/23/21\"], \"xaxis\": \"x\", \"y\": [0, 0, 0, 0, 0, 0, 0, 0, 0, 0, 0, 0, 0, 0, 0, 0, 0, 0, 0, 0, 0, 0, 0, 0, 0, 0, 0, 0, 0, 0, 0, 0, 0, 0, 0, 0, 0, 0, 0, 0, 0, 0, 0, 0, 0, 0, 0, 0, 0, 0, 0, 0, 0, 0, 0, 1, 3, 6, 11, 15, 25, 34, 46, 59, 77, 92, 111, 136, 159, 201, 240, 324, 359, 445, 486, 564, 686, 819, 950, 1057, 1124, 1223, 1328, 1532, 1736, 1924, 2141, 2354, 2462, 2587, 2741, 2906, 3331, 3704, 4057, 4286, 4603, 5083, 5513, 6006, 6412, 6761, 7051, 7367, 7938, 8588, 9190, 10017, 10656, 11123, 11653, 12461, 13240, 13999, 14962, 15662, 16118, 16853, 17983, 18859, 20047, 21048, 22013, 22666, 23473, 24512, 25598, 26754, 27878, 28834, 29314, 29937, 31199, 32548, 34021, 35026, 35930, 36455, 37134, 38406, 39680, 40919, 41828, 42720, 43332, 43959, 45241, 46510, 47748, 48954, 49976, 50591, 51271, 52645, 53830, 54971, 55961, 57070, 57622, 58314, 59594, 60632, 61884, 63174, 64265, 64867, 65487, 66741, 67964, 69184, 70398, 71469, 72100, 72833, 74133, 75366, 76688, 77851, 78772, 79488, 80120, 81487, 82771, 84082, 85238, 86449, 87004, 87618, 88539, 90134, 91263, 92475, 93563, 94104, 94665, 95819, 97256, 98493, 99572, 100477, 101049, 101752, 103026, 104201, 105463, 106523, 107232, 107852, 108536, 109888, 111100, 112304, 113358, 114250, 114744, 115309, 116580, 117665, 118649, 119504, 120262, 120828, 121381, 122596, 123780, 124614, 125502, 126203, 126650, 126960, 127464, 128539, 129522, 130396, 131210, 131625, 132006, 133119, 134106, 134935, 135793, 136532, 136895, 137272, 138105, 138105, 139808, 140537, 141406, 141741, 142058, 142921, 143952, 144680, 144680, 145987, 146352, 146675, 147494, 148228, 148957, 149639, 150198, 150488, 150689, 150998, 151747, 152460, 153214, 153675, 153675, 154176, 154837, 155403, 155900, 156471, 156903, 157134, 157397, 157946, 158456, 158969, 159477, 159884, 160074, 160253, 160496, 161106, 161106, 162015, 162269, 162397, 162628, 162802, 163368, 164281, 164737, 165658, 165798, 166014, 166699, 167455, 168061, 168613, 168989, 169183, 169485, 170115, 170769, 171460, 171974, 172561, 172833, 173120, 173817, 174515, 175270, 175964, 176628, 176941, 177317, 178159, 178995, 179765, 180437, 181123, 181402, 181835, 182799, 183735, 184827, 185650, 186356, 186764, 187291, 188259, 189220, 189982, 190488, 190795, 191139, 191570, 192681, 193875, 194949, 195411, 195725, 196018, 196561, 197732, 198974, 200498, 201460, 202631, 203100, 203580, 204690, 205964, 207095, 208246, 209296, 209847, 210299, 211491, 212831, 214147, 215243, 216445, 217037, 217664, 218878, 220161, 221547, 222666, 223945, 224504, 225099, 226309, 227563, 228795, 230034, 230034, 231534, 231534, 233520, 234850, 236201, 237489, 238532, 239245, 239773, 240940, 242090, 243457, 244737, 245977, 246504, 247143, 248529], \"yaxis\": \"y\"}, {\"hovertemplate\": \"variable=Casos<br>Dias=%{x}<br>Casos/Mortes=%{y}<extra></extra>\", \"legendgroup\": \"Casos\", \"line\": {\"color\": \"#EF553B\", \"dash\": \"solid\"}, \"mode\": \"lines\", \"name\": \"Casos\", \"orientation\": \"v\", \"showlegend\": true, \"type\": \"scatter\", \"x\": [\"1/22/20\", \"1/23/20\", \"1/24/20\", \"1/25/20\", \"1/26/20\", \"1/27/20\", \"1/28/20\", \"1/29/20\", \"1/30/20\", \"1/31/20\", \"2/1/20\", \"2/2/20\", \"2/3/20\", \"2/4/20\", \"2/5/20\", \"2/6/20\", \"2/7/20\", \"2/8/20\", \"2/9/20\", \"2/10/20\", \"2/11/20\", \"2/12/20\", \"2/13/20\", \"2/14/20\", \"2/15/20\", \"2/16/20\", \"2/17/20\", \"2/18/20\", \"2/19/20\", \"2/20/20\", \"2/21/20\", \"2/22/20\", \"2/23/20\", \"2/24/20\", \"2/25/20\", \"2/26/20\", \"2/27/20\", \"2/28/20\", \"2/29/20\", \"3/1/20\", \"3/2/20\", \"3/3/20\", \"3/4/20\", \"3/5/20\", \"3/6/20\", \"3/7/20\", \"3/8/20\", \"3/9/20\", \"3/10/20\", \"3/11/20\", \"3/12/20\", \"3/13/20\", \"3/14/20\", \"3/15/20\", \"3/16/20\", \"3/17/20\", \"3/18/20\", \"3/19/20\", \"3/20/20\", \"3/21/20\", \"3/22/20\", \"3/23/20\", \"3/24/20\", \"3/25/20\", \"3/26/20\", \"3/27/20\", \"3/28/20\", \"3/29/20\", \"3/30/20\", \"3/31/20\", \"4/1/20\", \"4/2/20\", \"4/3/20\", \"4/4/20\", \"4/5/20\", \"4/6/20\", \"4/7/20\", \"4/8/20\", \"4/9/20\", \"4/10/20\", \"4/11/20\", \"4/12/20\", \"4/13/20\", \"4/14/20\", \"4/15/20\", \"4/16/20\", \"4/17/20\", \"4/18/20\", \"4/19/20\", \"4/20/20\", \"4/21/20\", \"4/22/20\", \"4/23/20\", \"4/24/20\", \"4/25/20\", \"4/26/20\", \"4/27/20\", \"4/28/20\", \"4/29/20\", \"4/30/20\", \"5/1/20\", \"5/2/20\", \"5/3/20\", \"5/4/20\", \"5/5/20\", \"5/6/20\", \"5/7/20\", \"5/8/20\", \"5/9/20\", \"5/10/20\", \"5/11/20\", \"5/12/20\", \"5/13/20\", \"5/14/20\", \"5/15/20\", \"5/16/20\", \"5/17/20\", \"5/18/20\", \"5/19/20\", \"5/20/20\", \"5/21/20\", \"5/22/20\", \"5/23/20\", \"5/24/20\", \"5/25/20\", \"5/26/20\", \"5/27/20\", \"5/28/20\", \"5/29/20\", \"5/30/20\", \"5/31/20\", \"6/1/20\", \"6/2/20\", \"6/3/20\", \"6/4/20\", \"6/5/20\", \"6/6/20\", \"6/7/20\", \"6/8/20\", \"6/9/20\", \"6/10/20\", \"6/11/20\", \"6/12/20\", \"6/13/20\", \"6/14/20\", \"6/15/20\", \"6/16/20\", \"6/17/20\", \"6/18/20\", \"6/19/20\", \"6/20/20\", \"6/21/20\", \"6/22/20\", \"6/23/20\", \"6/24/20\", \"6/25/20\", \"6/26/20\", \"6/27/20\", \"6/28/20\", \"6/29/20\", \"6/30/20\", \"7/1/20\", \"7/2/20\", \"7/3/20\", \"7/4/20\", \"7/5/20\", \"7/6/20\", \"7/7/20\", \"7/8/20\", \"7/9/20\", \"7/10/20\", \"7/11/20\", \"7/12/20\", \"7/13/20\", \"7/14/20\", \"7/15/20\", \"7/16/20\", \"7/17/20\", \"7/18/20\", \"7/19/20\", \"7/20/20\", \"7/21/20\", \"7/22/20\", \"7/23/20\", \"7/24/20\", \"7/25/20\", \"7/26/20\", \"7/27/20\", \"7/28/20\", \"7/29/20\", \"7/30/20\", \"7/31/20\", \"8/1/20\", \"8/2/20\", \"8/3/20\", \"8/4/20\", \"8/5/20\", \"8/6/20\", \"8/7/20\", \"8/8/20\", \"8/9/20\", \"8/10/20\", \"8/11/20\", \"8/12/20\", \"8/13/20\", \"8/14/20\", \"8/15/20\", \"8/16/20\", \"8/17/20\", \"8/18/20\", \"8/19/20\", \"8/20/20\", \"8/21/20\", \"8/22/20\", \"8/23/20\", \"8/24/20\", \"8/25/20\", \"8/26/20\", \"8/27/20\", \"8/28/20\", \"8/29/20\", \"8/30/20\", \"8/31/20\", \"9/1/20\", \"9/2/20\", \"9/3/20\", \"9/4/20\", \"9/5/20\", \"9/6/20\", \"9/7/20\", \"9/8/20\", \"9/9/20\", \"9/10/20\", \"9/11/20\", \"9/12/20\", \"9/13/20\", \"9/14/20\", \"9/15/20\", \"9/16/20\", \"9/17/20\", \"9/18/20\", \"9/19/20\", \"9/20/20\", \"9/21/20\", \"9/22/20\", \"9/23/20\", \"9/24/20\", \"9/25/20\", \"9/26/20\", \"9/27/20\", \"9/28/20\", \"9/29/20\", \"9/30/20\", \"10/1/20\", \"10/2/20\", \"10/3/20\", \"10/4/20\", \"10/5/20\", \"10/6/20\", \"10/7/20\", \"10/8/20\", \"10/9/20\", \"10/10/20\", \"10/11/20\", \"10/12/20\", \"10/13/20\", \"10/14/20\", \"10/15/20\", \"10/16/20\", \"10/17/20\", \"10/18/20\", \"10/19/20\", \"10/20/20\", \"10/21/20\", \"10/22/20\", \"10/23/20\", \"10/24/20\", \"10/25/20\", \"10/26/20\", \"10/27/20\", \"10/28/20\", \"10/29/20\", \"10/30/20\", \"10/31/20\", \"11/1/20\", \"11/2/20\", \"11/3/20\", \"11/4/20\", \"11/5/20\", \"11/6/20\", \"11/7/20\", \"11/8/20\", \"11/9/20\", \"11/10/20\", \"11/11/20\", \"11/12/20\", \"11/13/20\", \"11/14/20\", \"11/15/20\", \"11/16/20\", \"11/17/20\", \"11/18/20\", \"11/19/20\", \"11/20/20\", \"11/21/20\", \"11/22/20\", \"11/23/20\", \"11/24/20\", \"11/25/20\", \"11/26/20\", \"11/27/20\", \"11/28/20\", \"11/29/20\", \"11/30/20\", \"12/1/20\", \"12/2/20\", \"12/3/20\", \"12/4/20\", \"12/5/20\", \"12/6/20\", \"12/7/20\", \"12/8/20\", \"12/9/20\", \"12/10/20\", \"12/11/20\", \"12/12/20\", \"12/13/20\", \"12/14/20\", \"12/15/20\", \"12/16/20\", \"12/17/20\", \"12/18/20\", \"12/19/20\", \"12/20/20\", \"12/21/20\", \"12/22/20\", \"12/23/20\", \"12/24/20\", \"12/25/20\", \"12/26/20\", \"12/27/20\", \"12/28/20\", \"12/29/20\", \"12/30/20\", \"12/31/20\", \"1/1/21\", \"1/2/21\", \"1/3/21\", \"1/4/21\", \"1/5/21\", \"1/6/21\", \"1/7/21\", \"1/8/21\", \"1/9/21\", \"1/10/21\", \"1/11/21\", \"1/12/21\", \"1/13/21\", \"1/14/21\", \"1/15/21\", \"1/16/21\", \"1/17/21\", \"1/18/21\", \"1/19/21\", \"1/20/21\", \"1/21/21\", \"1/22/21\", \"1/23/21\", \"1/24/21\", \"1/25/21\", \"1/26/21\", \"1/27/21\", \"1/28/21\", \"1/29/21\", \"1/30/21\", \"1/31/21\", \"2/1/21\", \"2/2/21\", \"2/3/21\", \"2/4/21\", \"2/5/21\", \"2/6/21\", \"2/7/21\", \"2/8/21\", \"2/9/21\", \"2/10/21\", \"2/11/21\", \"2/12/21\", \"2/13/21\", \"2/14/21\", \"2/15/21\", \"2/16/21\", \"2/17/21\", \"2/18/21\", \"2/19/21\", \"2/20/21\", \"2/21/21\", \"2/22/21\", \"2/23/21\"], \"xaxis\": \"x\", \"y\": [0, 0, 0, 0, 0, 0, 0, 0, 0, 0, 0, 0, 0, 0, 0, 0, 0, 0, 0, 0, 0, 0, 0, 0, 0, 0, 0, 0, 0, 0, 0, 0, 0, 0, 0, 1, 1, 1, 2, 2, 2, 2, 4, 4, 13, 13, 20, 25, 31, 38, 52, 151, 151, 162, 200, 321, 372, 621, 793, 1021, 1546, 1924, 2247, 2554, 2985, 3417, 3904, 4256, 4579, 5717, 6836, 8044, 9056, 10360, 11130, 12161, 14034, 16170, 18092, 19638, 20727, 22192, 23430, 25262, 28320, 30425, 33682, 36658, 38654, 40743, 43079, 45757, 50036, 54043, 59324, 63100, 67446, 73235, 79685, 87187, 92202, 97100, 101826, 108620, 115455, 126611, 135773, 146894, 156061, 162699, 169594, 178214, 190137, 203165, 220291, 233511, 241080, 255368, 271885, 291579, 310087, 330890, 347398, 363211, 374898, 391222, 411821, 438238, 465166, 498440, 514849, 526447, 555383, 584016, 614941, 645771, 672846, 691758, 707412, 739503, 772416, 802828, 828810, 850514, 867624, 888271, 923189, 955377, 978142, 1032913, 1067579, 1083341, 1106470, 1145906, 1188631, 1228114, 1274974, 1313667, 1344143, 1368195, 1402041, 1448753, 1496858, 1539081, 1577004, 1603055, 1623284, 1668589, 1713160, 1755779, 1800827, 1839850, 1864681, 1884967, 1926824, 1966748, 2012151, 2046328, 2074860, 2098389, 2118646, 2159654, 2227514, 2287475, 2343366, 2394513, 2419091, 2442375, 2483191, 2552265, 2610102, 2662485, 2707877, 2733677, 2750318, 2801921, 2859073, 2912212, 2962442, 3012412, 3035422, 3057470, 3109630, 3164785, 3224876, 3275520, 3317096, 3340197, 3359570, 3407354, 3456652, 3501975, 3532330, 3582362, 3605783, 3622861, 3669995, 3717156, 3761391, 3804803, 3846153, 3862311, 3908272, 3950931, 3997865, 4041638, 4091801, 4123000, 4137521, 4147794, 4162073, 4197889, 4238446, 4282164, 4315687, 4330455, 4345610, 4382263, 4419083, 4455386, 4495183, 4528240, 4544629, 4558040, 4591364, 4591364, 4657702, 4689613, 4717991, 4732309, 4745464, 4777522, 4810935, 4847092, 4847092, 4906833, 4915289, 4927235, 4969141, 5000694, 5028444, 5055888, 5082637, 5094979, 5103408, 5113628, 5140863, 5169386, 5200300, 5224362, 5224362, 5250727, 5273954, 5298772, 5323630, 5353656, 5380635, 5394128, 5409854, 5439641, 5468270, 5494376, 5516658, 5535605, 5545705, 5554206, 5566049, 5590025, 5590025, 5631181, 5653561, 5664115, 5675032, 5699005, 5747660, 5781582, 5810652, 5848959, 5863093, 5876464, 5911758, 5945849, 5981767, 6020164, 6052786, 6071401, 6087608, 6118708, 6166606, 6204220, 6238350, 6290272, 6314740, 6335878, 6386787, 6436650, 6487084, 6533968, 6577177, 6603540, 6623911, 6674999, 6728452, 6781799, 6836227, 6880127, 6901952, 6927145, 6970034, 7040608, 7110434, 7162978, 7213155, 7238600, 7263619, 7318821, 7365517, 7423945, 7448560, 7465806, 7484285, 7504833, 7563551, 7619200, 7675973, 7700578, 7716405, 7733746, 7753752, 7810400, 7873830, 7961673, 8013708, 8075998, 8105790, 8131612, 8195637, 8256536, 8324294, 8393492, 8455059, 8488099, 8511770, 8573864, 8638249, 8697368, 8753920, 8816254, 8844577, 8871393, 8933356, 8996876, 9058687, 9118513, 9176975, 9204731, 9229322, 9283418, 9339420, 9396293, 9447165, 9447165, 9524640, 9524640, 9599565, 9659167, 9713909, 9765455, 9809754, 9834513, 9866710, 9921981, 9978747, 10030626, 10084208, 10139148, 10168174, 10195160, 10257875], \"yaxis\": \"y\"}],                        {\"legend\": {\"title\": {\"text\": \"variable\"}, \"tracegroupgap\": 0}, \"template\": {\"data\": {\"bar\": [{\"error_x\": {\"color\": \"#2a3f5f\"}, \"error_y\": {\"color\": \"#2a3f5f\"}, \"marker\": {\"line\": {\"color\": \"#E5ECF6\", \"width\": 0.5}}, \"type\": \"bar\"}], \"barpolar\": [{\"marker\": {\"line\": {\"color\": \"#E5ECF6\", \"width\": 0.5}}, \"type\": \"barpolar\"}], \"carpet\": [{\"aaxis\": {\"endlinecolor\": \"#2a3f5f\", \"gridcolor\": \"white\", \"linecolor\": \"white\", \"minorgridcolor\": \"white\", \"startlinecolor\": \"#2a3f5f\"}, \"baxis\": {\"endlinecolor\": \"#2a3f5f\", \"gridcolor\": \"white\", \"linecolor\": \"white\", \"minorgridcolor\": \"white\", \"startlinecolor\": \"#2a3f5f\"}, \"type\": \"carpet\"}], \"choropleth\": [{\"colorbar\": {\"outlinewidth\": 0, \"ticks\": \"\"}, \"type\": \"choropleth\"}], \"contour\": [{\"colorbar\": {\"outlinewidth\": 0, \"ticks\": \"\"}, \"colorscale\": [[0.0, \"#0d0887\"], [0.1111111111111111, \"#46039f\"], [0.2222222222222222, \"#7201a8\"], [0.3333333333333333, \"#9c179e\"], [0.4444444444444444, \"#bd3786\"], [0.5555555555555556, \"#d8576b\"], [0.6666666666666666, \"#ed7953\"], [0.7777777777777778, \"#fb9f3a\"], [0.8888888888888888, \"#fdca26\"], [1.0, \"#f0f921\"]], \"type\": \"contour\"}], \"contourcarpet\": [{\"colorbar\": {\"outlinewidth\": 0, \"ticks\": \"\"}, \"type\": \"contourcarpet\"}], \"heatmap\": [{\"colorbar\": {\"outlinewidth\": 0, \"ticks\": \"\"}, \"colorscale\": [[0.0, \"#0d0887\"], [0.1111111111111111, \"#46039f\"], [0.2222222222222222, \"#7201a8\"], [0.3333333333333333, \"#9c179e\"], [0.4444444444444444, \"#bd3786\"], [0.5555555555555556, \"#d8576b\"], [0.6666666666666666, \"#ed7953\"], [0.7777777777777778, \"#fb9f3a\"], [0.8888888888888888, \"#fdca26\"], [1.0, \"#f0f921\"]], \"type\": \"heatmap\"}], \"heatmapgl\": [{\"colorbar\": {\"outlinewidth\": 0, \"ticks\": \"\"}, \"colorscale\": [[0.0, \"#0d0887\"], [0.1111111111111111, \"#46039f\"], [0.2222222222222222, \"#7201a8\"], [0.3333333333333333, \"#9c179e\"], [0.4444444444444444, \"#bd3786\"], [0.5555555555555556, \"#d8576b\"], [0.6666666666666666, \"#ed7953\"], [0.7777777777777778, \"#fb9f3a\"], [0.8888888888888888, \"#fdca26\"], [1.0, \"#f0f921\"]], \"type\": \"heatmapgl\"}], \"histogram\": [{\"marker\": {\"colorbar\": {\"outlinewidth\": 0, \"ticks\": \"\"}}, \"type\": \"histogram\"}], \"histogram2d\": [{\"colorbar\": {\"outlinewidth\": 0, \"ticks\": \"\"}, \"colorscale\": [[0.0, \"#0d0887\"], [0.1111111111111111, \"#46039f\"], [0.2222222222222222, \"#7201a8\"], [0.3333333333333333, \"#9c179e\"], [0.4444444444444444, \"#bd3786\"], [0.5555555555555556, \"#d8576b\"], [0.6666666666666666, \"#ed7953\"], [0.7777777777777778, \"#fb9f3a\"], [0.8888888888888888, \"#fdca26\"], [1.0, \"#f0f921\"]], \"type\": \"histogram2d\"}], \"histogram2dcontour\": [{\"colorbar\": {\"outlinewidth\": 0, \"ticks\": \"\"}, \"colorscale\": [[0.0, \"#0d0887\"], [0.1111111111111111, \"#46039f\"], [0.2222222222222222, \"#7201a8\"], [0.3333333333333333, \"#9c179e\"], [0.4444444444444444, \"#bd3786\"], [0.5555555555555556, \"#d8576b\"], [0.6666666666666666, \"#ed7953\"], [0.7777777777777778, \"#fb9f3a\"], [0.8888888888888888, \"#fdca26\"], [1.0, \"#f0f921\"]], \"type\": \"histogram2dcontour\"}], \"mesh3d\": [{\"colorbar\": {\"outlinewidth\": 0, \"ticks\": \"\"}, \"type\": \"mesh3d\"}], \"parcoords\": [{\"line\": {\"colorbar\": {\"outlinewidth\": 0, \"ticks\": \"\"}}, \"type\": \"parcoords\"}], \"pie\": [{\"automargin\": true, \"type\": \"pie\"}], \"scatter\": [{\"marker\": {\"colorbar\": {\"outlinewidth\": 0, \"ticks\": \"\"}}, \"type\": \"scatter\"}], \"scatter3d\": [{\"line\": {\"colorbar\": {\"outlinewidth\": 0, \"ticks\": \"\"}}, \"marker\": {\"colorbar\": {\"outlinewidth\": 0, \"ticks\": \"\"}}, \"type\": \"scatter3d\"}], \"scattercarpet\": [{\"marker\": {\"colorbar\": {\"outlinewidth\": 0, \"ticks\": \"\"}}, \"type\": \"scattercarpet\"}], \"scattergeo\": [{\"marker\": {\"colorbar\": {\"outlinewidth\": 0, \"ticks\": \"\"}}, \"type\": \"scattergeo\"}], \"scattergl\": [{\"marker\": {\"colorbar\": {\"outlinewidth\": 0, \"ticks\": \"\"}}, \"type\": \"scattergl\"}], \"scattermapbox\": [{\"marker\": {\"colorbar\": {\"outlinewidth\": 0, \"ticks\": \"\"}}, \"type\": \"scattermapbox\"}], \"scatterpolar\": [{\"marker\": {\"colorbar\": {\"outlinewidth\": 0, \"ticks\": \"\"}}, \"type\": \"scatterpolar\"}], \"scatterpolargl\": [{\"marker\": {\"colorbar\": {\"outlinewidth\": 0, \"ticks\": \"\"}}, \"type\": \"scatterpolargl\"}], \"scatterternary\": [{\"marker\": {\"colorbar\": {\"outlinewidth\": 0, \"ticks\": \"\"}}, \"type\": \"scatterternary\"}], \"surface\": [{\"colorbar\": {\"outlinewidth\": 0, \"ticks\": \"\"}, \"colorscale\": [[0.0, \"#0d0887\"], [0.1111111111111111, \"#46039f\"], [0.2222222222222222, \"#7201a8\"], [0.3333333333333333, \"#9c179e\"], [0.4444444444444444, \"#bd3786\"], [0.5555555555555556, \"#d8576b\"], [0.6666666666666666, \"#ed7953\"], [0.7777777777777778, \"#fb9f3a\"], [0.8888888888888888, \"#fdca26\"], [1.0, \"#f0f921\"]], \"type\": \"surface\"}], \"table\": [{\"cells\": {\"fill\": {\"color\": \"#EBF0F8\"}, \"line\": {\"color\": \"white\"}}, \"header\": {\"fill\": {\"color\": \"#C8D4E3\"}, \"line\": {\"color\": \"white\"}}, \"type\": \"table\"}]}, \"layout\": {\"annotationdefaults\": {\"arrowcolor\": \"#2a3f5f\", \"arrowhead\": 0, \"arrowwidth\": 1}, \"coloraxis\": {\"colorbar\": {\"outlinewidth\": 0, \"ticks\": \"\"}}, \"colorscale\": {\"diverging\": [[0, \"#8e0152\"], [0.1, \"#c51b7d\"], [0.2, \"#de77ae\"], [0.3, \"#f1b6da\"], [0.4, \"#fde0ef\"], [0.5, \"#f7f7f7\"], [0.6, \"#e6f5d0\"], [0.7, \"#b8e186\"], [0.8, \"#7fbc41\"], [0.9, \"#4d9221\"], [1, \"#276419\"]], \"sequential\": [[0.0, \"#0d0887\"], [0.1111111111111111, \"#46039f\"], [0.2222222222222222, \"#7201a8\"], [0.3333333333333333, \"#9c179e\"], [0.4444444444444444, \"#bd3786\"], [0.5555555555555556, \"#d8576b\"], [0.6666666666666666, \"#ed7953\"], [0.7777777777777778, \"#fb9f3a\"], [0.8888888888888888, \"#fdca26\"], [1.0, \"#f0f921\"]], \"sequentialminus\": [[0.0, \"#0d0887\"], [0.1111111111111111, \"#46039f\"], [0.2222222222222222, \"#7201a8\"], [0.3333333333333333, \"#9c179e\"], [0.4444444444444444, \"#bd3786\"], [0.5555555555555556, \"#d8576b\"], [0.6666666666666666, \"#ed7953\"], [0.7777777777777778, \"#fb9f3a\"], [0.8888888888888888, \"#fdca26\"], [1.0, \"#f0f921\"]]}, \"colorway\": [\"#636efa\", \"#EF553B\", \"#00cc96\", \"#ab63fa\", \"#FFA15A\", \"#19d3f3\", \"#FF6692\", \"#B6E880\", \"#FF97FF\", \"#FECB52\"], \"font\": {\"color\": \"#2a3f5f\"}, \"geo\": {\"bgcolor\": \"white\", \"lakecolor\": \"white\", \"landcolor\": \"#E5ECF6\", \"showlakes\": true, \"showland\": true, \"subunitcolor\": \"white\"}, \"hoverlabel\": {\"align\": \"left\"}, \"hovermode\": \"closest\", \"mapbox\": {\"style\": \"light\"}, \"paper_bgcolor\": \"white\", \"plot_bgcolor\": \"#E5ECF6\", \"polar\": {\"angularaxis\": {\"gridcolor\": \"white\", \"linecolor\": \"white\", \"ticks\": \"\"}, \"bgcolor\": \"#E5ECF6\", \"radialaxis\": {\"gridcolor\": \"white\", \"linecolor\": \"white\", \"ticks\": \"\"}}, \"scene\": {\"xaxis\": {\"backgroundcolor\": \"#E5ECF6\", \"gridcolor\": \"white\", \"gridwidth\": 2, \"linecolor\": \"white\", \"showbackground\": true, \"ticks\": \"\", \"zerolinecolor\": \"white\"}, \"yaxis\": {\"backgroundcolor\": \"#E5ECF6\", \"gridcolor\": \"white\", \"gridwidth\": 2, \"linecolor\": \"white\", \"showbackground\": true, \"ticks\": \"\", \"zerolinecolor\": \"white\"}, \"zaxis\": {\"backgroundcolor\": \"#E5ECF6\", \"gridcolor\": \"white\", \"gridwidth\": 2, \"linecolor\": \"white\", \"showbackground\": true, \"ticks\": \"\", \"zerolinecolor\": \"white\"}}, \"shapedefaults\": {\"line\": {\"color\": \"#2a3f5f\"}}, \"ternary\": {\"aaxis\": {\"gridcolor\": \"white\", \"linecolor\": \"white\", \"ticks\": \"\"}, \"baxis\": {\"gridcolor\": \"white\", \"linecolor\": \"white\", \"ticks\": \"\"}, \"bgcolor\": \"#E5ECF6\", \"caxis\": {\"gridcolor\": \"white\", \"linecolor\": \"white\", \"ticks\": \"\"}}, \"title\": {\"x\": 0.05}, \"xaxis\": {\"automargin\": true, \"gridcolor\": \"white\", \"linecolor\": \"white\", \"ticks\": \"\", \"title\": {\"standoff\": 15}, \"zerolinecolor\": \"white\", \"zerolinewidth\": 2}, \"yaxis\": {\"automargin\": true, \"gridcolor\": \"white\", \"linecolor\": \"white\", \"ticks\": \"\", \"title\": {\"standoff\": 15}, \"zerolinecolor\": \"white\", \"zerolinewidth\": 2}}}, \"title\": {\"text\": \"Casos e Mortes de Covid no Brasil\"}, \"xaxis\": {\"anchor\": \"y\", \"domain\": [0.0, 1.0], \"title\": {\"text\": \"Dias\"}}, \"yaxis\": {\"anchor\": \"x\", \"domain\": [0.0, 1.0], \"title\": {\"text\": \"Casos/Mortes\"}}},                        {\"responsive\": true}                    ).then(function(){\n",
       "                            \n",
       "var gd = document.getElementById('c2138f1e-3047-4824-b501-f962ce0a51f8');\n",
       "var x = new MutationObserver(function (mutations, observer) {{\n",
       "        var display = window.getComputedStyle(gd).display;\n",
       "        if (!display || display === 'none') {{\n",
       "            console.log([gd, 'removed!']);\n",
       "            Plotly.purge(gd);\n",
       "            observer.disconnect();\n",
       "        }}\n",
       "}});\n",
       "\n",
       "// Listen for the removal of the full notebook cells\n",
       "var notebookContainer = gd.closest('#notebook-container');\n",
       "if (notebookContainer) {{\n",
       "    x.observe(notebookContainer, {childList: true});\n",
       "}}\n",
       "\n",
       "// Listen for the clearing of the current output cell\n",
       "var outputEl = gd.closest('.output');\n",
       "if (outputEl) {{\n",
       "    x.observe(outputEl, {childList: true});\n",
       "}}\n",
       "\n",
       "                        })                };                });            </script>        </div>"
      ]
     },
     "metadata": {},
     "output_type": "display_data"
    },
    {
     "data": {
      "application/vnd.plotly.v1+json": {
       "config": {
        "plotlyServerURL": "https://plot.ly"
       },
       "data": [
        {
         "hovertemplate": "variable=Mortes<br>Dias=%{x}<br>Casos/Mortes=%{y}<extra></extra>",
         "legendgroup": "Mortes",
         "line": {
          "color": "#636efa",
          "dash": "solid"
         },
         "mode": "lines",
         "name": "Mortes",
         "orientation": "v",
         "showlegend": true,
         "type": "scatter",
         "x": [
          "1/22/20",
          "1/23/20",
          "1/24/20",
          "1/25/20",
          "1/26/20",
          "1/27/20",
          "1/28/20",
          "1/29/20",
          "1/30/20",
          "1/31/20",
          "2/1/20",
          "2/2/20",
          "2/3/20",
          "2/4/20",
          "2/5/20",
          "2/6/20",
          "2/7/20",
          "2/8/20",
          "2/9/20",
          "2/10/20",
          "2/11/20",
          "2/12/20",
          "2/13/20",
          "2/14/20",
          "2/15/20",
          "2/16/20",
          "2/17/20",
          "2/18/20",
          "2/19/20",
          "2/20/20",
          "2/21/20",
          "2/22/20",
          "2/23/20",
          "2/24/20",
          "2/25/20",
          "2/26/20",
          "2/27/20",
          "2/28/20",
          "2/29/20",
          "3/1/20",
          "3/2/20",
          "3/3/20",
          "3/4/20",
          "3/5/20",
          "3/6/20",
          "3/7/20",
          "3/8/20",
          "3/9/20",
          "3/10/20",
          "3/11/20",
          "3/12/20",
          "3/13/20",
          "3/14/20",
          "3/15/20",
          "3/16/20",
          "3/17/20",
          "3/18/20",
          "3/19/20",
          "3/20/20",
          "3/21/20",
          "3/22/20",
          "3/23/20",
          "3/24/20",
          "3/25/20",
          "3/26/20",
          "3/27/20",
          "3/28/20",
          "3/29/20",
          "3/30/20",
          "3/31/20",
          "4/1/20",
          "4/2/20",
          "4/3/20",
          "4/4/20",
          "4/5/20",
          "4/6/20",
          "4/7/20",
          "4/8/20",
          "4/9/20",
          "4/10/20",
          "4/11/20",
          "4/12/20",
          "4/13/20",
          "4/14/20",
          "4/15/20",
          "4/16/20",
          "4/17/20",
          "4/18/20",
          "4/19/20",
          "4/20/20",
          "4/21/20",
          "4/22/20",
          "4/23/20",
          "4/24/20",
          "4/25/20",
          "4/26/20",
          "4/27/20",
          "4/28/20",
          "4/29/20",
          "4/30/20",
          "5/1/20",
          "5/2/20",
          "5/3/20",
          "5/4/20",
          "5/5/20",
          "5/6/20",
          "5/7/20",
          "5/8/20",
          "5/9/20",
          "5/10/20",
          "5/11/20",
          "5/12/20",
          "5/13/20",
          "5/14/20",
          "5/15/20",
          "5/16/20",
          "5/17/20",
          "5/18/20",
          "5/19/20",
          "5/20/20",
          "5/21/20",
          "5/22/20",
          "5/23/20",
          "5/24/20",
          "5/25/20",
          "5/26/20",
          "5/27/20",
          "5/28/20",
          "5/29/20",
          "5/30/20",
          "5/31/20",
          "6/1/20",
          "6/2/20",
          "6/3/20",
          "6/4/20",
          "6/5/20",
          "6/6/20",
          "6/7/20",
          "6/8/20",
          "6/9/20",
          "6/10/20",
          "6/11/20",
          "6/12/20",
          "6/13/20",
          "6/14/20",
          "6/15/20",
          "6/16/20",
          "6/17/20",
          "6/18/20",
          "6/19/20",
          "6/20/20",
          "6/21/20",
          "6/22/20",
          "6/23/20",
          "6/24/20",
          "6/25/20",
          "6/26/20",
          "6/27/20",
          "6/28/20",
          "6/29/20",
          "6/30/20",
          "7/1/20",
          "7/2/20",
          "7/3/20",
          "7/4/20",
          "7/5/20",
          "7/6/20",
          "7/7/20",
          "7/8/20",
          "7/9/20",
          "7/10/20",
          "7/11/20",
          "7/12/20",
          "7/13/20",
          "7/14/20",
          "7/15/20",
          "7/16/20",
          "7/17/20",
          "7/18/20",
          "7/19/20",
          "7/20/20",
          "7/21/20",
          "7/22/20",
          "7/23/20",
          "7/24/20",
          "7/25/20",
          "7/26/20",
          "7/27/20",
          "7/28/20",
          "7/29/20",
          "7/30/20",
          "7/31/20",
          "8/1/20",
          "8/2/20",
          "8/3/20",
          "8/4/20",
          "8/5/20",
          "8/6/20",
          "8/7/20",
          "8/8/20",
          "8/9/20",
          "8/10/20",
          "8/11/20",
          "8/12/20",
          "8/13/20",
          "8/14/20",
          "8/15/20",
          "8/16/20",
          "8/17/20",
          "8/18/20",
          "8/19/20",
          "8/20/20",
          "8/21/20",
          "8/22/20",
          "8/23/20",
          "8/24/20",
          "8/25/20",
          "8/26/20",
          "8/27/20",
          "8/28/20",
          "8/29/20",
          "8/30/20",
          "8/31/20",
          "9/1/20",
          "9/2/20",
          "9/3/20",
          "9/4/20",
          "9/5/20",
          "9/6/20",
          "9/7/20",
          "9/8/20",
          "9/9/20",
          "9/10/20",
          "9/11/20",
          "9/12/20",
          "9/13/20",
          "9/14/20",
          "9/15/20",
          "9/16/20",
          "9/17/20",
          "9/18/20",
          "9/19/20",
          "9/20/20",
          "9/21/20",
          "9/22/20",
          "9/23/20",
          "9/24/20",
          "9/25/20",
          "9/26/20",
          "9/27/20",
          "9/28/20",
          "9/29/20",
          "9/30/20",
          "10/1/20",
          "10/2/20",
          "10/3/20",
          "10/4/20",
          "10/5/20",
          "10/6/20",
          "10/7/20",
          "10/8/20",
          "10/9/20",
          "10/10/20",
          "10/11/20",
          "10/12/20",
          "10/13/20",
          "10/14/20",
          "10/15/20",
          "10/16/20",
          "10/17/20",
          "10/18/20",
          "10/19/20",
          "10/20/20",
          "10/21/20",
          "10/22/20",
          "10/23/20",
          "10/24/20",
          "10/25/20",
          "10/26/20",
          "10/27/20",
          "10/28/20",
          "10/29/20",
          "10/30/20",
          "10/31/20",
          "11/1/20",
          "11/2/20",
          "11/3/20",
          "11/4/20",
          "11/5/20",
          "11/6/20",
          "11/7/20",
          "11/8/20",
          "11/9/20",
          "11/10/20",
          "11/11/20",
          "11/12/20",
          "11/13/20",
          "11/14/20",
          "11/15/20",
          "11/16/20",
          "11/17/20",
          "11/18/20",
          "11/19/20",
          "11/20/20",
          "11/21/20",
          "11/22/20",
          "11/23/20",
          "11/24/20",
          "11/25/20",
          "11/26/20",
          "11/27/20",
          "11/28/20",
          "11/29/20",
          "11/30/20",
          "12/1/20",
          "12/2/20",
          "12/3/20",
          "12/4/20",
          "12/5/20",
          "12/6/20",
          "12/7/20",
          "12/8/20",
          "12/9/20",
          "12/10/20",
          "12/11/20",
          "12/12/20",
          "12/13/20",
          "12/14/20",
          "12/15/20",
          "12/16/20",
          "12/17/20",
          "12/18/20",
          "12/19/20",
          "12/20/20",
          "12/21/20",
          "12/22/20",
          "12/23/20",
          "12/24/20",
          "12/25/20",
          "12/26/20",
          "12/27/20",
          "12/28/20",
          "12/29/20",
          "12/30/20",
          "12/31/20",
          "1/1/21",
          "1/2/21",
          "1/3/21",
          "1/4/21",
          "1/5/21",
          "1/6/21",
          "1/7/21",
          "1/8/21",
          "1/9/21",
          "1/10/21",
          "1/11/21",
          "1/12/21",
          "1/13/21",
          "1/14/21",
          "1/15/21",
          "1/16/21",
          "1/17/21",
          "1/18/21",
          "1/19/21",
          "1/20/21",
          "1/21/21",
          "1/22/21",
          "1/23/21",
          "1/24/21",
          "1/25/21",
          "1/26/21",
          "1/27/21",
          "1/28/21",
          "1/29/21",
          "1/30/21",
          "1/31/21",
          "2/1/21",
          "2/2/21",
          "2/3/21",
          "2/4/21",
          "2/5/21",
          "2/6/21",
          "2/7/21",
          "2/8/21",
          "2/9/21",
          "2/10/21",
          "2/11/21",
          "2/12/21",
          "2/13/21",
          "2/14/21",
          "2/15/21",
          "2/16/21",
          "2/17/21",
          "2/18/21",
          "2/19/21",
          "2/20/21",
          "2/21/21",
          "2/22/21",
          "2/23/21"
         ],
         "xaxis": "x",
         "y": [
          0,
          0,
          0,
          0,
          0,
          0,
          0,
          0,
          0,
          0,
          0,
          0,
          0,
          0,
          0,
          0,
          0,
          0,
          0,
          0,
          0,
          0,
          0,
          0,
          0,
          0,
          0,
          0,
          0,
          0,
          0,
          0,
          0,
          0,
          0,
          0,
          0,
          0,
          0,
          0,
          0,
          0,
          0,
          0,
          0,
          0,
          0,
          0,
          0,
          0,
          0,
          0,
          0,
          0,
          0,
          1,
          3,
          6,
          11,
          15,
          25,
          34,
          46,
          59,
          77,
          92,
          111,
          136,
          159,
          201,
          240,
          324,
          359,
          445,
          486,
          564,
          686,
          819,
          950,
          1057,
          1124,
          1223,
          1328,
          1532,
          1736,
          1924,
          2141,
          2354,
          2462,
          2587,
          2741,
          2906,
          3331,
          3704,
          4057,
          4286,
          4603,
          5083,
          5513,
          6006,
          6412,
          6761,
          7051,
          7367,
          7938,
          8588,
          9190,
          10017,
          10656,
          11123,
          11653,
          12461,
          13240,
          13999,
          14962,
          15662,
          16118,
          16853,
          17983,
          18859,
          20047,
          21048,
          22013,
          22666,
          23473,
          24512,
          25598,
          26754,
          27878,
          28834,
          29314,
          29937,
          31199,
          32548,
          34021,
          35026,
          35930,
          36455,
          37134,
          38406,
          39680,
          40919,
          41828,
          42720,
          43332,
          43959,
          45241,
          46510,
          47748,
          48954,
          49976,
          50591,
          51271,
          52645,
          53830,
          54971,
          55961,
          57070,
          57622,
          58314,
          59594,
          60632,
          61884,
          63174,
          64265,
          64867,
          65487,
          66741,
          67964,
          69184,
          70398,
          71469,
          72100,
          72833,
          74133,
          75366,
          76688,
          77851,
          78772,
          79488,
          80120,
          81487,
          82771,
          84082,
          85238,
          86449,
          87004,
          87618,
          88539,
          90134,
          91263,
          92475,
          93563,
          94104,
          94665,
          95819,
          97256,
          98493,
          99572,
          100477,
          101049,
          101752,
          103026,
          104201,
          105463,
          106523,
          107232,
          107852,
          108536,
          109888,
          111100,
          112304,
          113358,
          114250,
          114744,
          115309,
          116580,
          117665,
          118649,
          119504,
          120262,
          120828,
          121381,
          122596,
          123780,
          124614,
          125502,
          126203,
          126650,
          126960,
          127464,
          128539,
          129522,
          130396,
          131210,
          131625,
          132006,
          133119,
          134106,
          134935,
          135793,
          136532,
          136895,
          137272,
          138105,
          138105,
          139808,
          140537,
          141406,
          141741,
          142058,
          142921,
          143952,
          144680,
          144680,
          145987,
          146352,
          146675,
          147494,
          148228,
          148957,
          149639,
          150198,
          150488,
          150689,
          150998,
          151747,
          152460,
          153214,
          153675,
          153675,
          154176,
          154837,
          155403,
          155900,
          156471,
          156903,
          157134,
          157397,
          157946,
          158456,
          158969,
          159477,
          159884,
          160074,
          160253,
          160496,
          161106,
          161106,
          162015,
          162269,
          162397,
          162628,
          162802,
          163368,
          164281,
          164737,
          165658,
          165798,
          166014,
          166699,
          167455,
          168061,
          168613,
          168989,
          169183,
          169485,
          170115,
          170769,
          171460,
          171974,
          172561,
          172833,
          173120,
          173817,
          174515,
          175270,
          175964,
          176628,
          176941,
          177317,
          178159,
          178995,
          179765,
          180437,
          181123,
          181402,
          181835,
          182799,
          183735,
          184827,
          185650,
          186356,
          186764,
          187291,
          188259,
          189220,
          189982,
          190488,
          190795,
          191139,
          191570,
          192681,
          193875,
          194949,
          195411,
          195725,
          196018,
          196561,
          197732,
          198974,
          200498,
          201460,
          202631,
          203100,
          203580,
          204690,
          205964,
          207095,
          208246,
          209296,
          209847,
          210299,
          211491,
          212831,
          214147,
          215243,
          216445,
          217037,
          217664,
          218878,
          220161,
          221547,
          222666,
          223945,
          224504,
          225099,
          226309,
          227563,
          228795,
          230034,
          230034,
          231534,
          231534,
          233520,
          234850,
          236201,
          237489,
          238532,
          239245,
          239773,
          240940,
          242090,
          243457,
          244737,
          245977,
          246504,
          247143,
          248529
         ],
         "yaxis": "y"
        },
        {
         "hovertemplate": "variable=Casos<br>Dias=%{x}<br>Casos/Mortes=%{y}<extra></extra>",
         "legendgroup": "Casos",
         "line": {
          "color": "#EF553B",
          "dash": "solid"
         },
         "mode": "lines",
         "name": "Casos",
         "orientation": "v",
         "showlegend": true,
         "type": "scatter",
         "x": [
          "1/22/20",
          "1/23/20",
          "1/24/20",
          "1/25/20",
          "1/26/20",
          "1/27/20",
          "1/28/20",
          "1/29/20",
          "1/30/20",
          "1/31/20",
          "2/1/20",
          "2/2/20",
          "2/3/20",
          "2/4/20",
          "2/5/20",
          "2/6/20",
          "2/7/20",
          "2/8/20",
          "2/9/20",
          "2/10/20",
          "2/11/20",
          "2/12/20",
          "2/13/20",
          "2/14/20",
          "2/15/20",
          "2/16/20",
          "2/17/20",
          "2/18/20",
          "2/19/20",
          "2/20/20",
          "2/21/20",
          "2/22/20",
          "2/23/20",
          "2/24/20",
          "2/25/20",
          "2/26/20",
          "2/27/20",
          "2/28/20",
          "2/29/20",
          "3/1/20",
          "3/2/20",
          "3/3/20",
          "3/4/20",
          "3/5/20",
          "3/6/20",
          "3/7/20",
          "3/8/20",
          "3/9/20",
          "3/10/20",
          "3/11/20",
          "3/12/20",
          "3/13/20",
          "3/14/20",
          "3/15/20",
          "3/16/20",
          "3/17/20",
          "3/18/20",
          "3/19/20",
          "3/20/20",
          "3/21/20",
          "3/22/20",
          "3/23/20",
          "3/24/20",
          "3/25/20",
          "3/26/20",
          "3/27/20",
          "3/28/20",
          "3/29/20",
          "3/30/20",
          "3/31/20",
          "4/1/20",
          "4/2/20",
          "4/3/20",
          "4/4/20",
          "4/5/20",
          "4/6/20",
          "4/7/20",
          "4/8/20",
          "4/9/20",
          "4/10/20",
          "4/11/20",
          "4/12/20",
          "4/13/20",
          "4/14/20",
          "4/15/20",
          "4/16/20",
          "4/17/20",
          "4/18/20",
          "4/19/20",
          "4/20/20",
          "4/21/20",
          "4/22/20",
          "4/23/20",
          "4/24/20",
          "4/25/20",
          "4/26/20",
          "4/27/20",
          "4/28/20",
          "4/29/20",
          "4/30/20",
          "5/1/20",
          "5/2/20",
          "5/3/20",
          "5/4/20",
          "5/5/20",
          "5/6/20",
          "5/7/20",
          "5/8/20",
          "5/9/20",
          "5/10/20",
          "5/11/20",
          "5/12/20",
          "5/13/20",
          "5/14/20",
          "5/15/20",
          "5/16/20",
          "5/17/20",
          "5/18/20",
          "5/19/20",
          "5/20/20",
          "5/21/20",
          "5/22/20",
          "5/23/20",
          "5/24/20",
          "5/25/20",
          "5/26/20",
          "5/27/20",
          "5/28/20",
          "5/29/20",
          "5/30/20",
          "5/31/20",
          "6/1/20",
          "6/2/20",
          "6/3/20",
          "6/4/20",
          "6/5/20",
          "6/6/20",
          "6/7/20",
          "6/8/20",
          "6/9/20",
          "6/10/20",
          "6/11/20",
          "6/12/20",
          "6/13/20",
          "6/14/20",
          "6/15/20",
          "6/16/20",
          "6/17/20",
          "6/18/20",
          "6/19/20",
          "6/20/20",
          "6/21/20",
          "6/22/20",
          "6/23/20",
          "6/24/20",
          "6/25/20",
          "6/26/20",
          "6/27/20",
          "6/28/20",
          "6/29/20",
          "6/30/20",
          "7/1/20",
          "7/2/20",
          "7/3/20",
          "7/4/20",
          "7/5/20",
          "7/6/20",
          "7/7/20",
          "7/8/20",
          "7/9/20",
          "7/10/20",
          "7/11/20",
          "7/12/20",
          "7/13/20",
          "7/14/20",
          "7/15/20",
          "7/16/20",
          "7/17/20",
          "7/18/20",
          "7/19/20",
          "7/20/20",
          "7/21/20",
          "7/22/20",
          "7/23/20",
          "7/24/20",
          "7/25/20",
          "7/26/20",
          "7/27/20",
          "7/28/20",
          "7/29/20",
          "7/30/20",
          "7/31/20",
          "8/1/20",
          "8/2/20",
          "8/3/20",
          "8/4/20",
          "8/5/20",
          "8/6/20",
          "8/7/20",
          "8/8/20",
          "8/9/20",
          "8/10/20",
          "8/11/20",
          "8/12/20",
          "8/13/20",
          "8/14/20",
          "8/15/20",
          "8/16/20",
          "8/17/20",
          "8/18/20",
          "8/19/20",
          "8/20/20",
          "8/21/20",
          "8/22/20",
          "8/23/20",
          "8/24/20",
          "8/25/20",
          "8/26/20",
          "8/27/20",
          "8/28/20",
          "8/29/20",
          "8/30/20",
          "8/31/20",
          "9/1/20",
          "9/2/20",
          "9/3/20",
          "9/4/20",
          "9/5/20",
          "9/6/20",
          "9/7/20",
          "9/8/20",
          "9/9/20",
          "9/10/20",
          "9/11/20",
          "9/12/20",
          "9/13/20",
          "9/14/20",
          "9/15/20",
          "9/16/20",
          "9/17/20",
          "9/18/20",
          "9/19/20",
          "9/20/20",
          "9/21/20",
          "9/22/20",
          "9/23/20",
          "9/24/20",
          "9/25/20",
          "9/26/20",
          "9/27/20",
          "9/28/20",
          "9/29/20",
          "9/30/20",
          "10/1/20",
          "10/2/20",
          "10/3/20",
          "10/4/20",
          "10/5/20",
          "10/6/20",
          "10/7/20",
          "10/8/20",
          "10/9/20",
          "10/10/20",
          "10/11/20",
          "10/12/20",
          "10/13/20",
          "10/14/20",
          "10/15/20",
          "10/16/20",
          "10/17/20",
          "10/18/20",
          "10/19/20",
          "10/20/20",
          "10/21/20",
          "10/22/20",
          "10/23/20",
          "10/24/20",
          "10/25/20",
          "10/26/20",
          "10/27/20",
          "10/28/20",
          "10/29/20",
          "10/30/20",
          "10/31/20",
          "11/1/20",
          "11/2/20",
          "11/3/20",
          "11/4/20",
          "11/5/20",
          "11/6/20",
          "11/7/20",
          "11/8/20",
          "11/9/20",
          "11/10/20",
          "11/11/20",
          "11/12/20",
          "11/13/20",
          "11/14/20",
          "11/15/20",
          "11/16/20",
          "11/17/20",
          "11/18/20",
          "11/19/20",
          "11/20/20",
          "11/21/20",
          "11/22/20",
          "11/23/20",
          "11/24/20",
          "11/25/20",
          "11/26/20",
          "11/27/20",
          "11/28/20",
          "11/29/20",
          "11/30/20",
          "12/1/20",
          "12/2/20",
          "12/3/20",
          "12/4/20",
          "12/5/20",
          "12/6/20",
          "12/7/20",
          "12/8/20",
          "12/9/20",
          "12/10/20",
          "12/11/20",
          "12/12/20",
          "12/13/20",
          "12/14/20",
          "12/15/20",
          "12/16/20",
          "12/17/20",
          "12/18/20",
          "12/19/20",
          "12/20/20",
          "12/21/20",
          "12/22/20",
          "12/23/20",
          "12/24/20",
          "12/25/20",
          "12/26/20",
          "12/27/20",
          "12/28/20",
          "12/29/20",
          "12/30/20",
          "12/31/20",
          "1/1/21",
          "1/2/21",
          "1/3/21",
          "1/4/21",
          "1/5/21",
          "1/6/21",
          "1/7/21",
          "1/8/21",
          "1/9/21",
          "1/10/21",
          "1/11/21",
          "1/12/21",
          "1/13/21",
          "1/14/21",
          "1/15/21",
          "1/16/21",
          "1/17/21",
          "1/18/21",
          "1/19/21",
          "1/20/21",
          "1/21/21",
          "1/22/21",
          "1/23/21",
          "1/24/21",
          "1/25/21",
          "1/26/21",
          "1/27/21",
          "1/28/21",
          "1/29/21",
          "1/30/21",
          "1/31/21",
          "2/1/21",
          "2/2/21",
          "2/3/21",
          "2/4/21",
          "2/5/21",
          "2/6/21",
          "2/7/21",
          "2/8/21",
          "2/9/21",
          "2/10/21",
          "2/11/21",
          "2/12/21",
          "2/13/21",
          "2/14/21",
          "2/15/21",
          "2/16/21",
          "2/17/21",
          "2/18/21",
          "2/19/21",
          "2/20/21",
          "2/21/21",
          "2/22/21",
          "2/23/21"
         ],
         "xaxis": "x",
         "y": [
          0,
          0,
          0,
          0,
          0,
          0,
          0,
          0,
          0,
          0,
          0,
          0,
          0,
          0,
          0,
          0,
          0,
          0,
          0,
          0,
          0,
          0,
          0,
          0,
          0,
          0,
          0,
          0,
          0,
          0,
          0,
          0,
          0,
          0,
          0,
          1,
          1,
          1,
          2,
          2,
          2,
          2,
          4,
          4,
          13,
          13,
          20,
          25,
          31,
          38,
          52,
          151,
          151,
          162,
          200,
          321,
          372,
          621,
          793,
          1021,
          1546,
          1924,
          2247,
          2554,
          2985,
          3417,
          3904,
          4256,
          4579,
          5717,
          6836,
          8044,
          9056,
          10360,
          11130,
          12161,
          14034,
          16170,
          18092,
          19638,
          20727,
          22192,
          23430,
          25262,
          28320,
          30425,
          33682,
          36658,
          38654,
          40743,
          43079,
          45757,
          50036,
          54043,
          59324,
          63100,
          67446,
          73235,
          79685,
          87187,
          92202,
          97100,
          101826,
          108620,
          115455,
          126611,
          135773,
          146894,
          156061,
          162699,
          169594,
          178214,
          190137,
          203165,
          220291,
          233511,
          241080,
          255368,
          271885,
          291579,
          310087,
          330890,
          347398,
          363211,
          374898,
          391222,
          411821,
          438238,
          465166,
          498440,
          514849,
          526447,
          555383,
          584016,
          614941,
          645771,
          672846,
          691758,
          707412,
          739503,
          772416,
          802828,
          828810,
          850514,
          867624,
          888271,
          923189,
          955377,
          978142,
          1032913,
          1067579,
          1083341,
          1106470,
          1145906,
          1188631,
          1228114,
          1274974,
          1313667,
          1344143,
          1368195,
          1402041,
          1448753,
          1496858,
          1539081,
          1577004,
          1603055,
          1623284,
          1668589,
          1713160,
          1755779,
          1800827,
          1839850,
          1864681,
          1884967,
          1926824,
          1966748,
          2012151,
          2046328,
          2074860,
          2098389,
          2118646,
          2159654,
          2227514,
          2287475,
          2343366,
          2394513,
          2419091,
          2442375,
          2483191,
          2552265,
          2610102,
          2662485,
          2707877,
          2733677,
          2750318,
          2801921,
          2859073,
          2912212,
          2962442,
          3012412,
          3035422,
          3057470,
          3109630,
          3164785,
          3224876,
          3275520,
          3317096,
          3340197,
          3359570,
          3407354,
          3456652,
          3501975,
          3532330,
          3582362,
          3605783,
          3622861,
          3669995,
          3717156,
          3761391,
          3804803,
          3846153,
          3862311,
          3908272,
          3950931,
          3997865,
          4041638,
          4091801,
          4123000,
          4137521,
          4147794,
          4162073,
          4197889,
          4238446,
          4282164,
          4315687,
          4330455,
          4345610,
          4382263,
          4419083,
          4455386,
          4495183,
          4528240,
          4544629,
          4558040,
          4591364,
          4591364,
          4657702,
          4689613,
          4717991,
          4732309,
          4745464,
          4777522,
          4810935,
          4847092,
          4847092,
          4906833,
          4915289,
          4927235,
          4969141,
          5000694,
          5028444,
          5055888,
          5082637,
          5094979,
          5103408,
          5113628,
          5140863,
          5169386,
          5200300,
          5224362,
          5224362,
          5250727,
          5273954,
          5298772,
          5323630,
          5353656,
          5380635,
          5394128,
          5409854,
          5439641,
          5468270,
          5494376,
          5516658,
          5535605,
          5545705,
          5554206,
          5566049,
          5590025,
          5590025,
          5631181,
          5653561,
          5664115,
          5675032,
          5699005,
          5747660,
          5781582,
          5810652,
          5848959,
          5863093,
          5876464,
          5911758,
          5945849,
          5981767,
          6020164,
          6052786,
          6071401,
          6087608,
          6118708,
          6166606,
          6204220,
          6238350,
          6290272,
          6314740,
          6335878,
          6386787,
          6436650,
          6487084,
          6533968,
          6577177,
          6603540,
          6623911,
          6674999,
          6728452,
          6781799,
          6836227,
          6880127,
          6901952,
          6927145,
          6970034,
          7040608,
          7110434,
          7162978,
          7213155,
          7238600,
          7263619,
          7318821,
          7365517,
          7423945,
          7448560,
          7465806,
          7484285,
          7504833,
          7563551,
          7619200,
          7675973,
          7700578,
          7716405,
          7733746,
          7753752,
          7810400,
          7873830,
          7961673,
          8013708,
          8075998,
          8105790,
          8131612,
          8195637,
          8256536,
          8324294,
          8393492,
          8455059,
          8488099,
          8511770,
          8573864,
          8638249,
          8697368,
          8753920,
          8816254,
          8844577,
          8871393,
          8933356,
          8996876,
          9058687,
          9118513,
          9176975,
          9204731,
          9229322,
          9283418,
          9339420,
          9396293,
          9447165,
          9447165,
          9524640,
          9524640,
          9599565,
          9659167,
          9713909,
          9765455,
          9809754,
          9834513,
          9866710,
          9921981,
          9978747,
          10030626,
          10084208,
          10139148,
          10168174,
          10195160,
          10257875
         ],
         "yaxis": "y"
        }
       ],
       "layout": {
        "autosize": true,
        "legend": {
         "title": {
          "text": "variable"
         },
         "tracegroupgap": 0
        },
        "template": {
         "data": {
          "bar": [
           {
            "error_x": {
             "color": "#2a3f5f"
            },
            "error_y": {
             "color": "#2a3f5f"
            },
            "marker": {
             "line": {
              "color": "#E5ECF6",
              "width": 0.5
             }
            },
            "type": "bar"
           }
          ],
          "barpolar": [
           {
            "marker": {
             "line": {
              "color": "#E5ECF6",
              "width": 0.5
             }
            },
            "type": "barpolar"
           }
          ],
          "carpet": [
           {
            "aaxis": {
             "endlinecolor": "#2a3f5f",
             "gridcolor": "white",
             "linecolor": "white",
             "minorgridcolor": "white",
             "startlinecolor": "#2a3f5f"
            },
            "baxis": {
             "endlinecolor": "#2a3f5f",
             "gridcolor": "white",
             "linecolor": "white",
             "minorgridcolor": "white",
             "startlinecolor": "#2a3f5f"
            },
            "type": "carpet"
           }
          ],
          "choropleth": [
           {
            "colorbar": {
             "outlinewidth": 0,
             "ticks": ""
            },
            "type": "choropleth"
           }
          ],
          "contour": [
           {
            "colorbar": {
             "outlinewidth": 0,
             "ticks": ""
            },
            "colorscale": [
             [
              0,
              "#0d0887"
             ],
             [
              0.1111111111111111,
              "#46039f"
             ],
             [
              0.2222222222222222,
              "#7201a8"
             ],
             [
              0.3333333333333333,
              "#9c179e"
             ],
             [
              0.4444444444444444,
              "#bd3786"
             ],
             [
              0.5555555555555556,
              "#d8576b"
             ],
             [
              0.6666666666666666,
              "#ed7953"
             ],
             [
              0.7777777777777778,
              "#fb9f3a"
             ],
             [
              0.8888888888888888,
              "#fdca26"
             ],
             [
              1,
              "#f0f921"
             ]
            ],
            "type": "contour"
           }
          ],
          "contourcarpet": [
           {
            "colorbar": {
             "outlinewidth": 0,
             "ticks": ""
            },
            "type": "contourcarpet"
           }
          ],
          "heatmap": [
           {
            "colorbar": {
             "outlinewidth": 0,
             "ticks": ""
            },
            "colorscale": [
             [
              0,
              "#0d0887"
             ],
             [
              0.1111111111111111,
              "#46039f"
             ],
             [
              0.2222222222222222,
              "#7201a8"
             ],
             [
              0.3333333333333333,
              "#9c179e"
             ],
             [
              0.4444444444444444,
              "#bd3786"
             ],
             [
              0.5555555555555556,
              "#d8576b"
             ],
             [
              0.6666666666666666,
              "#ed7953"
             ],
             [
              0.7777777777777778,
              "#fb9f3a"
             ],
             [
              0.8888888888888888,
              "#fdca26"
             ],
             [
              1,
              "#f0f921"
             ]
            ],
            "type": "heatmap"
           }
          ],
          "heatmapgl": [
           {
            "colorbar": {
             "outlinewidth": 0,
             "ticks": ""
            },
            "colorscale": [
             [
              0,
              "#0d0887"
             ],
             [
              0.1111111111111111,
              "#46039f"
             ],
             [
              0.2222222222222222,
              "#7201a8"
             ],
             [
              0.3333333333333333,
              "#9c179e"
             ],
             [
              0.4444444444444444,
              "#bd3786"
             ],
             [
              0.5555555555555556,
              "#d8576b"
             ],
             [
              0.6666666666666666,
              "#ed7953"
             ],
             [
              0.7777777777777778,
              "#fb9f3a"
             ],
             [
              0.8888888888888888,
              "#fdca26"
             ],
             [
              1,
              "#f0f921"
             ]
            ],
            "type": "heatmapgl"
           }
          ],
          "histogram": [
           {
            "marker": {
             "colorbar": {
              "outlinewidth": 0,
              "ticks": ""
             }
            },
            "type": "histogram"
           }
          ],
          "histogram2d": [
           {
            "colorbar": {
             "outlinewidth": 0,
             "ticks": ""
            },
            "colorscale": [
             [
              0,
              "#0d0887"
             ],
             [
              0.1111111111111111,
              "#46039f"
             ],
             [
              0.2222222222222222,
              "#7201a8"
             ],
             [
              0.3333333333333333,
              "#9c179e"
             ],
             [
              0.4444444444444444,
              "#bd3786"
             ],
             [
              0.5555555555555556,
              "#d8576b"
             ],
             [
              0.6666666666666666,
              "#ed7953"
             ],
             [
              0.7777777777777778,
              "#fb9f3a"
             ],
             [
              0.8888888888888888,
              "#fdca26"
             ],
             [
              1,
              "#f0f921"
             ]
            ],
            "type": "histogram2d"
           }
          ],
          "histogram2dcontour": [
           {
            "colorbar": {
             "outlinewidth": 0,
             "ticks": ""
            },
            "colorscale": [
             [
              0,
              "#0d0887"
             ],
             [
              0.1111111111111111,
              "#46039f"
             ],
             [
              0.2222222222222222,
              "#7201a8"
             ],
             [
              0.3333333333333333,
              "#9c179e"
             ],
             [
              0.4444444444444444,
              "#bd3786"
             ],
             [
              0.5555555555555556,
              "#d8576b"
             ],
             [
              0.6666666666666666,
              "#ed7953"
             ],
             [
              0.7777777777777778,
              "#fb9f3a"
             ],
             [
              0.8888888888888888,
              "#fdca26"
             ],
             [
              1,
              "#f0f921"
             ]
            ],
            "type": "histogram2dcontour"
           }
          ],
          "mesh3d": [
           {
            "colorbar": {
             "outlinewidth": 0,
             "ticks": ""
            },
            "type": "mesh3d"
           }
          ],
          "parcoords": [
           {
            "line": {
             "colorbar": {
              "outlinewidth": 0,
              "ticks": ""
             }
            },
            "type": "parcoords"
           }
          ],
          "pie": [
           {
            "automargin": true,
            "type": "pie"
           }
          ],
          "scatter": [
           {
            "marker": {
             "colorbar": {
              "outlinewidth": 0,
              "ticks": ""
             }
            },
            "type": "scatter"
           }
          ],
          "scatter3d": [
           {
            "line": {
             "colorbar": {
              "outlinewidth": 0,
              "ticks": ""
             }
            },
            "marker": {
             "colorbar": {
              "outlinewidth": 0,
              "ticks": ""
             }
            },
            "type": "scatter3d"
           }
          ],
          "scattercarpet": [
           {
            "marker": {
             "colorbar": {
              "outlinewidth": 0,
              "ticks": ""
             }
            },
            "type": "scattercarpet"
           }
          ],
          "scattergeo": [
           {
            "marker": {
             "colorbar": {
              "outlinewidth": 0,
              "ticks": ""
             }
            },
            "type": "scattergeo"
           }
          ],
          "scattergl": [
           {
            "marker": {
             "colorbar": {
              "outlinewidth": 0,
              "ticks": ""
             }
            },
            "type": "scattergl"
           }
          ],
          "scattermapbox": [
           {
            "marker": {
             "colorbar": {
              "outlinewidth": 0,
              "ticks": ""
             }
            },
            "type": "scattermapbox"
           }
          ],
          "scatterpolar": [
           {
            "marker": {
             "colorbar": {
              "outlinewidth": 0,
              "ticks": ""
             }
            },
            "type": "scatterpolar"
           }
          ],
          "scatterpolargl": [
           {
            "marker": {
             "colorbar": {
              "outlinewidth": 0,
              "ticks": ""
             }
            },
            "type": "scatterpolargl"
           }
          ],
          "scatterternary": [
           {
            "marker": {
             "colorbar": {
              "outlinewidth": 0,
              "ticks": ""
             }
            },
            "type": "scatterternary"
           }
          ],
          "surface": [
           {
            "colorbar": {
             "outlinewidth": 0,
             "ticks": ""
            },
            "colorscale": [
             [
              0,
              "#0d0887"
             ],
             [
              0.1111111111111111,
              "#46039f"
             ],
             [
              0.2222222222222222,
              "#7201a8"
             ],
             [
              0.3333333333333333,
              "#9c179e"
             ],
             [
              0.4444444444444444,
              "#bd3786"
             ],
             [
              0.5555555555555556,
              "#d8576b"
             ],
             [
              0.6666666666666666,
              "#ed7953"
             ],
             [
              0.7777777777777778,
              "#fb9f3a"
             ],
             [
              0.8888888888888888,
              "#fdca26"
             ],
             [
              1,
              "#f0f921"
             ]
            ],
            "type": "surface"
           }
          ],
          "table": [
           {
            "cells": {
             "fill": {
              "color": "#EBF0F8"
             },
             "line": {
              "color": "white"
             }
            },
            "header": {
             "fill": {
              "color": "#C8D4E3"
             },
             "line": {
              "color": "white"
             }
            },
            "type": "table"
           }
          ]
         },
         "layout": {
          "annotationdefaults": {
           "arrowcolor": "#2a3f5f",
           "arrowhead": 0,
           "arrowwidth": 1
          },
          "coloraxis": {
           "colorbar": {
            "outlinewidth": 0,
            "ticks": ""
           }
          },
          "colorscale": {
           "diverging": [
            [
             0,
             "#8e0152"
            ],
            [
             0.1,
             "#c51b7d"
            ],
            [
             0.2,
             "#de77ae"
            ],
            [
             0.3,
             "#f1b6da"
            ],
            [
             0.4,
             "#fde0ef"
            ],
            [
             0.5,
             "#f7f7f7"
            ],
            [
             0.6,
             "#e6f5d0"
            ],
            [
             0.7,
             "#b8e186"
            ],
            [
             0.8,
             "#7fbc41"
            ],
            [
             0.9,
             "#4d9221"
            ],
            [
             1,
             "#276419"
            ]
           ],
           "sequential": [
            [
             0,
             "#0d0887"
            ],
            [
             0.1111111111111111,
             "#46039f"
            ],
            [
             0.2222222222222222,
             "#7201a8"
            ],
            [
             0.3333333333333333,
             "#9c179e"
            ],
            [
             0.4444444444444444,
             "#bd3786"
            ],
            [
             0.5555555555555556,
             "#d8576b"
            ],
            [
             0.6666666666666666,
             "#ed7953"
            ],
            [
             0.7777777777777778,
             "#fb9f3a"
            ],
            [
             0.8888888888888888,
             "#fdca26"
            ],
            [
             1,
             "#f0f921"
            ]
           ],
           "sequentialminus": [
            [
             0,
             "#0d0887"
            ],
            [
             0.1111111111111111,
             "#46039f"
            ],
            [
             0.2222222222222222,
             "#7201a8"
            ],
            [
             0.3333333333333333,
             "#9c179e"
            ],
            [
             0.4444444444444444,
             "#bd3786"
            ],
            [
             0.5555555555555556,
             "#d8576b"
            ],
            [
             0.6666666666666666,
             "#ed7953"
            ],
            [
             0.7777777777777778,
             "#fb9f3a"
            ],
            [
             0.8888888888888888,
             "#fdca26"
            ],
            [
             1,
             "#f0f921"
            ]
           ]
          },
          "colorway": [
           "#636efa",
           "#EF553B",
           "#00cc96",
           "#ab63fa",
           "#FFA15A",
           "#19d3f3",
           "#FF6692",
           "#B6E880",
           "#FF97FF",
           "#FECB52"
          ],
          "font": {
           "color": "#2a3f5f"
          },
          "geo": {
           "bgcolor": "white",
           "lakecolor": "white",
           "landcolor": "#E5ECF6",
           "showlakes": true,
           "showland": true,
           "subunitcolor": "white"
          },
          "hoverlabel": {
           "align": "left"
          },
          "hovermode": "closest",
          "mapbox": {
           "style": "light"
          },
          "paper_bgcolor": "white",
          "plot_bgcolor": "#E5ECF6",
          "polar": {
           "angularaxis": {
            "gridcolor": "white",
            "linecolor": "white",
            "ticks": ""
           },
           "bgcolor": "#E5ECF6",
           "radialaxis": {
            "gridcolor": "white",
            "linecolor": "white",
            "ticks": ""
           }
          },
          "scene": {
           "xaxis": {
            "backgroundcolor": "#E5ECF6",
            "gridcolor": "white",
            "gridwidth": 2,
            "linecolor": "white",
            "showbackground": true,
            "ticks": "",
            "zerolinecolor": "white"
           },
           "yaxis": {
            "backgroundcolor": "#E5ECF6",
            "gridcolor": "white",
            "gridwidth": 2,
            "linecolor": "white",
            "showbackground": true,
            "ticks": "",
            "zerolinecolor": "white"
           },
           "zaxis": {
            "backgroundcolor": "#E5ECF6",
            "gridcolor": "white",
            "gridwidth": 2,
            "linecolor": "white",
            "showbackground": true,
            "ticks": "",
            "zerolinecolor": "white"
           }
          },
          "shapedefaults": {
           "line": {
            "color": "#2a3f5f"
           }
          },
          "ternary": {
           "aaxis": {
            "gridcolor": "white",
            "linecolor": "white",
            "ticks": ""
           },
           "baxis": {
            "gridcolor": "white",
            "linecolor": "white",
            "ticks": ""
           },
           "bgcolor": "#E5ECF6",
           "caxis": {
            "gridcolor": "white",
            "linecolor": "white",
            "ticks": ""
           }
          },
          "title": {
           "x": 0.05
          },
          "xaxis": {
           "automargin": true,
           "gridcolor": "white",
           "linecolor": "white",
           "ticks": "",
           "title": {
            "standoff": 15
           },
           "zerolinecolor": "white",
           "zerolinewidth": 2
          },
          "yaxis": {
           "automargin": true,
           "gridcolor": "white",
           "linecolor": "white",
           "ticks": "",
           "title": {
            "standoff": 15
           },
           "zerolinecolor": "white",
           "zerolinewidth": 2
          }
         }
        },
        "title": {
         "text": "Casos e Mortes de Covid no Brasil Log"
        },
        "xaxis": {
         "anchor": "y",
         "autorange": true,
         "domain": [
          0,
          1
         ],
         "range": [
          0,
          398
         ],
         "title": {
          "text": "Dias"
         },
         "type": "category"
        },
        "yaxis": {
         "anchor": "x",
         "autorange": true,
         "domain": [
          0,
          1
         ],
         "range": [
          -0.3895031890307652,
          7.40056059158454
         ],
         "title": {
          "text": "Casos/Mortes"
         },
         "type": "log"
        }
       }
      },
      "image/png": "[encoded data removed]",
      "text/html": [
       "<div>                            <div id=\"83698bb0-6b48-432e-a883-6089c17748dc\" class=\"plotly-graph-div\" style=\"height:525px; width:100%;\"></div>            <script type=\"text/javascript\">                require([\"plotly\"], function(Plotly) {                    window.PLOTLYENV=window.PLOTLYENV || {};                                    if (document.getElementById(\"83698bb0-6b48-432e-a883-6089c17748dc\")) {                    Plotly.newPlot(                        \"83698bb0-6b48-432e-a883-6089c17748dc\",                        [{\"hovertemplate\": \"variable=Mortes<br>Dias=%{x}<br>Casos/Mortes=%{y}<extra></extra>\", \"legendgroup\": \"Mortes\", \"line\": {\"color\": \"#636efa\", \"dash\": \"solid\"}, \"mode\": \"lines\", \"name\": \"Mortes\", \"orientation\": \"v\", \"showlegend\": true, \"type\": \"scatter\", \"x\": [\"1/22/20\", \"1/23/20\", \"1/24/20\", \"1/25/20\", \"1/26/20\", \"1/27/20\", \"1/28/20\", \"1/29/20\", \"1/30/20\", \"1/31/20\", \"2/1/20\", \"2/2/20\", \"2/3/20\", \"2/4/20\", \"2/5/20\", \"2/6/20\", \"2/7/20\", \"2/8/20\", \"2/9/20\", \"2/10/20\", \"2/11/20\", \"2/12/20\", \"2/13/20\", \"2/14/20\", \"2/15/20\", \"2/16/20\", \"2/17/20\", \"2/18/20\", \"2/19/20\", \"2/20/20\", \"2/21/20\", \"2/22/20\", \"2/23/20\", \"2/24/20\", \"2/25/20\", \"2/26/20\", \"2/27/20\", \"2/28/20\", \"2/29/20\", \"3/1/20\", \"3/2/20\", \"3/3/20\", \"3/4/20\", \"3/5/20\", \"3/6/20\", \"3/7/20\", \"3/8/20\", \"3/9/20\", \"3/10/20\", \"3/11/20\", \"3/12/20\", \"3/13/20\", \"3/14/20\", \"3/15/20\", \"3/16/20\", \"3/17/20\", \"3/18/20\", \"3/19/20\", \"3/20/20\", \"3/21/20\", \"3/22/20\", \"3/23/20\", \"3/24/20\", \"3/25/20\", \"3/26/20\", \"3/27/20\", \"3/28/20\", \"3/29/20\", \"3/30/20\", \"3/31/20\", \"4/1/20\", \"4/2/20\", \"4/3/20\", \"4/4/20\", \"4/5/20\", \"4/6/20\", \"4/7/20\", \"4/8/20\", \"4/9/20\", \"4/10/20\", \"4/11/20\", \"4/12/20\", \"4/13/20\", \"4/14/20\", \"4/15/20\", \"4/16/20\", \"4/17/20\", \"4/18/20\", \"4/19/20\", \"4/20/20\", \"4/21/20\", \"4/22/20\", \"4/23/20\", \"4/24/20\", \"4/25/20\", \"4/26/20\", \"4/27/20\", \"4/28/20\", \"4/29/20\", \"4/30/20\", \"5/1/20\", \"5/2/20\", \"5/3/20\", \"5/4/20\", \"5/5/20\", \"5/6/20\", \"5/7/20\", \"5/8/20\", \"5/9/20\", \"5/10/20\", \"5/11/20\", \"5/12/20\", \"5/13/20\", \"5/14/20\", \"5/15/20\", \"5/16/20\", \"5/17/20\", \"5/18/20\", \"5/19/20\", \"5/20/20\", \"5/21/20\", \"5/22/20\", \"5/23/20\", \"5/24/20\", \"5/25/20\", \"5/26/20\", \"5/27/20\", \"5/28/20\", \"5/29/20\", \"5/30/20\", \"5/31/20\", \"6/1/20\", \"6/2/20\", \"6/3/20\", \"6/4/20\", \"6/5/20\", \"6/6/20\", \"6/7/20\", \"6/8/20\", \"6/9/20\", \"6/10/20\", \"6/11/20\", \"6/12/20\", \"6/13/20\", \"6/14/20\", \"6/15/20\", \"6/16/20\", \"6/17/20\", \"6/18/20\", \"6/19/20\", \"6/20/20\", \"6/21/20\", \"6/22/20\", \"6/23/20\", \"6/24/20\", \"6/25/20\", \"6/26/20\", \"6/27/20\", \"6/28/20\", \"6/29/20\", \"6/30/20\", \"7/1/20\", \"7/2/20\", \"7/3/20\", \"7/4/20\", \"7/5/20\", \"7/6/20\", \"7/7/20\", \"7/8/20\", \"7/9/20\", \"7/10/20\", \"7/11/20\", \"7/12/20\", \"7/13/20\", \"7/14/20\", \"7/15/20\", \"7/16/20\", \"7/17/20\", \"7/18/20\", \"7/19/20\", \"7/20/20\", \"7/21/20\", \"7/22/20\", \"7/23/20\", \"7/24/20\", \"7/25/20\", \"7/26/20\", \"7/27/20\", \"7/28/20\", \"7/29/20\", \"7/30/20\", \"7/31/20\", \"8/1/20\", \"8/2/20\", \"8/3/20\", \"8/4/20\", \"8/5/20\", \"8/6/20\", \"8/7/20\", \"8/8/20\", \"8/9/20\", \"8/10/20\", \"8/11/20\", \"8/12/20\", \"8/13/20\", \"8/14/20\", \"8/15/20\", \"8/16/20\", \"8/17/20\", \"8/18/20\", \"8/19/20\", \"8/20/20\", \"8/21/20\", \"8/22/20\", \"8/23/20\", \"8/24/20\", \"8/25/20\", \"8/26/20\", \"8/27/20\", \"8/28/20\", \"8/29/20\", \"8/30/20\", \"8/31/20\", \"9/1/20\", \"9/2/20\", \"9/3/20\", \"9/4/20\", \"9/5/20\", \"9/6/20\", \"9/7/20\", \"9/8/20\", \"9/9/20\", \"9/10/20\", \"9/11/20\", \"9/12/20\", \"9/13/20\", \"9/14/20\", \"9/15/20\", \"9/16/20\", \"9/17/20\", \"9/18/20\", \"9/19/20\", \"9/20/20\", \"9/21/20\", \"9/22/20\", \"9/23/20\", \"9/24/20\", \"9/25/20\", \"9/26/20\", \"9/27/20\", \"9/28/20\", \"9/29/20\", \"9/30/20\", \"10/1/20\", \"10/2/20\", \"10/3/20\", \"10/4/20\", \"10/5/20\", \"10/6/20\", \"10/7/20\", \"10/8/20\", \"10/9/20\", \"10/10/20\", \"10/11/20\", \"10/12/20\", \"10/13/20\", \"10/14/20\", \"10/15/20\", \"10/16/20\", \"10/17/20\", \"10/18/20\", \"10/19/20\", \"10/20/20\", \"10/21/20\", \"10/22/20\", \"10/23/20\", \"10/24/20\", \"10/25/20\", \"10/26/20\", \"10/27/20\", \"10/28/20\", \"10/29/20\", \"10/30/20\", \"10/31/20\", \"11/1/20\", \"11/2/20\", \"11/3/20\", \"11/4/20\", \"11/5/20\", \"11/6/20\", \"11/7/20\", \"11/8/20\", \"11/9/20\", \"11/10/20\", \"11/11/20\", \"11/12/20\", \"11/13/20\", \"11/14/20\", \"11/15/20\", \"11/16/20\", \"11/17/20\", \"11/18/20\", \"11/19/20\", \"11/20/20\", \"11/21/20\", \"11/22/20\", \"11/23/20\", \"11/24/20\", \"11/25/20\", \"11/26/20\", \"11/27/20\", \"11/28/20\", \"11/29/20\", \"11/30/20\", \"12/1/20\", \"12/2/20\", \"12/3/20\", \"12/4/20\", \"12/5/20\", \"12/6/20\", \"12/7/20\", \"12/8/20\", \"12/9/20\", \"12/10/20\", \"12/11/20\", \"12/12/20\", \"12/13/20\", \"12/14/20\", \"12/15/20\", \"12/16/20\", \"12/17/20\", \"12/18/20\", \"12/19/20\", \"12/20/20\", \"12/21/20\", \"12/22/20\", \"12/23/20\", \"12/24/20\", \"12/25/20\", \"12/26/20\", \"12/27/20\", \"12/28/20\", \"12/29/20\", \"12/30/20\", \"12/31/20\", \"1/1/21\", \"1/2/21\", \"1/3/21\", \"1/4/21\", \"1/5/21\", \"1/6/21\", \"1/7/21\", \"1/8/21\", \"1/9/21\", \"1/10/21\", \"1/11/21\", \"1/12/21\", \"1/13/21\", \"1/14/21\", \"1/15/21\", \"1/16/21\", \"1/17/21\", \"1/18/21\", \"1/19/21\", \"1/20/21\", \"1/21/21\", \"1/22/21\", \"1/23/21\", \"1/24/21\", \"1/25/21\", \"1/26/21\", \"1/27/21\", \"1/28/21\", \"1/29/21\", \"1/30/21\", \"1/31/21\", \"2/1/21\", \"2/2/21\", \"2/3/21\", \"2/4/21\", \"2/5/21\", \"2/6/21\", \"2/7/21\", \"2/8/21\", \"2/9/21\", \"2/10/21\", \"2/11/21\", \"2/12/21\", \"2/13/21\", \"2/14/21\", \"2/15/21\", \"2/16/21\", \"2/17/21\", \"2/18/21\", \"2/19/21\", \"2/20/21\", \"2/21/21\", \"2/22/21\", \"2/23/21\"], \"xaxis\": \"x\", \"y\": [0, 0, 0, 0, 0, 0, 0, 0, 0, 0, 0, 0, 0, 0, 0, 0, 0, 0, 0, 0, 0, 0, 0, 0, 0, 0, 0, 0, 0, 0, 0, 0, 0, 0, 0, 0, 0, 0, 0, 0, 0, 0, 0, 0, 0, 0, 0, 0, 0, 0, 0, 0, 0, 0, 0, 1, 3, 6, 11, 15, 25, 34, 46, 59, 77, 92, 111, 136, 159, 201, 240, 324, 359, 445, 486, 564, 686, 819, 950, 1057, 1124, 1223, 1328, 1532, 1736, 1924, 2141, 2354, 2462, 2587, 2741, 2906, 3331, 3704, 4057, 4286, 4603, 5083, 5513, 6006, 6412, 6761, 7051, 7367, 7938, 8588, 9190, 10017, 10656, 11123, 11653, 12461, 13240, 13999, 14962, 15662, 16118, 16853, 17983, 18859, 20047, 21048, 22013, 22666, 23473, 24512, 25598, 26754, 27878, 28834, 29314, 29937, 31199, 32548, 34021, 35026, 35930, 36455, 37134, 38406, 39680, 40919, 41828, 42720, 43332, 43959, 45241, 46510, 47748, 48954, 49976, 50591, 51271, 52645, 53830, 54971, 55961, 57070, 57622, 58314, 59594, 60632, 61884, 63174, 64265, 64867, 65487, 66741, 67964, 69184, 70398, 71469, 72100, 72833, 74133, 75366, 76688, 77851, 78772, 79488, 80120, 81487, 82771, 84082, 85238, 86449, 87004, 87618, 88539, 90134, 91263, 92475, 93563, 94104, 94665, 95819, 97256, 98493, 99572, 100477, 101049, 101752, 103026, 104201, 105463, 106523, 107232, 107852, 108536, 109888, 111100, 112304, 113358, 114250, 114744, 115309, 116580, 117665, 118649, 119504, 120262, 120828, 121381, 122596, 123780, 124614, 125502, 126203, 126650, 126960, 127464, 128539, 129522, 130396, 131210, 131625, 132006, 133119, 134106, 134935, 135793, 136532, 136895, 137272, 138105, 138105, 139808, 140537, 141406, 141741, 142058, 142921, 143952, 144680, 144680, 145987, 146352, 146675, 147494, 148228, 148957, 149639, 150198, 150488, 150689, 150998, 151747, 152460, 153214, 153675, 153675, 154176, 154837, 155403, 155900, 156471, 156903, 157134, 157397, 157946, 158456, 158969, 159477, 159884, 160074, 160253, 160496, 161106, 161106, 162015, 162269, 162397, 162628, 162802, 163368, 164281, 164737, 165658, 165798, 166014, 166699, 167455, 168061, 168613, 168989, 169183, 169485, 170115, 170769, 171460, 171974, 172561, 172833, 173120, 173817, 174515, 175270, 175964, 176628, 176941, 177317, 178159, 178995, 179765, 180437, 181123, 181402, 181835, 182799, 183735, 184827, 185650, 186356, 186764, 187291, 188259, 189220, 189982, 190488, 190795, 191139, 191570, 192681, 193875, 194949, 195411, 195725, 196018, 196561, 197732, 198974, 200498, 201460, 202631, 203100, 203580, 204690, 205964, 207095, 208246, 209296, 209847, 210299, 211491, 212831, 214147, 215243, 216445, 217037, 217664, 218878, 220161, 221547, 222666, 223945, 224504, 225099, 226309, 227563, 228795, 230034, 230034, 231534, 231534, 233520, 234850, 236201, 237489, 238532, 239245, 239773, 240940, 242090, 243457, 244737, 245977, 246504, 247143, 248529], \"yaxis\": \"y\"}, {\"hovertemplate\": \"variable=Casos<br>Dias=%{x}<br>Casos/Mortes=%{y}<extra></extra>\", \"legendgroup\": \"Casos\", \"line\": {\"color\": \"#EF553B\", \"dash\": \"solid\"}, \"mode\": \"lines\", \"name\": \"Casos\", \"orientation\": \"v\", \"showlegend\": true, \"type\": \"scatter\", \"x\": [\"1/22/20\", \"1/23/20\", \"1/24/20\", \"1/25/20\", \"1/26/20\", \"1/27/20\", \"1/28/20\", \"1/29/20\", \"1/30/20\", \"1/31/20\", \"2/1/20\", \"2/2/20\", \"2/3/20\", \"2/4/20\", \"2/5/20\", \"2/6/20\", \"2/7/20\", \"2/8/20\", \"2/9/20\", \"2/10/20\", \"2/11/20\", \"2/12/20\", \"2/13/20\", \"2/14/20\", \"2/15/20\", \"2/16/20\", \"2/17/20\", \"2/18/20\", \"2/19/20\", \"2/20/20\", \"2/21/20\", \"2/22/20\", \"2/23/20\", \"2/24/20\", \"2/25/20\", \"2/26/20\", \"2/27/20\", \"2/28/20\", \"2/29/20\", \"3/1/20\", \"3/2/20\", \"3/3/20\", \"3/4/20\", \"3/5/20\", \"3/6/20\", \"3/7/20\", \"3/8/20\", \"3/9/20\", \"3/10/20\", \"3/11/20\", \"3/12/20\", \"3/13/20\", \"3/14/20\", \"3/15/20\", \"3/16/20\", \"3/17/20\", \"3/18/20\", \"3/19/20\", \"3/20/20\", \"3/21/20\", \"3/22/20\", \"3/23/20\", \"3/24/20\", \"3/25/20\", \"3/26/20\", \"3/27/20\", \"3/28/20\", \"3/29/20\", \"3/30/20\", \"3/31/20\", \"4/1/20\", \"4/2/20\", \"4/3/20\", \"4/4/20\", \"4/5/20\", \"4/6/20\", \"4/7/20\", \"4/8/20\", \"4/9/20\", \"4/10/20\", \"4/11/20\", \"4/12/20\", \"4/13/20\", \"4/14/20\", \"4/15/20\", \"4/16/20\", \"4/17/20\", \"4/18/20\", \"4/19/20\", \"4/20/20\", \"4/21/20\", \"4/22/20\", \"4/23/20\", \"4/24/20\", \"4/25/20\", \"4/26/20\", \"4/27/20\", \"4/28/20\", \"4/29/20\", \"4/30/20\", \"5/1/20\", \"5/2/20\", \"5/3/20\", \"5/4/20\", \"5/5/20\", \"5/6/20\", \"5/7/20\", \"5/8/20\", \"5/9/20\", \"5/10/20\", \"5/11/20\", \"5/12/20\", \"5/13/20\", \"5/14/20\", \"5/15/20\", \"5/16/20\", \"5/17/20\", \"5/18/20\", \"5/19/20\", \"5/20/20\", \"5/21/20\", \"5/22/20\", \"5/23/20\", \"5/24/20\", \"5/25/20\", \"5/26/20\", \"5/27/20\", \"5/28/20\", \"5/29/20\", \"5/30/20\", \"5/31/20\", \"6/1/20\", \"6/2/20\", \"6/3/20\", \"6/4/20\", \"6/5/20\", \"6/6/20\", \"6/7/20\", \"6/8/20\", \"6/9/20\", \"6/10/20\", \"6/11/20\", \"6/12/20\", \"6/13/20\", \"6/14/20\", \"6/15/20\", \"6/16/20\", \"6/17/20\", \"6/18/20\", \"6/19/20\", \"6/20/20\", \"6/21/20\", \"6/22/20\", \"6/23/20\", \"6/24/20\", \"6/25/20\", \"6/26/20\", \"6/27/20\", \"6/28/20\", \"6/29/20\", \"6/30/20\", \"7/1/20\", \"7/2/20\", \"7/3/20\", \"7/4/20\", \"7/5/20\", \"7/6/20\", \"7/7/20\", \"7/8/20\", \"7/9/20\", \"7/10/20\", \"7/11/20\", \"7/12/20\", \"7/13/20\", \"7/14/20\", \"7/15/20\", \"7/16/20\", \"7/17/20\", \"7/18/20\", \"7/19/20\", \"7/20/20\", \"7/21/20\", \"7/22/20\", \"7/23/20\", \"7/24/20\", \"7/25/20\", \"7/26/20\", \"7/27/20\", \"7/28/20\", \"7/29/20\", \"7/30/20\", \"7/31/20\", \"8/1/20\", \"8/2/20\", \"8/3/20\", \"8/4/20\", \"8/5/20\", \"8/6/20\", \"8/7/20\", \"8/8/20\", \"8/9/20\", \"8/10/20\", \"8/11/20\", \"8/12/20\", \"8/13/20\", \"8/14/20\", \"8/15/20\", \"8/16/20\", \"8/17/20\", \"8/18/20\", \"8/19/20\", \"8/20/20\", \"8/21/20\", \"8/22/20\", \"8/23/20\", \"8/24/20\", \"8/25/20\", \"8/26/20\", \"8/27/20\", \"8/28/20\", \"8/29/20\", \"8/30/20\", \"8/31/20\", \"9/1/20\", \"9/2/20\", \"9/3/20\", \"9/4/20\", \"9/5/20\", \"9/6/20\", \"9/7/20\", \"9/8/20\", \"9/9/20\", \"9/10/20\", \"9/11/20\", \"9/12/20\", \"9/13/20\", \"9/14/20\", \"9/15/20\", \"9/16/20\", \"9/17/20\", \"9/18/20\", \"9/19/20\", \"9/20/20\", \"9/21/20\", \"9/22/20\", \"9/23/20\", \"9/24/20\", \"9/25/20\", \"9/26/20\", \"9/27/20\", \"9/28/20\", \"9/29/20\", \"9/30/20\", \"10/1/20\", \"10/2/20\", \"10/3/20\", \"10/4/20\", \"10/5/20\", \"10/6/20\", \"10/7/20\", \"10/8/20\", \"10/9/20\", \"10/10/20\", \"10/11/20\", \"10/12/20\", \"10/13/20\", \"10/14/20\", \"10/15/20\", \"10/16/20\", \"10/17/20\", \"10/18/20\", \"10/19/20\", \"10/20/20\", \"10/21/20\", \"10/22/20\", \"10/23/20\", \"10/24/20\", \"10/25/20\", \"10/26/20\", \"10/27/20\", \"10/28/20\", \"10/29/20\", \"10/30/20\", \"10/31/20\", \"11/1/20\", \"11/2/20\", \"11/3/20\", \"11/4/20\", \"11/5/20\", \"11/6/20\", \"11/7/20\", \"11/8/20\", \"11/9/20\", \"11/10/20\", \"11/11/20\", \"11/12/20\", \"11/13/20\", \"11/14/20\", \"11/15/20\", \"11/16/20\", \"11/17/20\", \"11/18/20\", \"11/19/20\", \"11/20/20\", \"11/21/20\", \"11/22/20\", \"11/23/20\", \"11/24/20\", \"11/25/20\", \"11/26/20\", \"11/27/20\", \"11/28/20\", \"11/29/20\", \"11/30/20\", \"12/1/20\", \"12/2/20\", \"12/3/20\", \"12/4/20\", \"12/5/20\", \"12/6/20\", \"12/7/20\", \"12/8/20\", \"12/9/20\", \"12/10/20\", \"12/11/20\", \"12/12/20\", \"12/13/20\", \"12/14/20\", \"12/15/20\", \"12/16/20\", \"12/17/20\", \"12/18/20\", \"12/19/20\", \"12/20/20\", \"12/21/20\", \"12/22/20\", \"12/23/20\", \"12/24/20\", \"12/25/20\", \"12/26/20\", \"12/27/20\", \"12/28/20\", \"12/29/20\", \"12/30/20\", \"12/31/20\", \"1/1/21\", \"1/2/21\", \"1/3/21\", \"1/4/21\", \"1/5/21\", \"1/6/21\", \"1/7/21\", \"1/8/21\", \"1/9/21\", \"1/10/21\", \"1/11/21\", \"1/12/21\", \"1/13/21\", \"1/14/21\", \"1/15/21\", \"1/16/21\", \"1/17/21\", \"1/18/21\", \"1/19/21\", \"1/20/21\", \"1/21/21\", \"1/22/21\", \"1/23/21\", \"1/24/21\", \"1/25/21\", \"1/26/21\", \"1/27/21\", \"1/28/21\", \"1/29/21\", \"1/30/21\", \"1/31/21\", \"2/1/21\", \"2/2/21\", \"2/3/21\", \"2/4/21\", \"2/5/21\", \"2/6/21\", \"2/7/21\", \"2/8/21\", \"2/9/21\", \"2/10/21\", \"2/11/21\", \"2/12/21\", \"2/13/21\", \"2/14/21\", \"2/15/21\", \"2/16/21\", \"2/17/21\", \"2/18/21\", \"2/19/21\", \"2/20/21\", \"2/21/21\", \"2/22/21\", \"2/23/21\"], \"xaxis\": \"x\", \"y\": [0, 0, 0, 0, 0, 0, 0, 0, 0, 0, 0, 0, 0, 0, 0, 0, 0, 0, 0, 0, 0, 0, 0, 0, 0, 0, 0, 0, 0, 0, 0, 0, 0, 0, 0, 1, 1, 1, 2, 2, 2, 2, 4, 4, 13, 13, 20, 25, 31, 38, 52, 151, 151, 162, 200, 321, 372, 621, 793, 1021, 1546, 1924, 2247, 2554, 2985, 3417, 3904, 4256, 4579, 5717, 6836, 8044, 9056, 10360, 11130, 12161, 14034, 16170, 18092, 19638, 20727, 22192, 23430, 25262, 28320, 30425, 33682, 36658, 38654, 40743, 43079, 45757, 50036, 54043, 59324, 63100, 67446, 73235, 79685, 87187, 92202, 97100, 101826, 108620, 115455, 126611, 135773, 146894, 156061, 162699, 169594, 178214, 190137, 203165, 220291, 233511, 241080, 255368, 271885, 291579, 310087, 330890, 347398, 363211, 374898, 391222, 411821, 438238, 465166, 498440, 514849, 526447, 555383, 584016, 614941, 645771, 672846, 691758, 707412, 739503, 772416, 802828, 828810, 850514, 867624, 888271, 923189, 955377, 978142, 1032913, 1067579, 1083341, 1106470, 1145906, 1188631, 1228114, 1274974, 1313667, 1344143, 1368195, 1402041, 1448753, 1496858, 1539081, 1577004, 1603055, 1623284, 1668589, 1713160, 1755779, 1800827, 1839850, 1864681, 1884967, 1926824, 1966748, 2012151, 2046328, 2074860, 2098389, 2118646, 2159654, 2227514, 2287475, 2343366, 2394513, 2419091, 2442375, 2483191, 2552265, 2610102, 2662485, 2707877, 2733677, 2750318, 2801921, 2859073, 2912212, 2962442, 3012412, 3035422, 3057470, 3109630, 3164785, 3224876, 3275520, 3317096, 3340197, 3359570, 3407354, 3456652, 3501975, 3532330, 3582362, 3605783, 3622861, 3669995, 3717156, 3761391, 3804803, 3846153, 3862311, 3908272, 3950931, 3997865, 4041638, 4091801, 4123000, 4137521, 4147794, 4162073, 4197889, 4238446, 4282164, 4315687, 4330455, 4345610, 4382263, 4419083, 4455386, 4495183, 4528240, 4544629, 4558040, 4591364, 4591364, 4657702, 4689613, 4717991, 4732309, 4745464, 4777522, 4810935, 4847092, 4847092, 4906833, 4915289, 4927235, 4969141, 5000694, 5028444, 5055888, 5082637, 5094979, 5103408, 5113628, 5140863, 5169386, 5200300, 5224362, 5224362, 5250727, 5273954, 5298772, 5323630, 5353656, 5380635, 5394128, 5409854, 5439641, 5468270, 5494376, 5516658, 5535605, 5545705, 5554206, 5566049, 5590025, 5590025, 5631181, 5653561, 5664115, 5675032, 5699005, 5747660, 5781582, 5810652, 5848959, 5863093, 5876464, 5911758, 5945849, 5981767, 6020164, 6052786, 6071401, 6087608, 6118708, 6166606, 6204220, 6238350, 6290272, 6314740, 6335878, 6386787, 6436650, 6487084, 6533968, 6577177, 6603540, 6623911, 6674999, 6728452, 6781799, 6836227, 6880127, 6901952, 6927145, 6970034, 7040608, 7110434, 7162978, 7213155, 7238600, 7263619, 7318821, 7365517, 7423945, 7448560, 7465806, 7484285, 7504833, 7563551, 7619200, 7675973, 7700578, 7716405, 7733746, 7753752, 7810400, 7873830, 7961673, 8013708, 8075998, 8105790, 8131612, 8195637, 8256536, 8324294, 8393492, 8455059, 8488099, 8511770, 8573864, 8638249, 8697368, 8753920, 8816254, 8844577, 8871393, 8933356, 8996876, 9058687, 9118513, 9176975, 9204731, 9229322, 9283418, 9339420, 9396293, 9447165, 9447165, 9524640, 9524640, 9599565, 9659167, 9713909, 9765455, 9809754, 9834513, 9866710, 9921981, 9978747, 10030626, 10084208, 10139148, 10168174, 10195160, 10257875], \"yaxis\": \"y\"}],                        {\"legend\": {\"title\": {\"text\": \"variable\"}, \"tracegroupgap\": 0}, \"template\": {\"data\": {\"bar\": [{\"error_x\": {\"color\": \"#2a3f5f\"}, \"error_y\": {\"color\": \"#2a3f5f\"}, \"marker\": {\"line\": {\"color\": \"#E5ECF6\", \"width\": 0.5}}, \"type\": \"bar\"}], \"barpolar\": [{\"marker\": {\"line\": {\"color\": \"#E5ECF6\", \"width\": 0.5}}, \"type\": \"barpolar\"}], \"carpet\": [{\"aaxis\": {\"endlinecolor\": \"#2a3f5f\", \"gridcolor\": \"white\", \"linecolor\": \"white\", \"minorgridcolor\": \"white\", \"startlinecolor\": \"#2a3f5f\"}, \"baxis\": {\"endlinecolor\": \"#2a3f5f\", \"gridcolor\": \"white\", \"linecolor\": \"white\", \"minorgridcolor\": \"white\", \"startlinecolor\": \"#2a3f5f\"}, \"type\": \"carpet\"}], \"choropleth\": [{\"colorbar\": {\"outlinewidth\": 0, \"ticks\": \"\"}, \"type\": \"choropleth\"}], \"contour\": [{\"colorbar\": {\"outlinewidth\": 0, \"ticks\": \"\"}, \"colorscale\": [[0.0, \"#0d0887\"], [0.1111111111111111, \"#46039f\"], [0.2222222222222222, \"#7201a8\"], [0.3333333333333333, \"#9c179e\"], [0.4444444444444444, \"#bd3786\"], [0.5555555555555556, \"#d8576b\"], [0.6666666666666666, \"#ed7953\"], [0.7777777777777778, \"#fb9f3a\"], [0.8888888888888888, \"#fdca26\"], [1.0, \"#f0f921\"]], \"type\": \"contour\"}], \"contourcarpet\": [{\"colorbar\": {\"outlinewidth\": 0, \"ticks\": \"\"}, \"type\": \"contourcarpet\"}], \"heatmap\": [{\"colorbar\": {\"outlinewidth\": 0, \"ticks\": \"\"}, \"colorscale\": [[0.0, \"#0d0887\"], [0.1111111111111111, \"#46039f\"], [0.2222222222222222, \"#7201a8\"], [0.3333333333333333, \"#9c179e\"], [0.4444444444444444, \"#bd3786\"], [0.5555555555555556, \"#d8576b\"], [0.6666666666666666, \"#ed7953\"], [0.7777777777777778, \"#fb9f3a\"], [0.8888888888888888, \"#fdca26\"], [1.0, \"#f0f921\"]], \"type\": \"heatmap\"}], \"heatmapgl\": [{\"colorbar\": {\"outlinewidth\": 0, \"ticks\": \"\"}, \"colorscale\": [[0.0, \"#0d0887\"], [0.1111111111111111, \"#46039f\"], [0.2222222222222222, \"#7201a8\"], [0.3333333333333333, \"#9c179e\"], [0.4444444444444444, \"#bd3786\"], [0.5555555555555556, \"#d8576b\"], [0.6666666666666666, \"#ed7953\"], [0.7777777777777778, \"#fb9f3a\"], [0.8888888888888888, \"#fdca26\"], [1.0, \"#f0f921\"]], \"type\": \"heatmapgl\"}], \"histogram\": [{\"marker\": {\"colorbar\": {\"outlinewidth\": 0, \"ticks\": \"\"}}, \"type\": \"histogram\"}], \"histogram2d\": [{\"colorbar\": {\"outlinewidth\": 0, \"ticks\": \"\"}, \"colorscale\": [[0.0, \"#0d0887\"], [0.1111111111111111, \"#46039f\"], [0.2222222222222222, \"#7201a8\"], [0.3333333333333333, \"#9c179e\"], [0.4444444444444444, \"#bd3786\"], [0.5555555555555556, \"#d8576b\"], [0.6666666666666666, \"#ed7953\"], [0.7777777777777778, \"#fb9f3a\"], [0.8888888888888888, \"#fdca26\"], [1.0, \"#f0f921\"]], \"type\": \"histogram2d\"}], \"histogram2dcontour\": [{\"colorbar\": {\"outlinewidth\": 0, \"ticks\": \"\"}, \"colorscale\": [[0.0, \"#0d0887\"], [0.1111111111111111, \"#46039f\"], [0.2222222222222222, \"#7201a8\"], [0.3333333333333333, \"#9c179e\"], [0.4444444444444444, \"#bd3786\"], [0.5555555555555556, \"#d8576b\"], [0.6666666666666666, \"#ed7953\"], [0.7777777777777778, \"#fb9f3a\"], [0.8888888888888888, \"#fdca26\"], [1.0, \"#f0f921\"]], \"type\": \"histogram2dcontour\"}], \"mesh3d\": [{\"colorbar\": {\"outlinewidth\": 0, \"ticks\": \"\"}, \"type\": \"mesh3d\"}], \"parcoords\": [{\"line\": {\"colorbar\": {\"outlinewidth\": 0, \"ticks\": \"\"}}, \"type\": \"parcoords\"}], \"pie\": [{\"automargin\": true, \"type\": \"pie\"}], \"scatter\": [{\"marker\": {\"colorbar\": {\"outlinewidth\": 0, \"ticks\": \"\"}}, \"type\": \"scatter\"}], \"scatter3d\": [{\"line\": {\"colorbar\": {\"outlinewidth\": 0, \"ticks\": \"\"}}, \"marker\": {\"colorbar\": {\"outlinewidth\": 0, \"ticks\": \"\"}}, \"type\": \"scatter3d\"}], \"scattercarpet\": [{\"marker\": {\"colorbar\": {\"outlinewidth\": 0, \"ticks\": \"\"}}, \"type\": \"scattercarpet\"}], \"scattergeo\": [{\"marker\": {\"colorbar\": {\"outlinewidth\": 0, \"ticks\": \"\"}}, \"type\": \"scattergeo\"}], \"scattergl\": [{\"marker\": {\"colorbar\": {\"outlinewidth\": 0, \"ticks\": \"\"}}, \"type\": \"scattergl\"}], \"scattermapbox\": [{\"marker\": {\"colorbar\": {\"outlinewidth\": 0, \"ticks\": \"\"}}, \"type\": \"scattermapbox\"}], \"scatterpolar\": [{\"marker\": {\"colorbar\": {\"outlinewidth\": 0, \"ticks\": \"\"}}, \"type\": \"scatterpolar\"}], \"scatterpolargl\": [{\"marker\": {\"colorbar\": {\"outlinewidth\": 0, \"ticks\": \"\"}}, \"type\": \"scatterpolargl\"}], \"scatterternary\": [{\"marker\": {\"colorbar\": {\"outlinewidth\": 0, \"ticks\": \"\"}}, \"type\": \"scatterternary\"}], \"surface\": [{\"colorbar\": {\"outlinewidth\": 0, \"ticks\": \"\"}, \"colorscale\": [[0.0, \"#0d0887\"], [0.1111111111111111, \"#46039f\"], [0.2222222222222222, \"#7201a8\"], [0.3333333333333333, \"#9c179e\"], [0.4444444444444444, \"#bd3786\"], [0.5555555555555556, \"#d8576b\"], [0.6666666666666666, \"#ed7953\"], [0.7777777777777778, \"#fb9f3a\"], [0.8888888888888888, \"#fdca26\"], [1.0, \"#f0f921\"]], \"type\": \"surface\"}], \"table\": [{\"cells\": {\"fill\": {\"color\": \"#EBF0F8\"}, \"line\": {\"color\": \"white\"}}, \"header\": {\"fill\": {\"color\": \"#C8D4E3\"}, \"line\": {\"color\": \"white\"}}, \"type\": \"table\"}]}, \"layout\": {\"annotationdefaults\": {\"arrowcolor\": \"#2a3f5f\", \"arrowhead\": 0, \"arrowwidth\": 1}, \"coloraxis\": {\"colorbar\": {\"outlinewidth\": 0, \"ticks\": \"\"}}, \"colorscale\": {\"diverging\": [[0, \"#8e0152\"], [0.1, \"#c51b7d\"], [0.2, \"#de77ae\"], [0.3, \"#f1b6da\"], [0.4, \"#fde0ef\"], [0.5, \"#f7f7f7\"], [0.6, \"#e6f5d0\"], [0.7, \"#b8e186\"], [0.8, \"#7fbc41\"], [0.9, \"#4d9221\"], [1, \"#276419\"]], \"sequential\": [[0.0, \"#0d0887\"], [0.1111111111111111, \"#46039f\"], [0.2222222222222222, \"#7201a8\"], [0.3333333333333333, \"#9c179e\"], [0.4444444444444444, \"#bd3786\"], [0.5555555555555556, \"#d8576b\"], [0.6666666666666666, \"#ed7953\"], [0.7777777777777778, \"#fb9f3a\"], [0.8888888888888888, \"#fdca26\"], [1.0, \"#f0f921\"]], \"sequentialminus\": [[0.0, \"#0d0887\"], [0.1111111111111111, \"#46039f\"], [0.2222222222222222, \"#7201a8\"], [0.3333333333333333, \"#9c179e\"], [0.4444444444444444, \"#bd3786\"], [0.5555555555555556, \"#d8576b\"], [0.6666666666666666, \"#ed7953\"], [0.7777777777777778, \"#fb9f3a\"], [0.8888888888888888, \"#fdca26\"], [1.0, \"#f0f921\"]]}, \"colorway\": [\"#636efa\", \"#EF553B\", \"#00cc96\", \"#ab63fa\", \"#FFA15A\", \"#19d3f3\", \"#FF6692\", \"#B6E880\", \"#FF97FF\", \"#FECB52\"], \"font\": {\"color\": \"#2a3f5f\"}, \"geo\": {\"bgcolor\": \"white\", \"lakecolor\": \"white\", \"landcolor\": \"#E5ECF6\", \"showlakes\": true, \"showland\": true, \"subunitcolor\": \"white\"}, \"hoverlabel\": {\"align\": \"left\"}, \"hovermode\": \"closest\", \"mapbox\": {\"style\": \"light\"}, \"paper_bgcolor\": \"white\", \"plot_bgcolor\": \"#E5ECF6\", \"polar\": {\"angularaxis\": {\"gridcolor\": \"white\", \"linecolor\": \"white\", \"ticks\": \"\"}, \"bgcolor\": \"#E5ECF6\", \"radialaxis\": {\"gridcolor\": \"white\", \"linecolor\": \"white\", \"ticks\": \"\"}}, \"scene\": {\"xaxis\": {\"backgroundcolor\": \"#E5ECF6\", \"gridcolor\": \"white\", \"gridwidth\": 2, \"linecolor\": \"white\", \"showbackground\": true, \"ticks\": \"\", \"zerolinecolor\": \"white\"}, \"yaxis\": {\"backgroundcolor\": \"#E5ECF6\", \"gridcolor\": \"white\", \"gridwidth\": 2, \"linecolor\": \"white\", \"showbackground\": true, \"ticks\": \"\", \"zerolinecolor\": \"white\"}, \"zaxis\": {\"backgroundcolor\": \"#E5ECF6\", \"gridcolor\": \"white\", \"gridwidth\": 2, \"linecolor\": \"white\", \"showbackground\": true, \"ticks\": \"\", \"zerolinecolor\": \"white\"}}, \"shapedefaults\": {\"line\": {\"color\": \"#2a3f5f\"}}, \"ternary\": {\"aaxis\": {\"gridcolor\": \"white\", \"linecolor\": \"white\", \"ticks\": \"\"}, \"baxis\": {\"gridcolor\": \"white\", \"linecolor\": \"white\", \"ticks\": \"\"}, \"bgcolor\": \"#E5ECF6\", \"caxis\": {\"gridcolor\": \"white\", \"linecolor\": \"white\", \"ticks\": \"\"}}, \"title\": {\"x\": 0.05}, \"xaxis\": {\"automargin\": true, \"gridcolor\": \"white\", \"linecolor\": \"white\", \"ticks\": \"\", \"title\": {\"standoff\": 15}, \"zerolinecolor\": \"white\", \"zerolinewidth\": 2}, \"yaxis\": {\"automargin\": true, \"gridcolor\": \"white\", \"linecolor\": \"white\", \"ticks\": \"\", \"title\": {\"standoff\": 15}, \"zerolinecolor\": \"white\", \"zerolinewidth\": 2}}}, \"title\": {\"text\": \"Casos e Mortes de Covid no Brasil Log\"}, \"xaxis\": {\"anchor\": \"y\", \"domain\": [0.0, 1.0], \"title\": {\"text\": \"Dias\"}}, \"yaxis\": {\"anchor\": \"x\", \"domain\": [0.0, 1.0], \"title\": {\"text\": \"Casos/Mortes\"}, \"type\": \"log\"}},                        {\"responsive\": true}                    ).then(function(){\n",
       "                            \n",
       "var gd = document.getElementById('83698bb0-6b48-432e-a883-6089c17748dc');\n",
       "var x = new MutationObserver(function (mutations, observer) {{\n",
       "        var display = window.getComputedStyle(gd).display;\n",
       "        if (!display || display === 'none') {{\n",
       "            console.log([gd, 'removed!']);\n",
       "            Plotly.purge(gd);\n",
       "            observer.disconnect();\n",
       "        }}\n",
       "}});\n",
       "\n",
       "// Listen for the removal of the full notebook cells\n",
       "var notebookContainer = gd.closest('#notebook-container');\n",
       "if (notebookContainer) {{\n",
       "    x.observe(notebookContainer, {childList: true});\n",
       "}}\n",
       "\n",
       "// Listen for the clearing of the current output cell\n",
       "var outputEl = gd.closest('.output');\n",
       "if (outputEl) {{\n",
       "    x.observe(outputEl, {childList: true});\n",
       "}}\n",
       "\n",
       "                        })                };                });            </script>        </div>"
      ]
     },
     "metadata": {},
     "output_type": "display_data"
    }
   ],
   "source": [
    "import pandas as pd\n",
    "import numpy as np\n",
    "%matplotlib inline\n",
    "\n",
    "#from plotly import __version__\n",
    "#from plotly.offline import download_plotlyjs, init_notebook_mode, plot, iplot\n",
    "\n",
    "#print(__version__)\n",
    "\n",
    "#import cufflinks as cf\n",
    "#init_notebook_mode(connected=True)\n",
    "#cf.go_offline()\n",
    "\n",
    "import seaborn as sns\n",
    "\n",
    "import plotly.express as px\n",
    "\n",
    "#Importação das Planilahs\n",
    "\n",
    "covid_casos = pd.read_csv(\"https://data.humdata.org/hxlproxy/api/data-preview.csv?url=https%3A%2F%2Fraw.githubusercontent.com%2FCSSEGISandData%2FCOVID-19%2Fmaster%2Fcsse_covid_19_data%2Fcsse_covid_19_time_series%2Ftime_series_covid19_confirmed_global.csv&filename=time_series_covid19_confirmed_global.csv\")\n",
    "covid_mortes = pd.read_csv(\"https://data.humdata.org/hxlproxy/api/data-preview.csv?url=https%3A%2F%2Fraw.githubusercontent.com%2FCSSEGISandData%2FCOVID-19%2Fmaster%2Fcsse_covid_19_data%2Fcsse_covid_19_time_series%2Ftime_series_covid19_deaths_global.csv&filename=time_series_covid19_deaths_global.csv\")\n",
    "\n",
    "#Tratamento dos dados de mortes\n",
    "\n",
    "covid_mortes_brasil = covid_mortes[covid_mortes[\"Country/Region\"] == \"Brazil\"]\n",
    "\n",
    "covid_mortes_brasil_t = covid_mortes_brasil.transpose()\n",
    "\n",
    "covid_mortes_brasil_t.reset_index(inplace=True)\n",
    "\n",
    "covid_mortes_brasil_t_d=covid_mortes_brasil_t.drop([0,1,2,3])\n",
    "\n",
    "covid_mortes_brasil_t_d_r = covid_mortes_brasil_t_d.rename(columns={\"index\": \"Dias\", 30: \"Mortes\"})\n",
    "\n",
    "#covid_mortes_brasil_t_d_r.plot.line(x=\"Dias\",y='Mortes',figsize=(12,3),lw=1)\n",
    "\n",
    "#Plotagem dos gráficos de mortes\n",
    "\n",
    "fig1 = px.line(covid_mortes_brasil_t_d_r, x=\"Dias\", y=\"Mortes\", title='Mortes por Covid no Brasil')\n",
    "fig1.show()\n",
    "\n",
    "fig2 = px.line(covid_mortes_brasil_t_d_r, x=\"Dias\", y=\"Mortes\", title='Mortes por Covid no Brasil Log', log_y=True)\n",
    "fig2.show()\n",
    "\n",
    "#Tratamento dos dados de casos\n",
    "\n",
    "covid_casos_brasil = covid_casos[covid_mortes[\"Country/Region\"] == \"Brazil\"]\n",
    "\n",
    "covid_casos_brasil_t = covid_casos_brasil.transpose()\n",
    "\n",
    "covid_casos_brasil_t.reset_index(inplace=True)\n",
    "\n",
    "covid_casos_brasil_t_d=covid_casos_brasil_t.drop([0,1,2,3])\n",
    "\n",
    "covid_casos_brasil_t_d_r = covid_casos_brasil_t_d.rename(columns={\"index\": \"Dias\", 30: \"Casos\"})\n",
    "\n",
    "#Plotagem do gráfico de casos\n",
    "\n",
    "fig3 = px.line(covid_casos_brasil_t_d_r, x=\"Dias\", y=\"Casos\", title='Casos de Covid no Brasil')\n",
    "fig3.show()\n",
    "\n",
    "fig4 = px.line(covid_casos_brasil_t_d_r, x=\"Dias\", y=\"Casos\", title='Casos de Covid no Brasil Log', log_y=True)\n",
    "fig4.show()\n",
    "\n",
    "#Junção de dados de mortes e casos\n",
    "\n",
    "Casos = covid_casos_brasil_t_d_r[\"Casos\"]\n",
    "covid_casos_mortes_brasil_t_d_r = covid_mortes_brasil_t_d_r.join(Casos)\n",
    "\n",
    "#Tratamento dos dados de mortes e casos\n",
    "\n",
    "covid_casos_mortes_brasil_t_d_r_m=pd.melt(covid_casos_mortes_brasil_t_d_r, id_vars=['Dias'], value_vars=['Mortes', 'Casos'])\n",
    "\n",
    "covid_casos_mortes_brasil_t_d_r_m_r = covid_casos_mortes_brasil_t_d_r_m.rename(columns={\"value\": \"Casos/Mortes\"})\n",
    "\n",
    "#Plotagem do gráfico de mortes e casos\n",
    "\n",
    "fig5 = px.line(covid_casos_mortes_brasil_t_d_r_m_r, x=\"Dias\", y=\"Casos/Mortes\",color=\"variable\", title='Casos e Mortes de Covid no Brasil')\n",
    "fig5.show()\n",
    "\n",
    "fig6 = px.line(covid_casos_mortes_brasil_t_d_r_m_r, x=\"Dias\", y=\"Casos/Mortes\",color=\"variable\", title='Casos e Mortes de Covid no Brasil Log', log_y=True)\n",
    "fig6.show()"
   ]
  },
  {
   "cell_type": "code",
   "execution_count": null,
   "metadata": {},
   "outputs": [],
   "source": []
  }
 ],
 "metadata": {
  "kernelspec": {
   "display_name": "Python 3",
   "language": "python",
   "name": "python3"
  },
  "language_info": {
   "codemirror_mode": {
    "name": "ipython",
    "version": 3
   },
   "file_extension": ".py",
   "mimetype": "text/x-python",
   "name": "python",
   "nbconvert_exporter": "python",
   "pygments_lexer": "ipython3",
   "version": "3.8.3"
  }
 },
 "nbformat": 4,
 "nbformat_minor": 4
}
